{
  "cells": [
    {
      "cell_type": "markdown",
      "metadata": {
        "id": "view-in-github",
        "colab_type": "text"
      },
      "source": [
        "<a href=\"https://colab.research.google.com/github/NiZhLi/ML-homework/blob/main/%E6%B7%B1%E5%BA%A6%E7%94%9F%E6%88%90%E6%A8%A1%E5%9E%8B.ipynb\" target=\"_parent\"><img src=\"https://colab.research.google.com/assets/colab-badge.svg\" alt=\"Open In Colab\"/></a>"
      ]
    },
    {
      "cell_type": "markdown",
      "metadata": {
        "id": "2W-X0yynMvMr"
      },
      "source": [
        "# 作業一"
      ]
    },
    {
      "cell_type": "code",
      "execution_count": null,
      "metadata": {
        "id": "meSyOU8Z0l8y"
      },
      "outputs": [],
      "source": [
        "def get_mnist():\n",
        "    # The code to download the mnist data original came from\n",
        "    # https://cntk.ai/pythondocs/CNTK_103A_MNIST_DataLoader.html\n",
        "\n",
        "    import gzip\n",
        "    import numpy as np\n",
        "    import os\n",
        "    import struct\n",
        "\n",
        "    from urllib.request import urlretrieve\n",
        "\n",
        "    def load_data(src, num_samples):\n",
        "        print(\"Downloading \" + src)\n",
        "        gzfname, h = urlretrieve(src, \"./delete.me\")\n",
        "        print(\"Done.\")\n",
        "        try:\n",
        "            with gzip.open(gzfname) as gz:\n",
        "                n = struct.unpack(\"I\", gz.read(4))\n",
        "                # Read magic number.\n",
        "                if n[0] != 0x3080000:\n",
        "                    raise Exception(\"Invalid file: unexpected magic number.\")\n",
        "                # Read number of entries.\n",
        "                n = struct.unpack(\">I\", gz.read(4))[0]\n",
        "                if n != num_samples:\n",
        "                    raise Exception(\n",
        "                        \"Invalid file: expected {0} entries.\".format(num_samples)\n",
        "                    )\n",
        "                crow = struct.unpack(\">I\", gz.read(4))[0]\n",
        "                ccol = struct.unpack(\">I\", gz.read(4))[0]\n",
        "                if crow != 28 or ccol != 28:\n",
        "                    raise Exception(\n",
        "                        \"Invalid file: expected 28 rows/cols per image.\"\n",
        "                    )\n",
        "                # Read data.\n",
        "                res = np.frombuffer(\n",
        "                    gz.read(num_samples * crow * ccol), dtype=np.uint8\n",
        "                )\n",
        "        finally:\n",
        "            os.remove(gzfname)\n",
        "        return res.reshape((num_samples, crow, ccol)) / 256\n",
        "\n",
        "\n",
        "    def load_labels(src, num_samples):\n",
        "        print(\"Downloading \" + src)\n",
        "        gzfname, h = urlretrieve(src, \"./delete.me\")\n",
        "        print(\"Done.\")\n",
        "        try:\n",
        "            with gzip.open(gzfname) as gz:\n",
        "                n = struct.unpack(\"I\", gz.read(4))\n",
        "                # Read magic number.\n",
        "                if n[0] != 0x1080000:\n",
        "                    raise Exception(\"Invalid file: unexpected magic number.\")\n",
        "                # Read number of entries.\n",
        "                n = struct.unpack(\">I\", gz.read(4))\n",
        "                if n[0] != num_samples:\n",
        "                    raise Exception(\n",
        "                        \"Invalid file: expected {0} rows.\".format(num_samples)\n",
        "                    )\n",
        "                # Read labels.\n",
        "                res = np.frombuffer(gz.read(num_samples), dtype=np.uint8)\n",
        "        finally:\n",
        "            os.remove(gzfname)\n",
        "        return res.reshape((num_samples))\n",
        "\n",
        "\n",
        "    def try_download(data_source, label_source, num_samples):\n",
        "        data = load_data(data_source, num_samples)\n",
        "        labels = load_labels(label_source, num_samples)\n",
        "        return data, labels\n",
        "\n",
        "    # Not sure why, but yann lecun's website does no longer support\n",
        "    # simple downloader. (e.g. urlretrieve and wget fail, while curl work)\n",
        "    # Since not everyone has linux, use a mirror from uni server.\n",
        "    #     server = 'http://yann.lecun.com/exdb/mnist'\n",
        "    server = 'https://raw.githubusercontent.com/fgnt/mnist/master'\n",
        "\n",
        "    # URLs for the train image and label data\n",
        "    url_train_image = f'{server}/train-images-idx3-ubyte.gz'\n",
        "    url_train_labels = f'{server}/train-labels-idx1-ubyte.gz'\n",
        "    num_train_samples = 60000\n",
        "\n",
        "    print(\"Downloading train data\")\n",
        "    train_features, train_labels = try_download(url_train_image, url_train_labels, num_train_samples)\n",
        "\n",
        "    # URLs for the test image and label data\n",
        "    url_test_image = f'{server}/t10k-images-idx3-ubyte.gz'\n",
        "    url_test_labels = f'{server}/t10k-labels-idx1-ubyte.gz'\n",
        "    num_test_samples = 10000\n",
        "\n",
        "    print(\"Downloading test data\")\n",
        "    test_features, test_labels = try_download(url_test_image, url_test_labels, num_test_samples)\n",
        "\n",
        "    return train_features, train_labels, test_features, test_labels\n"
      ]
    },
    {
      "cell_type": "code",
      "execution_count": null,
      "metadata": {
        "id": "ZNy3VpTP5drd"
      },
      "outputs": [],
      "source": [
        "import torch\n",
        "import torch.nn as nn\n",
        "import torch.optim as optim\n",
        "from torch.utils.data import DataLoader, TensorDataset\n",
        "import matplotlib.pyplot as plt\n",
        "\n",
        "# VAE model\n",
        "class VAE(nn.Module):\n",
        "    def __init__(self, input_dim=784, hidden_dim=400, latent_dim=20):\n",
        "        super(VAE, self).__init__()\n",
        "        # Encoder\n",
        "        self.fc1 = nn.Linear(input_dim, hidden_dim)\n",
        "        self.fc_mu = nn.Linear(hidden_dim, latent_dim)\n",
        "        self.fc_logvar = nn.Linear(hidden_dim, latent_dim)\n",
        "\n",
        "        # Decoder\n",
        "        self.fc2 = nn.Linear(latent_dim, hidden_dim)\n",
        "        self.fc3 = nn.Linear(hidden_dim, input_dim)\n",
        "\n",
        "    def encode(self, x):\n",
        "        h = torch.relu(self.fc1(x))\n",
        "        mu = self.fc_mu(h)\n",
        "        logvar = self.fc_logvar(h)\n",
        "        return mu, logvar\n",
        "\n",
        "    def reparameterize(self, mu, logvar):\n",
        "        std = torch.exp(0.5 * logvar)\n",
        "        eps = torch.randn_like(std)\n",
        "        return mu + eps * std\n",
        "\n",
        "    def decode(self, z):\n",
        "        h = torch.relu(self.fc2(z))\n",
        "        return torch.sigmoid(self.fc3(h))  # 範圍 [0,1]\n",
        "\n",
        "    def forward(self, x):\n",
        "        mu, logvar = self.encode(x)\n",
        "        z = self.reparameterize(mu, logvar)\n",
        "        recon = self.decode(z)\n",
        "        return recon, mu, logvar\n",
        "\n",
        "# 損失函數：重建誤差 + KL divergence\n",
        "def vae_loss(recon_x, x, mu, logvar):\n",
        "    BCE = nn.functional.binary_cross_entropy(recon_x, x, reduction=\"sum\")\n",
        "    KLD = -0.5 * torch.sum(1 + logvar - mu.pow(2) - logvar.exp())\n",
        "    return BCE + KLD"
      ]
    },
    {
      "cell_type": "code",
      "execution_count": null,
      "metadata": {
        "id": "_NhDGTrF5f6_"
      },
      "outputs": [],
      "source": [
        "def train_vae(train_features, test_features, epochs=10, batch_size=128, lr=1e-3):\n",
        "    device = \"cuda\" if torch.cuda.is_available() else \"cpu\"\n",
        "\n",
        "    # 建立 Dataset / DataLoader\n",
        "    train_data = torch.tensor(train_features, dtype=torch.float32).view(-1, 784)\n",
        "    test_data = torch.tensor(test_features, dtype=torch.float32).view(-1, 784)\n",
        "    train_loader = DataLoader(TensorDataset(train_data), batch_size=batch_size, shuffle=True)\n",
        "\n",
        "    # 初始化模型\n",
        "    model = VAE().to(device)\n",
        "    optimizer = optim.Adam(model.parameters(), lr=lr)\n",
        "\n",
        "    # 訓練迴圈\n",
        "    for epoch in range(1, epochs + 1):\n",
        "        model.train()\n",
        "        train_loss = 0\n",
        "        for batch in train_loader:\n",
        "            x = batch[0].to(device)\n",
        "            optimizer.zero_grad()\n",
        "            recon, mu, logvar = model(x)\n",
        "            loss = vae_loss(recon, x, mu, logvar)\n",
        "            loss.backward()\n",
        "            train_loss += loss.item()\n",
        "            optimizer.step()\n",
        "\n",
        "        avg_loss = train_loss / len(train_loader.dataset)\n",
        "        print(f\"Epoch {epoch}, Avg Loss: {avg_loss:.4f}\")\n",
        "\n",
        "    # 測試並顯示重建效果\n",
        "    model.eval()\n",
        "    with torch.no_grad():\n",
        "        test_batch = test_data[:8].to(device)\n",
        "        recon_batch, _, _ = model(test_batch)\n",
        "\n",
        "    fig, axes = plt.subplots(2, 8, figsize=(12, 3))\n",
        "    for i in range(8):\n",
        "        axes[0, i].imshow(test_batch[i].cpu().view(28, 28), cmap=\"gray\")\n",
        "        axes[0, i].axis(\"off\")\n",
        "        axes[1, i].imshow(recon_batch[i].cpu().view(28, 28), cmap=\"gray\")\n",
        "        axes[1, i].axis(\"off\")\n",
        "    plt.show()\n"
      ]
    },
    {
      "cell_type": "code",
      "execution_count": null,
      "metadata": {
        "colab": {
          "base_uri": "https://localhost:8080/"
        },
        "id": "4K-TLJow5hRI",
        "outputId": "750cdcad-024e-489f-bff2-e30f1f0c8553"
      },
      "outputs": [
        {
          "name": "stdout",
          "output_type": "stream",
          "text": [
            "Downloading train data\n",
            "Downloading https://raw.githubusercontent.com/fgnt/mnist/master/train-images-idx3-ubyte.gz\n",
            "Done.\n",
            "Downloading https://raw.githubusercontent.com/fgnt/mnist/master/train-labels-idx1-ubyte.gz\n",
            "Done.\n",
            "Downloading test data\n",
            "Downloading https://raw.githubusercontent.com/fgnt/mnist/master/t10k-images-idx3-ubyte.gz\n",
            "Done.\n",
            "Downloading https://raw.githubusercontent.com/fgnt/mnist/master/t10k-labels-idx1-ubyte.gz\n",
            "Done.\n",
            "Epoch 1, Avg Loss: 165.4803\n",
            "Epoch 2, Avg Loss: 122.5858\n",
            "Epoch 3, Avg Loss: 115.3563\n",
            "Epoch 4, Avg Loss: 112.2845\n",
            "Epoch 5, Avg Loss: 110.5022\n",
            "Epoch 6, Avg Loss: 109.3759\n",
            "Epoch 7, Avg Loss: 108.4941\n",
            "Epoch 8, Avg Loss: 107.8451\n",
            "Epoch 9, Avg Loss: 107.3995\n",
            "Epoch 10, Avg Loss: 106.9695\n"
          ]
        },
        {
          "data": {
            "image/png": "[encoded data removed]",
            "text/plain": [
              "<Figure size 1200x300 with 16 Axes>"
            ]
          },
          "metadata": {},
          "output_type": "display_data"
        }
      ],
      "source": [
        "train_features, train_labels, test_features, test_labels = get_mnist()\n",
        "train_vae(train_features, test_features, epochs=10)"
      ]
    },
    {
      "cell_type": "markdown",
      "metadata": {
        "id": "YBo1aUmUM0VH"
      },
      "source": [
        "# 作業二"
      ]
    },
    {
      "cell_type": "markdown",
      "metadata": {
        "id": "PGcOSKCkQTFf"
      },
      "source": [
        "## VAE"
      ]
    },
    {
      "cell_type": "code",
      "execution_count": null,
      "metadata": {
        "colab": {
          "base_uri": "https://localhost:8080/",
          "height": 749
        },
        "id": "oTeL7oN5OCHH",
        "outputId": "6986500c-3c72-4d5d-b60c-8200ce68be85"
      },
      "outputs": [
        {
          "name": "stderr",
          "output_type": "stream",
          "text": [
            "100%|██████████| 9.91M/9.91M [00:00<00:00, 17.8MB/s]\n",
            "100%|██████████| 28.9k/28.9k [00:00<00:00, 481kB/s]\n",
            "100%|██████████| 1.65M/1.65M [00:00<00:00, 4.49MB/s]\n",
            "100%|██████████| 4.54k/4.54k [00:00<00:00, 3.24MB/s]\n"
          ]
        },
        {
          "name": "stdout",
          "output_type": "stream",
          "text": [
            "Epoch [1/30] Loss: 165.6817\n",
            "Epoch [2/30] Loss: 121.8054\n",
            "Epoch [3/30] Loss: 114.8626\n",
            "Epoch [4/30] Loss: 111.9616\n",
            "Epoch [5/30] Loss: 110.1205\n",
            "Epoch [6/30] Loss: 108.9645\n",
            "Epoch [7/30] Loss: 108.1110\n",
            "Epoch [8/30] Loss: 107.4610\n",
            "Epoch [9/30] Loss: 106.8871\n",
            "Epoch [10/30] Loss: 106.4715\n",
            "Epoch [11/30] Loss: 106.1059\n",
            "Epoch [12/30] Loss: 105.7801\n",
            "Epoch [13/30] Loss: 105.5475\n",
            "Epoch [14/30] Loss: 105.2672\n",
            "Epoch [15/30] Loss: 105.0512\n",
            "Epoch [16/30] Loss: 104.8593\n",
            "Epoch [17/30] Loss: 104.6260\n",
            "Epoch [18/30] Loss: 104.4972\n",
            "Epoch [19/30] Loss: 104.3295\n",
            "Epoch [20/30] Loss: 104.2407\n",
            "Epoch [21/30] Loss: 104.0871\n",
            "Epoch [22/30] Loss: 103.9238\n",
            "Epoch [23/30] Loss: 103.7849\n",
            "Epoch [24/30] Loss: 103.7048\n",
            "Epoch [25/30] Loss: 103.5804\n",
            "Epoch [26/30] Loss: 103.4759\n",
            "Epoch [27/30] Loss: 103.4056\n",
            "Epoch [28/30] Loss: 103.2898\n",
            "Epoch [29/30] Loss: 103.1843\n",
            "Epoch [30/30] Loss: 103.1419\n"
          ]
        },
        {
          "data": {
            "image/png": "[encoded data removed]",
            "text/plain": [
              "<Figure size 1500x200 with 10 Axes>"
            ]
          },
          "metadata": {},
          "output_type": "display_data"
        }
      ],
      "source": [
        "import torch\n",
        "import torch.nn as nn\n",
        "import torch.nn.functional as F\n",
        "import torch.optim as optim\n",
        "from torchvision import datasets, transforms\n",
        "from torch.utils.data import DataLoader\n",
        "import matplotlib.pyplot as plt\n",
        "import numpy as np\n",
        "import random\n",
        "\n",
        "# 固定隨機種子\n",
        "seed = 42\n",
        "torch.manual_seed(seed)\n",
        "np.random.seed(seed)\n",
        "random.seed(seed)\n",
        "\n",
        "# ========== Dataset ==========\n",
        "transform = transforms.Compose([\n",
        "    transforms.ToTensor(),  # 轉為 tensor (0~1)\n",
        "])\n",
        "train_dataset = datasets.MNIST(root=\"./data\", train=True, transform=transform, download=True)\n",
        "train_loader = DataLoader(train_dataset, batch_size=128, shuffle=True)\n",
        "\n",
        "# ========== VAE Model ==========\n",
        "class VAE(nn.Module):\n",
        "    def __init__(self, input_dim=28*28, hidden_dim=400, latent_dim=20):\n",
        "        super(VAE, self).__init__()\n",
        "        # Encoder\n",
        "        self.fc1 = nn.Linear(input_dim, hidden_dim)\n",
        "        self.fc_mu = nn.Linear(hidden_dim, latent_dim)\n",
        "        self.fc_logvar = nn.Linear(hidden_dim, latent_dim)\n",
        "\n",
        "        # Decoder\n",
        "        self.fc2 = nn.Linear(latent_dim, hidden_dim)\n",
        "        self.fc3 = nn.Linear(hidden_dim, input_dim)\n",
        "\n",
        "    def encode(self, x):\n",
        "        h = F.relu(self.fc1(x))\n",
        "        mu = self.fc_mu(h)\n",
        "        logvar = self.fc_logvar(h)\n",
        "        return mu, logvar\n",
        "\n",
        "    def reparameterize(self, mu, logvar):\n",
        "        std = torch.exp(0.5 * logvar)\n",
        "        eps = torch.randn_like(std)\n",
        "        return mu + eps * std\n",
        "\n",
        "    def decode(self, z):\n",
        "        h = F.relu(self.fc2(z))\n",
        "        return torch.sigmoid(self.fc3(h))\n",
        "\n",
        "    def forward(self, x):\n",
        "        mu, logvar = self.encode(x)\n",
        "        z = self.reparameterize(mu, logvar)\n",
        "        recon = self.decode(z)\n",
        "        return recon, mu, logvar\n",
        "\n",
        "# ========== Loss Function ==========\n",
        "def vae_loss(recon_x, x, mu, logvar):\n",
        "    BCE = F.binary_cross_entropy(recon_x, x, reduction=\"sum\")\n",
        "    # KLD = -0.5 * sum(1 + log(sigma^2) - mu^2 - sigma^2)\n",
        "    KLD = -0.5 * torch.sum(1 + logvar - mu.pow(2) - logvar.exp())\n",
        "    return BCE + KLD\n",
        "\n",
        "# ========== Training ==========\n",
        "device = torch.device(\"cuda\" if torch.cuda.is_available() else \"cpu\")\n",
        "model = VAE().to(device)\n",
        "optimizer = optim.Adam(model.parameters(), lr=1e-3)\n",
        "\n",
        "epochs = 30\n",
        "model.train()\n",
        "for epoch in range(1, epochs + 1):\n",
        "    train_loss = 0\n",
        "    for batch_idx, (data, _) in enumerate(train_loader):\n",
        "        data = data.view(-1, 28*28).to(device)\n",
        "        optimizer.zero_grad()\n",
        "        recon_batch, mu, logvar = model(data)\n",
        "        loss = vae_loss(recon_batch, data, mu, logvar)\n",
        "        loss.backward()\n",
        "        train_loss += loss.item()\n",
        "        optimizer.step()\n",
        "    print(f\"Epoch [{epoch}/{epochs}] Loss: {train_loss / len(train_loader.dataset):.4f}\")\n",
        "\n",
        "# ========== 生成影像 ==========\n",
        "model.eval()\n",
        "with torch.no_grad():\n",
        "    z = torch.randn(10, 20).to(device)  # 從標準正態分布取樣\n",
        "    samples = model.decode(z).cpu().view(-1, 1, 28, 28)\n",
        "\n",
        "# 畫出 10 張隨機影像\n",
        "fig, axes = plt.subplots(1, 10, figsize=(15, 2))\n",
        "for i in range(10):\n",
        "    axes[i].imshow(samples[i].squeeze(), cmap=\"gray\")\n",
        "    axes[i].axis(\"off\")\n",
        "plt.show()\n"
      ]
    },
    {
      "cell_type": "markdown",
      "metadata": {
        "id": "v54MT6cWQXIS"
      },
      "source": [
        "## GAN"
      ]
    },
    {
      "cell_type": "code",
      "execution_count": null,
      "metadata": {
        "colab": {
          "base_uri": "https://localhost:8080/",
          "height": 677
        },
        "id": "TY_fT3zBQP02",
        "outputId": "ec2d591e-9d8c-42af-cf33-52343858176e"
      },
      "outputs": [
        {
          "name": "stdout",
          "output_type": "stream",
          "text": [
            "Epoch [1/30]  Loss D: 0.3273, Loss G: 1.4967\n",
            "Epoch [2/30]  Loss D: 0.5485, Loss G: 3.1309\n",
            "Epoch [3/30]  Loss D: 0.6237, Loss G: 5.4888\n",
            "Epoch [4/30]  Loss D: 0.3461, Loss G: 4.0478\n",
            "Epoch [5/30]  Loss D: 0.6434, Loss G: 0.4086\n",
            "Epoch [6/30]  Loss D: 0.2127, Loss G: 2.0082\n",
            "Epoch [7/30]  Loss D: 0.3308, Loss G: 3.6673\n",
            "Epoch [8/30]  Loss D: 0.2963, Loss G: 1.9299\n",
            "Epoch [9/30]  Loss D: 0.1841, Loss G: 2.9166\n",
            "Epoch [10/30]  Loss D: 0.2170, Loss G: 2.0011\n",
            "Epoch [11/30]  Loss D: 0.2657, Loss G: 2.2948\n",
            "Epoch [12/30]  Loss D: 0.2003, Loss G: 2.2353\n",
            "Epoch [13/30]  Loss D: 0.5317, Loss G: 4.5382\n",
            "Epoch [14/30]  Loss D: 0.3111, Loss G: 1.7656\n",
            "Epoch [15/30]  Loss D: 0.4015, Loss G: 2.2370\n",
            "Epoch [16/30]  Loss D: 0.3385, Loss G: 1.7224\n",
            "Epoch [17/30]  Loss D: 0.3833, Loss G: 1.3480\n",
            "Epoch [18/30]  Loss D: 0.4228, Loss G: 1.4350\n",
            "Epoch [19/30]  Loss D: 0.4753, Loss G: 1.8591\n",
            "Epoch [20/30]  Loss D: 0.4170, Loss G: 1.7245\n",
            "Epoch [21/30]  Loss D: 0.5025, Loss G: 0.8342\n",
            "Epoch [22/30]  Loss D: 0.4527, Loss G: 1.3836\n",
            "Epoch [23/30]  Loss D: 0.6517, Loss G: 2.5064\n",
            "Epoch [24/30]  Loss D: 0.5138, Loss G: 0.8489\n",
            "Epoch [25/30]  Loss D: 0.5251, Loss G: 1.9212\n",
            "Epoch [26/30]  Loss D: 0.5691, Loss G: 2.1851\n",
            "Epoch [27/30]  Loss D: 0.5027, Loss G: 1.4874\n",
            "Epoch [28/30]  Loss D: 0.4535, Loss G: 1.5364\n",
            "Epoch [29/30]  Loss D: 0.4912, Loss G: 1.3382\n",
            "Epoch [30/30]  Loss D: 0.6581, Loss G: 2.7668\n"
          ]
        },
        {
          "data": {
            "image/png": "[encoded data removed]",
            "text/plain": [
              "<Figure size 1500x200 with 10 Axes>"
            ]
          },
          "metadata": {},
          "output_type": "display_data"
        }
      ],
      "source": [
        "import torch\n",
        "import torch.nn as nn\n",
        "import torch.optim as optim\n",
        "from torchvision import datasets, transforms\n",
        "from torch.utils.data import DataLoader\n",
        "import matplotlib.pyplot as plt\n",
        "import numpy as np\n",
        "import random\n",
        "\n",
        "# 固定隨機種子\n",
        "seed = 42\n",
        "torch.manual_seed(seed)\n",
        "np.random.seed(seed)\n",
        "random.seed(seed)\n",
        "\n",
        "# ========== Dataset ==========\n",
        "transform = transforms.Compose([\n",
        "    transforms.ToTensor(),\n",
        "    transforms.Normalize([0.5], [0.5])  # 將 MNIST 正規化到 [-1, 1]\n",
        "])\n",
        "train_dataset = datasets.MNIST(root=\"./data\", train=True, transform=transform, download=True)\n",
        "train_loader = DataLoader(train_dataset, batch_size=128, shuffle=True)\n",
        "\n",
        "# ========== Generator ==========\n",
        "class Generator(nn.Module):\n",
        "    def __init__(self, z_dim=100, hidden_dim=256, img_dim=28*28):\n",
        "        super(Generator, self).__init__()\n",
        "        self.model = nn.Sequential(\n",
        "            nn.Linear(z_dim, hidden_dim),\n",
        "            nn.LeakyReLU(0.2, inplace=True),\n",
        "            nn.Linear(hidden_dim, hidden_dim*2),\n",
        "            nn.LeakyReLU(0.2, inplace=True),\n",
        "            nn.Linear(hidden_dim*2, img_dim),\n",
        "            nn.Tanh()  # 輸出範圍 [-1, 1]\n",
        "        )\n",
        "\n",
        "    def forward(self, z):\n",
        "        return self.model(z)\n",
        "\n",
        "# ========== Discriminator ==========\n",
        "class Discriminator(nn.Module):\n",
        "    def __init__(self, img_dim=28*28, hidden_dim=256):\n",
        "        super(Discriminator, self).__init__()\n",
        "        self.model = nn.Sequential(\n",
        "            nn.Linear(img_dim, hidden_dim*2),\n",
        "            nn.LeakyReLU(0.2, inplace=True),\n",
        "            nn.Linear(hidden_dim*2, hidden_dim),\n",
        "            nn.LeakyReLU(0.2, inplace=True),\n",
        "            nn.Linear(hidden_dim, 1),\n",
        "            nn.Sigmoid()  # 輸出真假機率\n",
        "        )\n",
        "\n",
        "    def forward(self, x):\n",
        "        return self.model(x)\n",
        "\n",
        "# ========== 初始化 ==========\n",
        "device = torch.device(\"cuda\" if torch.cuda.is_available() else \"cpu\")\n",
        "z_dim = 100\n",
        "generator = Generator(z_dim=z_dim).to(device)\n",
        "discriminator = Discriminator().to(device)\n",
        "\n",
        "# Loss & Optimizer\n",
        "criterion = nn.BCELoss()\n",
        "lr = 2e-4\n",
        "opt_gen = optim.Adam(generator.parameters(), lr=lr, betas=(0.5, 0.999))\n",
        "opt_disc = optim.Adam(discriminator.parameters(), lr=lr, betas=(0.5, 0.999))\n",
        "\n",
        "# ========== Training ==========\n",
        "epochs = 30\n",
        "for epoch in range(1, epochs+1):\n",
        "    for real, _ in train_loader:\n",
        "        real = real.view(-1, 28*28).to(device)\n",
        "        batch_size = real.size(0)\n",
        "\n",
        "        ### 訓練判別器 ###\n",
        "        noise = torch.randn(batch_size, z_dim).to(device)\n",
        "        fake = generator(noise)\n",
        "\n",
        "        disc_real = discriminator(real).view(-1)\n",
        "        lossD_real = criterion(disc_real, torch.ones_like(disc_real))  # 真圖 label=1\n",
        "\n",
        "        disc_fake = discriminator(fake.detach()).view(-1)\n",
        "        lossD_fake = criterion(disc_fake, torch.zeros_like(disc_fake))  # 假圖 label=0\n",
        "\n",
        "        lossD = (lossD_real + lossD_fake) / 2\n",
        "\n",
        "        opt_disc.zero_grad()\n",
        "        lossD.backward()\n",
        "        opt_disc.step()\n",
        "\n",
        "        ### 訓練生成器 ###\n",
        "        output = discriminator(fake).view(-1)\n",
        "        lossG = criterion(output, torch.ones_like(output))  # 生成器希望騙過 D → label=1\n",
        "\n",
        "        opt_gen.zero_grad()\n",
        "        lossG.backward()\n",
        "        opt_gen.step()\n",
        "\n",
        "    print(f\"Epoch [{epoch}/{epochs}]  Loss D: {lossD:.4f}, Loss G: {lossG:.4f}\")\n",
        "\n",
        "# ========== 生成影像 ==========\n",
        "generator.eval()\n",
        "with torch.no_grad():\n",
        "    z = torch.randn(10, z_dim).to(device)\n",
        "    samples = generator(z).cpu().view(-1, 1, 28, 28)\n",
        "\n",
        "# 顯示 10 張隨機影像\n",
        "fig, axes = plt.subplots(1, 10, figsize=(15, 2))\n",
        "for i in range(10):\n",
        "    axes[i].imshow(samples[i].squeeze()*0.5+0.5, cmap=\"gray\")  # 轉回 [0,1]\n",
        "    axes[i].axis(\"off\")\n",
        "plt.show()\n"
      ]
    },
    {
      "cell_type": "markdown",
      "metadata": {
        "id": "6FTciJTMU7tp"
      },
      "source": [
        "## cGAN"
      ]
    },
    {
      "cell_type": "code",
      "execution_count": null,
      "metadata": {
        "colab": {
          "base_uri": "https://localhost:8080/",
          "height": 1000
        },
        "id": "tOpeQbWtU534",
        "outputId": "e0b9b84e-6d76-4a6b-862c-49a57117f04e"
      },
      "outputs": [
        {
          "name": "stdout",
          "output_type": "stream",
          "text": [
            "Epoch [1/30] Loss D: 0.3098, Loss G: 2.8375\n",
            "Epoch [2/30] Loss D: 0.2903, Loss G: 2.2413\n",
            "Epoch [3/30] Loss D: 0.3106, Loss G: 3.3844\n",
            "Epoch [4/30] Loss D: 0.2636, Loss G: 3.1954\n",
            "Epoch [5/30] Loss D: 0.5817, Loss G: 7.3992\n",
            "Epoch [6/30] Loss D: 0.3000, Loss G: 1.9382\n",
            "Epoch [7/30] Loss D: 0.3375, Loss G: 3.5798\n",
            "Epoch [8/30] Loss D: 0.2436, Loss G: 3.3848\n",
            "Epoch [9/30] Loss D: 0.2826, Loss G: 4.0361\n",
            "Epoch [10/30] Loss D: 0.3890, Loss G: 1.5149\n",
            "Epoch [11/30] Loss D: 0.3202, Loss G: 3.1729\n",
            "Epoch [12/30] Loss D: 0.4138, Loss G: 1.4792\n",
            "Epoch [13/30] Loss D: 0.3958, Loss G: 1.6504\n",
            "Epoch [14/30] Loss D: 0.4331, Loss G: 2.7381\n",
            "Epoch [15/30] Loss D: 0.4246, Loss G: 1.5212\n",
            "Epoch [16/30] Loss D: 0.4205, Loss G: 2.6423\n",
            "Epoch [17/30] Loss D: 0.4187, Loss G: 1.9681\n",
            "Epoch [18/30] Loss D: 0.4963, Loss G: 2.1031\n",
            "Epoch [19/30] Loss D: 0.4500, Loss G: 1.8180\n",
            "Epoch [20/30] Loss D: 0.4813, Loss G: 1.2414\n",
            "Epoch [21/30] Loss D: 0.5017, Loss G: 1.8820\n",
            "Epoch [22/30] Loss D: 0.5302, Loss G: 1.6154\n",
            "Epoch [23/30] Loss D: 0.4717, Loss G: 1.6533\n",
            "Epoch [24/30] Loss D: 0.5699, Loss G: 1.6102\n",
            "Epoch [25/30] Loss D: 0.5433, Loss G: 1.5070\n",
            "Epoch [26/30] Loss D: 0.5454, Loss G: 1.8729\n",
            "Epoch [27/30] Loss D: 0.5725, Loss G: 1.1905\n",
            "Epoch [28/30] Loss D: 0.6040, Loss G: 0.7889\n",
            "Epoch [29/30] Loss D: 0.5650, Loss G: 0.8722\n",
            "Epoch [30/30] Loss D: 0.5889, Loss G: 2.2678\n"
          ]
        },
        {
          "data": {
            "image/png": "[encoded data removed]",
            "text/plain": [
              "<Figure size 1200x1200 with 100 Axes>"
            ]
          },
          "metadata": {},
          "output_type": "display_data"
        }
      ],
      "source": [
        "import torch\n",
        "import torch.nn as nn\n",
        "import torch.optim as optim\n",
        "from torchvision import datasets, transforms\n",
        "from torch.utils.data import DataLoader\n",
        "import matplotlib.pyplot as plt\n",
        "import numpy as np\n",
        "import random\n",
        "\n",
        "# 固定隨機種子\n",
        "seed = 42\n",
        "torch.manual_seed(seed)\n",
        "np.random.seed(seed)\n",
        "random.seed(seed)\n",
        "\n",
        "# ========== Dataset ==========\n",
        "transform = transforms.Compose([\n",
        "    transforms.ToTensor(),\n",
        "    transforms.Normalize([0.5], [0.5])  # [-1, 1]\n",
        "])\n",
        "train_dataset = datasets.MNIST(root=\"./data\", train=True, transform=transform, download=True)\n",
        "train_loader = DataLoader(train_dataset, batch_size=128, shuffle=True)\n",
        "\n",
        "# ========== cGAN 模型 ==========\n",
        "class Generator(nn.Module):\n",
        "    def __init__(self, z_dim=100, num_classes=10, img_dim=28*28, hidden_dim=256):\n",
        "        super(Generator, self).__init__()\n",
        "        self.model = nn.Sequential(\n",
        "            nn.Linear(z_dim + num_classes, hidden_dim),\n",
        "            nn.LeakyReLU(0.2, inplace=True),\n",
        "            nn.Linear(hidden_dim, hidden_dim*2),\n",
        "            nn.LeakyReLU(0.2, inplace=True),\n",
        "            nn.Linear(hidden_dim*2, img_dim),\n",
        "            nn.Tanh()\n",
        "        )\n",
        "\n",
        "    def forward(self, z, labels):\n",
        "        # labels: one-hot\n",
        "        x = torch.cat([z, labels], dim=1)\n",
        "        return self.model(x)\n",
        "\n",
        "\n",
        "class Discriminator(nn.Module):\n",
        "    def __init__(self, num_classes=10, img_dim=28*28, hidden_dim=256):\n",
        "        super(Discriminator, self).__init__()\n",
        "        self.model = nn.Sequential(\n",
        "            nn.Linear(img_dim + num_classes, hidden_dim*2),\n",
        "            nn.LeakyReLU(0.2, inplace=True),\n",
        "            nn.Linear(hidden_dim*2, hidden_dim),\n",
        "            nn.LeakyReLU(0.2, inplace=True),\n",
        "            nn.Linear(hidden_dim, 1),\n",
        "            nn.Sigmoid()\n",
        "        )\n",
        "\n",
        "    def forward(self, img, labels):\n",
        "        x = torch.cat([img, labels], dim=1)\n",
        "        return self.model(x)\n",
        "\n",
        "# One-hot 編碼\n",
        "def one_hot(labels, num_classes=10):\n",
        "    return torch.eye(num_classes)[labels]\n",
        "\n",
        "# ========== 初始化 ==========\n",
        "device = torch.device(\"cuda\" if torch.cuda.is_available() else \"cpu\")\n",
        "z_dim = 100\n",
        "generator = Generator(z_dim=z_dim).to(device)\n",
        "discriminator = Discriminator().to(device)\n",
        "\n",
        "criterion = nn.BCELoss()\n",
        "lr = 2e-4\n",
        "opt_gen = optim.Adam(generator.parameters(), lr=lr, betas=(0.5, 0.999))\n",
        "opt_disc = optim.Adam(discriminator.parameters(), lr=lr, betas=(0.5, 0.999))\n",
        "\n",
        "# ========== Training ==========\n",
        "epochs = 30\n",
        "for epoch in range(1, epochs+1):\n",
        "    for real, labels in train_loader:\n",
        "        real = real.view(-1, 28*28).to(device)\n",
        "        labels = one_hot(labels).to(device)\n",
        "        batch_size = real.size(0)\n",
        "\n",
        "        ### 訓練 Discriminator ###\n",
        "        noise = torch.randn(batch_size, z_dim).to(device)\n",
        "        fake = generator(noise, labels)\n",
        "\n",
        "        disc_real = discriminator(real, labels).view(-1)\n",
        "        # label smoothing: 真樣本的 target 從 1.0 改為 0.9\n",
        "        lossD_real = criterion(disc_real, torch.ones_like(disc_real) * 0.9)\n",
        "\n",
        "        disc_fake = discriminator(fake.detach(), labels).view(-1)\n",
        "        lossD_fake = criterion(disc_fake, torch.zeros_like(disc_fake))\n",
        "\n",
        "        lossD = (lossD_real + lossD_fake) / 2\n",
        "\n",
        "        opt_disc.zero_grad()\n",
        "        lossD.backward()\n",
        "        opt_disc.step()\n",
        "\n",
        "        ### 訓練 Generator ###\n",
        "        output = discriminator(fake, labels).view(-1)\n",
        "        lossG = criterion(output, torch.ones_like(output))  # 生成器希望判斷為真\n",
        "\n",
        "        opt_gen.zero_grad()\n",
        "        lossG.backward()\n",
        "        opt_gen.step()\n",
        "\n",
        "    print(f\"Epoch [{epoch}/{epochs}] Loss D: {lossD:.4f}, Loss G: {lossG:.4f}\")\n",
        "\n",
        "# ========== 生成 0–9 各 10 張影像 ==========\n",
        "generator.eval()\n",
        "num_classes = 10\n",
        "n_samples_per_class = 10\n",
        "with torch.no_grad():\n",
        "    z = torch.randn(num_classes * n_samples_per_class, z_dim).to(device)\n",
        "    labels = torch.arange(num_classes).repeat_interleave(n_samples_per_class)\n",
        "    labels = one_hot(labels, num_classes=num_classes).to(device)\n",
        "\n",
        "    samples = generator(z, labels).cpu().view(-1, 1, 28, 28)\n",
        "\n",
        "# ========== 畫 10×10 圖格 ==========\n",
        "fig, axes = plt.subplots(num_classes, n_samples_per_class, figsize=(12, 12))\n",
        "idx = 0\n",
        "for i in range(num_classes):\n",
        "    for j in range(n_samples_per_class):\n",
        "        axes[i, j].imshow(samples[idx].squeeze()*0.5+0.5, cmap=\"gray\")  # 轉回 [0,1]\n",
        "        axes[i, j].axis(\"off\")\n",
        "        idx += 1\n",
        "plt.tight_layout()\n",
        "plt.show()\n"
      ]
    },
    {
      "cell_type": "markdown",
      "metadata": {
        "id": "MbU7Dq4-Y2bM"
      },
      "source": [
        "## Diffusion"
      ]
    },
    {
      "cell_type": "code",
      "source": [
        "!pip install torchinfo"
      ],
      "metadata": {
        "colab": {
          "base_uri": "https://localhost:8080/"
        },
        "id": "KbLY2prlIN9k",
        "outputId": "5a842d94-b695-4512-b6c7-a86e14878861"
      },
      "execution_count": null,
      "outputs": [
        {
          "output_type": "stream",
          "name": "stdout",
          "text": [
            "Collecting torchinfo\n",
            "  Downloading torchinfo-1.8.0-py3-none-any.whl.metadata (21 kB)\n",
            "Downloading torchinfo-1.8.0-py3-none-any.whl (23 kB)\n",
            "Installing collected packages: torchinfo\n",
            "Successfully installed torchinfo-1.8.0\n"
          ]
        }
      ]
    },
    {
      "cell_type": "code",
      "source": [
        "import torch\n",
        "\n",
        "print(\"GPU name:\", torch.cuda.get_device_name(), '\\n')\n",
        "device = 'cuda' if torch.cuda.is_available() else 'cpu'\n",
        "print('Device is:', device, '\\n')\n",
        "print('Total number of GPUs:', torch.cuda.device_count())"
      ],
      "metadata": {
        "colab": {
          "base_uri": "https://localhost:8080/"
        },
        "id": "3ngyVNpp74Fs",
        "outputId": "be93845c-9158-4c09-d212-b938085bf66f"
      },
      "execution_count": null,
      "outputs": [
        {
          "output_type": "stream",
          "name": "stdout",
          "text": [
            "GPU name: Tesla T4 \n",
            "\n",
            "Device is: cuda \n",
            "\n",
            "Total number of GPUs: 1\n"
          ]
        }
      ]
    },
    {
      "cell_type": "code",
      "execution_count": null,
      "metadata": {
        "id": "pvD_PB9lKNlv",
        "colab": {
          "base_uri": "https://localhost:8080/"
        },
        "outputId": "3311b65b-bf2b-40ea-8b2b-57438a408a67"
      },
      "outputs": [
        {
          "metadata": {
            "tags": null
          },
          "name": "stderr",
          "output_type": "stream",
          "text": [
            "100%|██████████| 9.91M/9.91M [00:00<00:00, 12.9MB/s]\n",
            "100%|██████████| 28.9k/28.9k [00:00<00:00, 346kB/s]\n",
            "100%|██████████| 1.65M/1.65M [00:00<00:00, 3.24MB/s]\n",
            "100%|██████████| 4.54k/4.54k [00:00<00:00, 14.1MB/s]\n",
            "100%|██████████| 937/937 [03:56<00:00,  3.96it/s]\n",
            "100%|██████████| 156/156 [00:15<00:00,  9.93it/s]\n"
          ]
        },
        {
          "metadata": {
            "tags": null
          },
          "name": "stdout",
          "output_type": "stream",
          "text": [
            "Epoch: 1/20\t| Training loss: 0.0583 |   Test loss: 0.0298\n"
          ]
        },
        {
          "metadata": {
            "tags": null
          },
          "name": "stderr",
          "output_type": "stream",
          "text": [
            "100%|██████████| 937/937 [04:07<00:00,  3.79it/s]\n",
            "100%|██████████| 156/156 [00:15<00:00,  9.87it/s]\n"
          ]
        },
        {
          "metadata": {
            "tags": null
          },
          "name": "stdout",
          "output_type": "stream",
          "text": [
            "Epoch: 2/20\t| Training loss: 0.0277 |   Test loss: 0.0243\n"
          ]
        },
        {
          "metadata": {
            "tags": null
          },
          "name": "stderr",
          "output_type": "stream",
          "text": [
            "100%|██████████| 937/937 [04:07<00:00,  3.78it/s]\n",
            "100%|██████████| 156/156 [00:16<00:00,  9.65it/s]\n"
          ]
        },
        {
          "metadata": {
            "tags": null
          },
          "name": "stdout",
          "output_type": "stream",
          "text": [
            "Epoch: 3/20\t| Training loss: 0.0237 |   Test loss: 0.0216\n"
          ]
        },
        {
          "metadata": {
            "tags": null
          },
          "name": "stderr",
          "output_type": "stream",
          "text": [
            "100%|██████████| 937/937 [04:07<00:00,  3.78it/s]\n",
            "100%|██████████| 156/156 [00:15<00:00,  9.84it/s]\n"
          ]
        },
        {
          "metadata": {
            "tags": null
          },
          "name": "stdout",
          "output_type": "stream",
          "text": [
            "Epoch: 4/20\t| Training loss: 0.0213 |   Test loss: 0.0214\n"
          ]
        },
        {
          "metadata": {
            "tags": null
          },
          "name": "stderr",
          "output_type": "stream",
          "text": [
            "100%|██████████| 937/937 [04:07<00:00,  3.79it/s]\n",
            "100%|██████████| 156/156 [00:16<00:00,  9.61it/s]\n"
          ]
        },
        {
          "metadata": {
            "tags": null
          },
          "name": "stdout",
          "output_type": "stream",
          "text": [
            "Epoch: 5/20\t| Training loss: 0.0203 |   Test loss: 0.0187\n"
          ]
        },
        {
          "metadata": {
            "tags": null
          },
          "name": "stderr",
          "output_type": "stream",
          "text": [
            "100%|██████████| 937/937 [04:07<00:00,  3.79it/s]\n",
            "100%|██████████| 156/156 [00:15<00:00,  9.76it/s]\n"
          ]
        },
        {
          "metadata": {
            "tags": null
          },
          "name": "stdout",
          "output_type": "stream",
          "text": [
            "Epoch: 6/20\t| Training loss: 0.0192 |   Test loss: 0.0194\n"
          ]
        },
        {
          "metadata": {
            "tags": null
          },
          "name": "stderr",
          "output_type": "stream",
          "text": [
            "100%|██████████| 937/937 [04:07<00:00,  3.78it/s]\n",
            "100%|██████████| 156/156 [00:16<00:00,  9.66it/s]\n"
          ]
        },
        {
          "metadata": {
            "tags": null
          },
          "name": "stdout",
          "output_type": "stream",
          "text": [
            "Epoch: 7/20\t| Training loss: 0.0186 |   Test loss: 0.0180\n"
          ]
        },
        {
          "metadata": {
            "tags": null
          },
          "name": "stderr",
          "output_type": "stream",
          "text": [
            "100%|██████████| 937/937 [04:07<00:00,  3.78it/s]\n",
            "100%|██████████| 156/156 [00:15<00:00,  9.81it/s]\n"
          ]
        },
        {
          "metadata": {
            "tags": null
          },
          "name": "stdout",
          "output_type": "stream",
          "text": [
            "Epoch: 8/20\t| Training loss: 0.0182 |   Test loss: 0.0171\n"
          ]
        },
        {
          "metadata": {
            "tags": null
          },
          "name": "stderr",
          "output_type": "stream",
          "text": [
            "100%|██████████| 937/937 [04:07<00:00,  3.79it/s]\n",
            "100%|██████████| 156/156 [00:15<00:00,  9.77it/s]\n"
          ]
        },
        {
          "metadata": {
            "tags": null
          },
          "name": "stdout",
          "output_type": "stream",
          "text": [
            "Epoch: 9/20\t| Training loss: 0.0177 |   Test loss: 0.0170\n"
          ]
        },
        {
          "metadata": {
            "tags": null
          },
          "name": "stderr",
          "output_type": "stream",
          "text": [
            "100%|██████████| 937/937 [04:07<00:00,  3.79it/s]\n",
            "100%|██████████| 156/156 [00:15<00:00,  9.82it/s]\n"
          ]
        },
        {
          "metadata": {
            "tags": null
          },
          "name": "stdout",
          "output_type": "stream",
          "text": [
            "Epoch: 10/20\t| Training loss: 0.0174 |   Test loss: 0.0174\n"
          ]
        },
        {
          "metadata": {
            "tags": null
          },
          "name": "stderr",
          "output_type": "stream",
          "text": [
            "100%|██████████| 937/937 [04:07<00:00,  3.79it/s]\n",
            "100%|██████████| 156/156 [00:15<00:00,  9.79it/s]\n"
          ]
        },
        {
          "metadata": {
            "tags": null
          },
          "name": "stdout",
          "output_type": "stream",
          "text": [
            "Epoch: 11/20\t| Training loss: 0.0171 |   Test loss: 0.0178\n"
          ]
        },
        {
          "metadata": {
            "tags": null
          },
          "name": "stderr",
          "output_type": "stream",
          "text": [
            "100%|██████████| 937/937 [04:07<00:00,  3.79it/s]\n",
            "100%|██████████| 156/156 [00:15<00:00,  9.83it/s]\n"
          ]
        },
        {
          "metadata": {
            "tags": null
          },
          "name": "stdout",
          "output_type": "stream",
          "text": [
            "Epoch: 12/20\t| Training loss: 0.0168 |   Test loss: 0.0163\n"
          ]
        },
        {
          "metadata": {
            "tags": null
          },
          "name": "stderr",
          "output_type": "stream",
          "text": [
            "100%|██████████| 937/937 [04:07<00:00,  3.79it/s]\n",
            "100%|██████████| 156/156 [00:15<00:00,  9.77it/s]\n"
          ]
        },
        {
          "metadata": {
            "tags": null
          },
          "name": "stdout",
          "output_type": "stream",
          "text": [
            "Epoch: 13/20\t| Training loss: 0.0170 |   Test loss: 0.0165\n"
          ]
        },
        {
          "output_type": "stream",
          "name": "stderr",
          "text": [
            " 12%|█▏        | 110/937 [00:28<03:37,  3.79it/s]"
          ]
        }
      ],
      "source": [
        "import torch\n",
        "import torch.nn as nn\n",
        "import torch.nn.functional as F\n",
        "import torch.optim as optim\n",
        "from torchvision import datasets, transforms\n",
        "from torch.utils.data import DataLoader\n",
        "import matplotlib.pyplot as plt\n",
        "import numpy as np\n",
        "import random\n",
        "\n",
        "from torchvision.utils import make_grid\n",
        "from tqdm import tqdm\n",
        "from torchinfo import summary\n",
        "\n",
        "\n",
        "# ========== (reference:randomaccess2023)this model will be delete after the course is done ============\n",
        "\n",
        "\n",
        "transform = transforms.Compose([transforms.Resize((32, 32)),\n",
        "                                transforms.ToTensor(),\n",
        "                                transforms.Normalize(mean=(0.5,), std=(0.5,))])\n",
        "\n",
        "training_dataset = datasets.MNIST(root='./data_src', train=True, download=True, transform=transform)\n",
        "test_dataset = datasets.MNIST(root='./data_src', train=False, download=True, transform=transform)\n",
        "\n",
        "\n",
        "training_dataloader = DataLoader(training_dataset, batch_size=64, shuffle=True, drop_last=True)\n",
        "test_dataloader = DataLoader(test_dataset, batch_size=64, shuffle=False, drop_last=True)\n",
        "\n",
        "class Linear_Variance_Scheduler:\n",
        "    def __init__(self, time_steps, beta_start, beta_end, device='cuda'):\n",
        "\n",
        "        self.time_steps = time_steps\n",
        "        self.beta_start = beta_start\n",
        "        self.beta_end = beta_end\n",
        "        self.device = device\n",
        "\n",
        "        self.betas = torch.linspace(self.beta_start, self.beta_end, self.time_steps).to(self.device)\n",
        "        self.alphas = 1 - self.betas\n",
        "        self.alpha_bar = torch.cumprod(self.alphas, dim=0)\n",
        "        self.sqrt_alpha_bar = torch.sqrt(self.alpha_bar)\n",
        "        self.sqrt_one_minus_alpha_bar = torch.sqrt(1 - self.alpha_bar)\n",
        "\n",
        "    def diffusion_process(self, x, noise, t):\n",
        "        sqrt_alpha_bar = self.sqrt_alpha_bar[t][:, None, None, None]\n",
        "        sqrt_one_minus_alpha_bar = self.sqrt_one_minus_alpha_bar[t][:, None, None, None]\n",
        "        return sqrt_alpha_bar * x + sqrt_one_minus_alpha_bar * noise\n",
        "\n",
        "    def ddpm_sampling(self, model, num_samples, channels, img_size):\n",
        "        model.eval()\n",
        "        with torch.inference_mode():\n",
        "            x = torch.randn((num_samples, channels, img_size, img_size)).to(self.device)\n",
        "            collect = []\n",
        "            for i in tqdm(reversed(range(self.time_steps))):\n",
        "                t = (torch.ones(num_samples) * i).long().to(self.device)\n",
        "                pred_noise = model(x, t)\n",
        "                alphas = self.alphas[t][:, None, None, None]\n",
        "                alpha_bar = self.alpha_bar[t][:, None, None, None]\n",
        "                betas = self.betas[t][:, None, None, None]\n",
        "                if i > 1:\n",
        "                    noise = torch.randn_like(x)\n",
        "                else:\n",
        "                    noise = torch.zeros_like(x)\n",
        "                x = 1 / torch.sqrt(alphas) * (x - ((1 - alphas) / (torch.sqrt(1 - alpha_bar))) * pred_noise) +\\\n",
        "                    torch.sqrt(betas) * noise\n",
        "                if (i+1) % 100 == 0 or i==0:\n",
        "                    collect.append(x)\n",
        "        return x, collect\n",
        "\n",
        "t_step = torch.linspace(start=0, end=1000-1, steps=11).long()\n",
        "get_img = training_dataset[0][0]\n",
        "\n",
        "get_img_stack = torch.stack([get_img]*11)\n",
        "get_noise_stack = torch.randn_like(get_img_stack)\n",
        "\n",
        "noisy_img_stack = Linear_Variance_Scheduler(time_steps=1000, beta_start=0.0001, beta_end=0.02,\n",
        "                                            device='cpu').diffusion_process(get_img_stack, get_noise_stack, t_step)\n",
        "\n",
        "class ResBlock(nn.Module):\n",
        "    def __init__(self, inp_ch, out_ch, mid_ch=None, residual=False):\n",
        "        super(ResBlock, self).__init__()\n",
        "\n",
        "        self.residual = residual\n",
        "        if not mid_ch:\n",
        "            mid_ch = out_ch\n",
        "        self.resnet_conv = nn.Sequential()\n",
        "        self.resnet_conv.add_module('conv1', nn.Conv2d(in_channels=inp_ch, out_channels=mid_ch, kernel_size=3, stride=1,\n",
        "                                                       padding=1))\n",
        "        self.resnet_conv.add_module('gnor1', nn.GroupNorm(num_groups=8, num_channels=mid_ch))\n",
        "        self.resnet_conv.add_module('silu1', nn.SiLU())\n",
        "        self.resnet_conv.add_module('conv2', nn.Conv2d(in_channels=mid_ch, out_channels=out_ch, kernel_size=3, stride=1,\n",
        "                                                       padding=1))\n",
        "        self.resnet_conv.add_module('gnor2', nn.GroupNorm(num_groups=8, num_channels=out_ch))\n",
        "\n",
        "    def forward(self, x):\n",
        "        if self.residual:\n",
        "            return x + self.resnet_conv(x)\n",
        "        else:\n",
        "            return self.resnet_conv(x)\n",
        "\n",
        "class SelfAttentionBlock(nn.Module):\n",
        "    def __init__(self, channels):\n",
        "        super(SelfAttentionBlock, self).__init__()\n",
        "\n",
        "        self.attn_norm = nn.GroupNorm(num_groups=8, num_channels=channels)\n",
        "        self.mha = nn.MultiheadAttention(embed_dim=channels, num_heads=4, batch_first=True)\n",
        "\n",
        "    def forward(self, x):\n",
        "        b, c, h, w = x.shape\n",
        "        inp_attn = x.reshape(b, c, h*w)\n",
        "        inp_attn = self.attn_norm(inp_attn)\n",
        "        inp_attn = inp_attn.transpose(1, 2)\n",
        "        out_attn, _ = self.mha(inp_attn, inp_attn, inp_attn)\n",
        "        out_attn = out_attn.transpose(1, 2).reshape(b, c, h, w)\n",
        "        return x + out_attn\n",
        "\n",
        "class DownBlock(nn.Module):\n",
        "    def __init__(self, inp_ch, out_ch, t_emb_dim=256):\n",
        "        super(DownBlock, self).__init__()\n",
        "\n",
        "        self.down = nn.Sequential(\n",
        "            nn.MaxPool2d(kernel_size=2, stride=2),\n",
        "            ResBlock(inp_ch=inp_ch, out_ch=inp_ch, residual=True),\n",
        "            ResBlock(inp_ch=inp_ch, out_ch=out_ch)\n",
        "        )\n",
        "\n",
        "        self.t_emb_layers = nn.Sequential()\n",
        "        self.t_emb_layers.add_module('silu1', nn.SiLU())\n",
        "        self.t_emb_layers.add_module('linr1', nn.Linear(in_features=t_emb_dim, out_features=out_ch))\n",
        "\n",
        "    def forward(self, x, t):\n",
        "        x = self.down(x)\n",
        "        t_emb = self.t_emb_layers(t)[:, :, None, None].repeat(1, 1, x.shape[2], x.shape[3])\n",
        "        return x + t_emb\n",
        "\n",
        "class UpBlock(nn.Module):\n",
        "    def __init__(self, inp_ch, out_ch, t_emb_dim=256):\n",
        "        super(UpBlock, self).__init__()\n",
        "\n",
        "        self.upsamp = nn.UpsamplingBilinear2d(scale_factor=2)\n",
        "        self.up = nn.Sequential(\n",
        "            ResBlock(inp_ch=inp_ch, out_ch=inp_ch, residual=True),\n",
        "            ResBlock(inp_ch=inp_ch, out_ch=out_ch, mid_ch=inp_ch//2)\n",
        "        )\n",
        "\n",
        "        self.t_emb_layers = nn.Sequential()\n",
        "        self.t_emb_layers.add_module('silu1', nn.SiLU())\n",
        "        self.t_emb_layers.add_module('linr1', nn.Linear(in_features=t_emb_dim, out_features=out_ch))\n",
        "\n",
        "    def forward(self, x, skip, t):\n",
        "        x = self.upsamp(x)\n",
        "        x = torch.cat([skip, x], dim=1)\n",
        "        x = self.up(x)\n",
        "        t_emb = self.t_emb_layers(t)[:, :, None, None].repeat(1, 1, x.shape[2], x.shape[3])\n",
        "        return x + t_emb\n",
        "\n",
        "class UNet(nn.Module):\n",
        "    def __init__(self, t_emb_dim, device='cuda'):\n",
        "        super(UNet, self).__init__()\n",
        "\n",
        "        self.device = device\n",
        "        self.t_emb_dim = t_emb_dim\n",
        "\n",
        "        self.inp = ResBlock(inp_ch=1, out_ch=64)\n",
        "        self.down1 = DownBlock(inp_ch=64, out_ch=128)\n",
        "        self.sa1 = SelfAttentionBlock(channels=128)\n",
        "        self.down2 = DownBlock(inp_ch=128, out_ch=256)\n",
        "        self.sa2 = SelfAttentionBlock(channels=256)\n",
        "        self.down3 = DownBlock(inp_ch=256, out_ch=256)\n",
        "        self.sa3 = SelfAttentionBlock(channels=256)\n",
        "\n",
        "        self.lat1 = ResBlock(inp_ch=256, out_ch=512)\n",
        "        self.lat2 = ResBlock(inp_ch=512, out_ch=512)\n",
        "        self.lat3 = ResBlock(inp_ch=512, out_ch=256)\n",
        "\n",
        "        self.up1 = UpBlock(inp_ch=512, out_ch=128)\n",
        "        self.sa4 = SelfAttentionBlock(channels=128)\n",
        "        self.up2 = UpBlock(inp_ch=256, out_ch=64)\n",
        "        self.sa5 = SelfAttentionBlock(channels=64)\n",
        "        self.up3 = UpBlock(inp_ch=128, out_ch=64)\n",
        "        self.sa6 = SelfAttentionBlock(channels=64)\n",
        "\n",
        "        self.out = nn.Conv2d(in_channels=64, out_channels=1, kernel_size=1)\n",
        "\n",
        "    def position_embeddings(self, t, channels):\n",
        "        i = 1 / (10000 ** (torch.arange(start=0, end=channels, step=2, device=self.device) / channels))\n",
        "        pos_emb_sin = torch.sin(t.repeat(1, channels//2) * i)\n",
        "        pos_emb_cos = torch.cos(t.repeat(1, channels//2) * i)\n",
        "        pos_emb = torch.cat([pos_emb_sin, pos_emb_cos], dim=-1)\n",
        "        return pos_emb\n",
        "\n",
        "    def forward(self, x, t):\n",
        "        t = t.unsqueeze(1).float()\n",
        "        t = self.position_embeddings(t, self.t_emb_dim)\n",
        "\n",
        "        x1 = self.inp(x)\n",
        "        x2 = self.down1(x1, t)\n",
        "        x2 = self.sa1(x2)\n",
        "        x3 = self.down2(x2, t)\n",
        "        x3 = self.sa2(x3)\n",
        "        x4 = self.down3(x3, t)\n",
        "        x4 = self.sa3(x4)\n",
        "\n",
        "        x4 = self.lat1(x4)\n",
        "        x4 = self.lat2(x4)\n",
        "        x4 = self.lat3(x4)\n",
        "\n",
        "        x = self.up1(x4, x3, t)\n",
        "        x = self.sa4(x)\n",
        "        x = self.up2(x, x2, t)\n",
        "        x = self.sa5(x)\n",
        "        x = self.up3(x, x1, t)\n",
        "        x = self.sa6(x)\n",
        "        output = self.out(x)\n",
        "        return output\n",
        "\n",
        "\n",
        "ddpm = Linear_Variance_Scheduler(time_steps=1000, beta_start=0.0001, beta_end=0.02)\n",
        "model = UNet(t_emb_dim=256).to(device)\n",
        "criterion = nn.MSELoss()\n",
        "optimizer = optim.Adam(model.parameters(), lr=0.0001)\n",
        "\n",
        "torch.manual_seed(42)\n",
        "torch.cuda.manual_seed(42)\n",
        "torch.cuda.manual_seed_all(42)\n",
        "np.random.seed(42)\n",
        "\n",
        "n_epochs = 20\n",
        "training_loss, test_loss = [], []\n",
        "\n",
        "for epoch in range(n_epochs):\n",
        "    training_losses, test_losses = [], []\n",
        "\n",
        "    for data, _ in tqdm(training_dataloader):\n",
        "        model.train()\n",
        "        data = data.to(device)\n",
        "        t = torch.randint(low=0, high=1000, size=(data.shape[0],)).to(device)\n",
        "        noise = torch.randn_like(data)\n",
        "        xt = ddpm.diffusion_process(x=data, noise=noise, t=t)\n",
        "        pred_noise = model(xt, t)\n",
        "        trng_batch_loss = criterion(noise, pred_noise)\n",
        "        optimizer.zero_grad()\n",
        "        trng_batch_loss.backward()\n",
        "        optimizer.step()\n",
        "        training_losses.append(trng_batch_loss.item())\n",
        "    training_per_epoch_loss = np.array(training_losses).mean()\n",
        "\n",
        "    with torch.inference_mode():\n",
        "        for data, _ in tqdm(test_dataloader):\n",
        "            model.eval()\n",
        "            data = data.to(device)\n",
        "            t = torch.randint(low=0, high=1000, size=(data.shape[0],)).to(device)\n",
        "            noise = torch.randn_like(data)\n",
        "            xt = ddpm.diffusion_process(x=data, noise=noise, t=t)\n",
        "            pred_noise = model(xt, t)\n",
        "            tst_batch_loss = criterion(noise, pred_noise)\n",
        "            test_losses.append(tst_batch_loss.item())\n",
        "        test_per_epoch_loss = np.array(test_losses).mean()\n",
        "\n",
        "    training_loss.append(training_per_epoch_loss)\n",
        "    test_loss.append(test_per_epoch_loss)\n",
        "\n",
        "    print(f'Epoch: {epoch+1}/{n_epochs}\\t| Training loss: {training_per_epoch_loss:.4f} |   ', end='')\n",
        "    print(f'Test loss: {test_per_epoch_loss:.4f}')\n",
        "\n",
        "\n"
      ]
    },
    {
      "cell_type": "code",
      "source": [
        "gen_imgs, _ = ddpm.ddpm_sampling(model, num_samples=10, channels=1, img_size=32)\n",
        "gen_imgs = gen_imgs[:, :, 2:30, 2:30]\n",
        "\n",
        "# 顯示\n",
        "fig, axes = plt.subplots(1, 10, figsize=(15,2))\n",
        "for i in range(10):\n",
        "    axes[i].imshow(gen_imgs[i].squeeze().cpu().numpy(), cmap=\"gray\")\n",
        "    axes[i].axis(\"off\")\n",
        "plt.show()"
      ],
      "metadata": {
        "id": "JJnzKOgpDt8G"
      },
      "execution_count": null,
      "outputs": []
    },
    {
      "cell_type": "markdown",
      "source": [
        "![image.png](data:image/png;base64,iVBORw0KGgoAAAANSUhEUgAABPUAAACSCAYAAAAtmf8FAAAAAXNSR0IArs4c6QAAAARnQU1BAACxjwv8YQUAAAAJcEhZcwAADsMAAA7DAcdvqGQAAJ/sSURBVHhe7b15lJTVtff/raquoat6nke6gYYGmkFBEFBQhCgRExKMErx5HXLj1fUmMcOb4Rp+Ga6J8RrzmuXNpNckGpOYa3zjlBghoqggiiggc0PTdNNNz2P1VNVVXfX7g+dszzlVXdVFD1TD/qy11+rz7Kef4czPqbP3NgWDwSAYhmEYhmEYhmEYhmEYhpk0mPUDDMMwDMMwDMMwDMMwDMPEN7yoxzAMwzAMwzAMwzAMwzCTDF7UYxiGYRiGYRiGYRiGYZhJxqRf1Kt7cgNKS0ux+N7t8OpKhok3+rbj24tLUVq2AU/V6EqGYRiGYRiGYRiGYZiRMckX9eqw5c97AQCtf34Bu3T1uLMdXyktRaksX9+un8QwH/HOC3imFYB/L57aWqdrxwTvS3ejtHQFflqpa2Jg21fUel1aijWPjc/zMgzDMAzDMAzDMAwTO6GLen1V2PLDDVhcWorS6x7HsJ/x3jpsuXcd5pcZH/3lK3D3Y3vh9usnAt6aLfj2J+fT4kD51Xfj8T1u/TQAgHvP47j76nI6d/4nv40tNcPtwSvG2k0Lz/71r7dhua6WOPzkLVgz/9s4X0tuI34vvxt7H7sbK8qNfC2bj3X3bkFdmFNjw4vWd57CV1afve5Xtul6gRt7n/wK1s3/6P5r7nocezv088aJmsexRl8oHXbB1Iu6l+/HLZSv5Vix6X5sadROOxeitoMwC7q6hDwvgGWfwsZsACnLced1xbr2I448hVtWz8e3hy2n4WjFM09sAS69E7eV6zqGYRiGYRiGYRiGYS4UPlrU6ziMZ+5dh/KKNbj7t3vRqpym4a/C4zetwN1/PvzRIp63Dlse2IArv7UdynLdycex4eq78cyBj456a7bg/puuxFe2qQt77m1fwZU33a8sdrkPPIO7r96Ax08qpxLFtz+Hmpoa7PjuQth1pUTLgV2ocnv0w2NC2b07UFNTc1YeXqWrY3gvN7Z/60pseEBaxPO7cfjPd2PFTY+jKsyCaXS8qHvjp7h7WTkWb/oeXhwmH8/ixvavX4kNP3gRh0XR+N2o2no/Nlz9FWwPvw57nnBj+9cXY8UXH8cuylcv6t55HHcvuwXPnOvCXizt4FxwrcKDe2pQc+BpbCzVlRINH2DXSTdirrGVv8fj+4C1d2xEtq6LhTWPfFSn39iMMl3PMAzDMAzDMAzDMMx5hRb19v7XBnz7z4fhTVmOzc8+iPXqeQp1v70b9x8AUlZsxtN7KlFTU4MDz27G8hTA/dxX8NM9dCYe/9/34zBSsPzep7GnsgY1VQfw3L3LkQI3Xvz6T7FXLFT1bcd3v/gi3CjGxl9uQ2VVDWoqd+DRm4oBHMb9/98zY7/AMhHE8F7ebd/F3c+5gdKNePS1s/la+cajZxd/DtyP7z17DjnQ+gK+ffsvsKURKL7pUTzx9QjLM+/89Oz953+JyrWmcg+e/t8VgPtFfO83Vfp/jBvrf2MsKMmiLJimoLi8DBWbHsTL4lkPv4xvzAeAXfjFn8/tWUfeDlbhEf35DNnzwHIAdqy/PtLe0fFh1x8eR539Vtx6faQlboZhGIZhGIZhGIZhJju0qLdw3a1YuOlR7NjzNO5cnKOepXAYz/ymCrCvxyOP3onl2WcXD1IW34knHl4PO9x45uWzfu5w4Bn8dyVg3/AInrhrObLtABJSsPCuJ/DIBjvgfgYv7Dt7qve1p/CiFyi792k8uK4M9gQA9mKsfehpbC4H8M6LeJ3WtMKYPoYzdZT8gt3xHAC8iDu0/xtvP2Ejfy8vtvzPi/CiDJuffBBrp5/NV3vpWjz45NmdUrteej3MwmYdnvr02cALYXczZl+D9RtWYfOzB7DjobUoi7DWs3frM/BiIe577BtUrrBnY/m3HsXmcqDu5S04t6Wy8aHsrufw8gMbUSGe1VWBL/3oS8gGUFd/buU68nYwDP69+PkDu4CiO/HlNR9ldt1jazTz3DV4PCRQhlSvv/AiAODFL2j1PKwpsEHfi3jqj14U33UrlifoSmM37Q9vGQfTboZhGIZhGIZhGIZhJpqPzG8Xb8ZzD6xFcYRFHwBA/S5sbwXsm27DKtdHh70nt+B7D7wILwDvOx+gDkDdnu1ohR0bN636yDTW70XVy9/D/S95AXixa+/ZJYpdO7YDWI47N0h+xryt2PXY9/DflQCwC7s+/Eg1WRj5e+3Crm0Alt2JT0lmmd7WXXj8B/99djHtnV049JHqLDVb8NS+s4tJ9/8mXKiQbGx8+AncuThFV4TQ7fYCSEVqyKnFKKsAcPLE8AtKcYY9JVU/NDJG2g6GofXZn+IpN7D2W1+ecJPV1md/jy1YiDs3hbtz3VmT+d/uCjHtvuPJyVKqDMMwDMMwDMMwDMMIQgNlRKOxDlUAivMNj10de/H47YtRvvpuPCN2ilVWoQpAa10VgGIUG6e69zyOO5aVY80XnyH/cFVVVQBa0VIPANnIyYYRAOHbWFOxGLc8sJ12p1XVisUH2fTxieFNJCW/YE9sAID1eEIzldx2V4RgBaMmhvdqbTm7YJafc9YXmrcOW+5dg/LFt+D+N+hMVNUbfwpK1+LWSwEklOEbm0Zn7llWXgZgO7779WdQ1Xf2mNddh11PfgX3v4Tw9x8nPtqhVo7Fq2/B/c9K/hsjcHjLi2hFCjauOxtAZUKhXXpfwjc+qa4KFt+1jercjnvDLbpBrde/OVurQ8yQt96J8DW2Cr//zV7gutuwMV/XnV38feYAkP2vT+NApXGtw3vw8kMbUXGOC5gMwzAMwzAMwzAMw5w/Yl/U6+6GF0Cxy40t965B6cINZxed7BXY+MuX8eAaAIZ7/7M7v4phd2/Bt1eXYv5N95/d5TdnIx79x4NYBQBDZ893dwDIyAH2PI47FpdjhbHwl33dZjz35J3IBuAdwaJOfBHDe/W50QIgJR3Y+9gdWFy+Anf/uQpIyMbae5/DE3dlA/ACIXlQjFufr0FN1TZ8ab6ui43iTZuxPgVwb/021lScXVQrn78Ct/zgRWMRNhUpE74A5EXryV14/JvrQoOw6Jz8Bb7yqzqkbHgE31isK8cfsUtv1bf+bcJ36eGdp/B4vR233r4+fMAYVwpyALS+9iJ2NRpb9VzZqLjpQTxye/hlQoZhGIZhGIZhGIZh4pfYF/VSU2EHsP3/W3d20QnZWHXvczhw+GU8uC4F7hYAcJw9NcUOYDu+90ljF1/2Wd9ulf94EGtTzi5iwXL2/JQMAB2P4w5j4Q/TN+LRNyqx57E7sRButAJn/dFNKmJ4L2PRxf3bO7DB2MVXtulR7Di8B4/etRDoaAVgB8YzD1JW4ZGtj+LOZcUfLQylVGD9vU9g8zpIOw7HkdI7sU3emXb4ALY9eSsqALifu1sKwqJx8nFsuO6nqJq/Gc/9ZBVCLIjHG3mX3vUTfXcvXnzyKXiL7sSty3SdQfZG3PfAcqTUPIO7ry5H6bJb8O3HtuBwh34iwzAMwzAMwzAMwzCTgdgX9bKLyfyvbNOj2FG5B0/ctRApCQDQirpKAPPLUAYgO984M6EMG3+5A5V7JN9uhhlvxayys4tFwmTQWPiree1BrC09u7TU2njW7Hbu9Mm2oyiG98o2zG4BZF+9Gc/trcE28u0mzHjnoqzIOGm8yF+LzX/egUqxqHbgZTxyVxlQBWD+3InfgeZKQdnV9+GRb5UB8KK7Wz8BcO/7Kdatvh9753wD2569E2XjufA5DGKX3vIv3oaKib5/4zP4/VZg4Rdui1g+ZZuexoHD2/DEvRux3P4BnnngbqxbWIoNv42n8CcMwzAMwzAMwzAMw4yE2Bf1ShdhuR2A/Vbc90MtoMA7L+AZL2BfuAjFAIoXLocdgP2z9+HBddLuLwC7XnwGXtixaP7Zhbq5i8/6g1v4xZ9oQR1a8cpfdgFYjoUV0uFzohUtoeFjx5WRv9dcLF8GAAvx5QfuxMIM6dTGV/DMOwCWLcRc6fBE4d72U/y8Eihbt3YYf27jT0vD2QVQh7Zg5t76baz+9C9weP5mbHvuSxGj+44bYpdeyq34xk1ju5WxtTV6ha368+PYi7W4bST3dpVh1V0P4uk3KlG55wncWgTs/eH9eNHwocgwDMMwDMMwDMMwzOQg9kU9LMSnNqUA3qdw9x1P4bAIqHDkKdxy11Pwohh3bjKCFFz6KWxMAbx/vBu3PHn4rO84vxeHn7wFd//RCxTdiVsN32fZV6/HcgB7f7AB39vWCi/ORond/oMN+N4+ANdtxKdGsGYxHDl52QB24fHf7EKriP45AYz8vbJxzSeXA9iL7236HrYbD+lt3Y7vbfoe9gJYu+lTtJvvI+rw1KdLUVq2AY+LQCVjgd8Ld/1hPPPDDbjyCy/CnbIRmz8XbknPje3fXIzS0lIsvjeKz7tzwOuuwvaHjfqScis2XvmRrvWlu3HlXc+g9dLN2PbcyHbo1T17BxaXlqJ02bexfYweVuzSW/j1L2PhCJ5hROQUIxvArif/G7siVVj/Ljz1WB3sn7sV66Vo1CG8cT82/PAZHK53n62DAOzOuVi00A6gBS2d2vkMwzAMwzAMwzAMw8Q1pmAwGAQAbPsKSr/woq7/iPLN2CEib7q34ytX3oEXwyyKVNy7DS/f9ZERoHvbV84uCilnAUAFNr/2Mu6c/tGRqsfWYc0Dh+WTzpKyHk/sfASrxEa3KM9adu+O0Ki2e76H+Tc9FfIcYc8dMdvxldI7cDjKNUb8Xv4qPL5hDe4/oJ0HIGXDE9j5cBhfcTWPY83V96MKADY9jZoH9Ai4dXj8uhW4v1I7LLH+NzV4ZA2GPzdlOR58/mlslMrqI7bj26V34BngbJnufBl3jsJEuO6xNVjxQBhz0ISF2Lz1Oam+nM374WuB/F4C9f1C9dHrltIOcHaX3vcWbsBT3lvx9OH7sDzsot4w+UqsxxM1j5wNHCMQ19UrrHZ/70t3o/yew/jS1h34Rrl2rkyk91r2IPb8eWOYBWMDo44hSj1nGIZhGIZhGIZhGGbiOIedekZAhTeew+br1IAKG3+5A89JC3oAkLLmEex8djP5kQOAlPkb8egb8gLNWcrueg47frkRFbRyZUfxdZvx3BvSwte5svg+vPbYnVguPcdEMeL3SijDnc/uwKObKgwfhQDsxVh773PYOVzwh9K1uPXSs//7jU36gt5osCN7+nLc+dDL2LNnuAU9AFiFzf8llqPCRecdJSllWP6vj2Lbh6H1JXaKsfYLq84uXuVvxKeW6PrYoV169355mAW9cyRhIe7Tg5aE0IpnntgCXHonbou0oAcAV/8Qz/1gPSqyP7qaPbsC63/wHA78IcKCHsMwDMMwDMMwDMMwcclHO/WYc2BkO/UuaLxu1O24Hxu+8Axa7ZF2qzFjTuVPseK6X6Divyrx6CeHX/obNbxTj2EYhmEYhmEYhmHijnPbqccwALZ/vRSl5fOx4gvPoBUpWP/Lb/CC3gSy6w+Po85+K269fhwX9BiGYRiGYRiGYRiGiUt4UW8MqHpgBUpLS8/K17fr6gubhBSULbsTj76xB4+sCWsgzIwTy39UiZrKcdoZue0rH9Vp4bORYRiGYRiGYRiGYZi4gRf1mHNm1cM1qKk6gG1/Vn0mMgzDMAzDMAzDMAzDMOML+9RjGIZhGIZhGIZhGIZhmEkG79RjGIZhGIZhGIZhGIZhmEkGL+oxDMMwDMMwDMMwDMMwzCSDF/UYhmEYhmEYhmEYhmEYZpLBi3oMwzAMwzAMwzAMwzAMM8ngRT2GYRiGYRiGYRiGYRiGmWTwoh7DMAzDMAzDMAzDMAzDTDJ4UY9hGIZhGIZhGIZhGIZhJhm8qMcwDMMwDMMwDMMwDMMwkwxe1GMYhmEYhmEYhmEYhmGYSQYv6jEMwzAMwzAMwzAMwzDMJMMUDAaD+sHhaG9vxxtvvKEfZuKQoqIiXH755frhUfH666+js7NTP8zEITfccAPsdrt++JypqqrCgQMH9MPnHZPJpB9CDF3aBcn8+fNRVlamHx4VwWAQf/vb3+Dz+XQVE2c4nU58/OMf1w+Piv379+PkyZP64WGR2+VEt8dwfYJgop/lfLB8+XLk5+frh88ZnvdNHoqLi7FkyRL98Kjged/kYaznfQBw+vRp7NmzRz/MxCGzZs1CRUWFfvicCQaD+Pvf/87zvjFEn4NEmq/EgtPpxNq1a/XDo2L//v2orq7WDzNxyLJly5Cfnx/bot6uXbtw5ZVX6oeZOGTjxo3485//rB8eFUuWLMH777+vHyb0zimGqjVp0d9ZR84D/dzR5E+0azU1NSEnJ0c5Nhr+67/+C9/85jf1w+cdPR8QJi8uNh566CHcc889+uFRMTQ0hOzsbHR1ddGxcHkvE6kcov2vTLjrjGbRaDT/qxPLe+hE6htiRb7W1KlTY1qAGwlf/vKX8etf/1o/PCz6+4w2n2NBv7fMRD7H+eKFF17ADTfcoB8+Z955552I875w+X2+8jncs4wV+juN5l76tcaKjRs34umnn9YPj4rLL78cH3zwgX6YiUMaGhrGdN4HAH/4wx9w++2364cnPXobHE17jhc2b96M++67Tz98zgwNDSEvL0+Z912IhCt7vX6MFWM575MpLS3FiRMn9MOj4p577gmZ98XyzLHkYbTrRsu3SPcKd76M/r/RvhGiXW8i0J/r+eefxw033MDmtwzDMAzDMAzDMAzDMAwz2eBFPYZhGIZhGIZhGIZhGIaZZPCiHsNMQvSttwzDMAzDMAzDMAxzMTCR38PxYHobCV7UY8aMYDCoSLxgMpkUGUv0d9YlFvTnjPbM53qfCwk9vy/mvDjf6OUQrf6OFL0tmEymYe8zEol2bV0inT8aol1nMtdpvS5MJPq9h3sOvSyHKwcmMnoeB6O0yViI9r/R9DL6udEkGAwiEAiQjCUjfWaEeW6GuVDQ+w29j46kGy0T2a7G6z30647ltS9k9LLX83A883Gi6txEoOeZLpEYSRkMd61IOozy2jr6tXT0aw0NDZEEAoEQvUyka+v/p//vcPCiHsMwDMMwDMMwDMMwDMNMMnhRj2EYhmEYhmEYhmEYhmEmGRftop685dFsNpPoWyARoxlUpO2UzLkzmnyNdQurfq9I99Wvq58f6X+joV+bmXhiKb/Rlne8E+v7Raq/sbRJ/Vz9/Ei6WNGvNdrryYTLv5HeI9oz6ddloqPnabh8ZUbPaPI40v/q7clsNiMxMZGkqKgIJSUlJJdccglWrlyJlStX4pprrsHatWsVWbdunSLr16/Hpz/9aXz605/Gddddh+XLl5MsXrwY2dnZJGazOeRZRyqxwm2dmUzo9V0WvQ3rdTqSDmGuHa/o76E/93DCnDt6vZHzVXarEM1EEkDI+fr/XkxEyqdYiJbnOnp5RkK/diz/izD/r19LrBclJiaisLBQkauuugrXXHMNrrnmGlx99dU051i5ciVmz54Nh8MBh8MBm80Wcm1ZwhFNj4t1US9SwUbSwchUZmKJViZjyUTei2GYi5fxGku4D2MuViwWC4nD4YDT6SRJTU1FVlYWSW5uriJ5eXmK5Ofnk+Tk5CAjI4MkLS0NNpuNhNscw0ws4zV+xhMXwzuOB6PtjznfmUiIBUKLxaL8kJiYmIisrCz6sU+eb2RlZSE5OVnZRDYejM9VGYZhGIZhGIZhGIZhGIYZN3hRj2EYhmEYhmEYhmEYhmEmGaZgDPtMd+3ahSuvvFI/HPfo2xyFyQQAWK1WOJ1ORa/j8XgwNDQEAPD5fBgcHCRdMBiEz+eTzlaJIXvHlI0bN+LPf/6zfnhULFmyBO+//75+eEKQt1OPd57K9xL28zDqUWpqqnQmkJiYCIvFAhh1Q64Lfr8fXV1dlBZ1aDjG8h2bmpqQk5OjHz5n/uu//gvf/OY39cNMHPLQQw/hnnvu0Q+PiqGhIWRnZ6O7u1tXEedaZ0diKhHLtUdyveGIdp9Yrq33HcnJyYre5XIhISGB9PI4NTg4iPb2dkr39vYqzxbpOaZOnYqqqir98Kj48pe/jF//+tf6YSYOeeGFF3DDDTfoh8+Zd955J+Z5n6if0dpTrCQkJNB463A44HK5FF1BQQGlS0pKaJ4HAAUFBTQmCtMZmaSkJCXtcDiofXZ1daGtrY10/f392L17N6UPHToEj8dDaY/HA6/XS+nR5EOktq5fd+PGjXj66aeVY6Pl8ssvxwcffKAfZuKQhoaGMZ33AcAf/vAH3H777frhEaPXUZlIdXskjHRMjDci5YlOtPeSr7V582b88Ic/VPSjYWhoCHl5ecp3TLyg54vD4aBjTqcTVquVdBaLRRkL9DUBnaDktywYDIZ8uwUCAfp7cHBQ0Q8ODqKvr4/S8rnjSWlpKU6cOKEfHhX33HNPXMz79LKOpf0IxmpOYrfbYbfbAQCpqamYM2eOor/22mtJ7/P5lLpx8OBB/POf/wSM9QF5jo9R1pXnn38eN9xww4W7qCdXAn3ylpycTJNBp9OJ7OxsRa83+O7ubpqw9ff3o6enh3SBQOC8NOBoXGiLeucLs9lMg4HFYsG0adMUfUZGBjXgvr4+9Pb2ks7j8aC6uprSPp9vwiYhvKg3NsTQPYacK/cj4cpaP3+sGM9FPXlyp79TLO+j/2+sRGpHkXTRiPYOka6n68xmM409+oIDjEWGxMREQPIFJujt7cXx48cp3djYOOKxhRf1JgdyfYlW72IhHhb1xovExET6WEtLS1PGOLvdjrlz51J65syZNDYDwJQpU5Cfnw8Y8zS/3086k8mErKwspUxSUlLo/9va2tDY2Ei63t5ebNmyhdLbt29Xxv7Ozk643W7AKNuRtt1w6P1KpLrCi3oXN/G4qDdZGc08IhYitedwRHqWzZs347777tMPnzPxuqhnkn4wFaSmptIcKjMzU/mRxm6304+qJpOJfqwZjkAgQIsxwTAbd/x+P5Wb2+1WftDp7e1FS0sLYPyvPM7Eil43IpX9RC3qjWbeEun5YyHW+44lSUlJVLfy8vKwYsUKRf/5z3+eNooNDAwo5b99+3b89re/BYzF39OnT5MORns713cTi3qRl6sZhmEYhmEYhmEYhmEYhok7LshFPZMWPtxms9GWSbvdjrS0NIp4VlBQgKlTpyoyY8YMRUpLS1FcXIzi4mLk5+cjMzOTJCMjQ4l8YrFYlOgmY7UyzZwfRBQ9EUlvypQpisyaNQtz587F3LlzMXPmTJSWlpIUFBTAarWS6PWSmXjk/E9ISFAiGNrtdiVaotPphMvlGrGIX3CEyP1CtF8GJyPyL0qx/roU6/nxjKhPZrMZCQkJJDabjepCcnIyCgoKFCkvL0dFRQUqKiowb948RcrLy5GamkoixhLuOy4MuAzPDbvdTv1tVlaWMt6WlpaivLycJC8vj6LQZWdnw+FwIBAIIBAIwOv1orOzU5GOjg5Furq60N3dje7ubvh8PmUO6XQ6aU5YXFyMwsJCRdLS0mjeIJuBMQzDMKNHjnRusViQnJxM8yX9u76srIy+0yoqKjB//vyIMnfuXMyZM4dk9uzZisyaNYuktLQURUVFJDk5Ocrcn7/7Jjdibi/Ebrcr8/qMjAxFEhMTaZ4gf/9brVbl+0C3IB0rLhjzW7mxiA92QXZ2tpKeP38+Zs6cCQDIycnB/PnzSWcymZCenq5cr6qqCh0dHYCxvV02qfR4PDh48CClm5qalO2Wfr8/xB5/ImDz2+GJ1LHqzSEpKYnM5pxOJ7785S8r+mXLliE3NxcAUF1drZi91dfX4+GHH6Z0S0uLYoaj32ssYfPbs+hlLS+0u1wuMn+EMUmQfTSJY+L8cOUlX183B5B9ccrmWDCuFe56Y8FEmd+OJXo5nS+ilYn+nHKZy6aBMPoO0QadTifWrVtHOgC4/vrryRxQTAIEx48fJ984wWAQ//jHPxQTkKGhoWFN+tj8duLQ68O5Eq3e6cj31f833s1vIz17NMrKypCVlQUAuPTSS3HNNdeQzul0Ys2aNZTu6OhQ5mKdnZ3kE7StrQ1HjhwhHYCQeV9OTg6NB+np6SHjqTyv27p1q+KWZdeuXThw4ABguOVobW0l3XhyMZvfRmuLsda1yQib305+9HoarV7LxIP5rfz8sTx7LFgslhAfqJdddhmZPa5YsQIzZswgXVZWFmbPng0M499Yz3OPx4P+/n7AyIOBgYEQvfifw4cPK64ZTp48iW3btgHG97+8XoBxdNE1Uea3Mnr56vmoo58vo/+vfq6cDpeH+vky+rVjwWazKdcuKSlBSUkJYLj0WL9+vXT22bonXHZ1dnYqvnVff/11PP7444BRh44ePUo6aGbd4d4n0nuw+S3DMAzDMAzDMAzDMAzDTFJ4UY9hGIZhGIZhGIZhGIZhJhm8qMcwDMMwDMMwDMMwDMMwk4y49qkXzqY4HCbNAWVCQgLy8vIovW7dOqSmplL6yiuvxMKFCwHDNl/YPwt0B4Z+v59suPv6+hTfKX19fXjzzTcp/dJLLym+sxoaGtDW1kbpGLJ7VEw2n3p6WY9lPunXjoR+3+LiYvLbk5iYiM9//vOKvqysDCkpKYDhx66hoYF0TU1NeOKJJyi9detWJfR5cBz9ql0sPvWila3elpOSksi/5hVXXIFFixaRLj09HUuXLpXOBlJSUkJ85QnC9R0yBw4coL7gT3/6E15++WXSBYNBxS9EtPeIhYnyqac/s16XZb2uQ5j/n4y4XC6qH3PmzFHGnRkzZuC6664DDL8cc+fOJR0ACp4DAF1dXcq4UV1djZ///OeAkXc7d+5U/IOxT72JIVIdlecdJsOZsozsX1EPmhUIBMgnm8kI5iUzNDREbcbn8yn+2/S+Q29b4+FTb8WKFcox/Z7nSqT8hea3DgCWLl2KKVOmAIZv5Kuuuop0JpMJDoeD0s8//7zSXx06dIjahd/vV8ZihHkWOcjFggULlDxISUnBhg0bKN3b26uUyfbt22mudOrUKfKxJNDvFYlYzt24cSP+9Kc/6YdHRbz61IslXxClzsZ6rWhEutd4cjH51ItWZuerDMIR6VmjPWcs/xsPPvXGE5EXTqeT/OILPvvZzyItLQ0wxompU6eSTh+fw+WpnJexfJv19vYqftOampqwf/9+wPCp9v3vf186W/WbNtJ7jITx8qn36KOP6oeJaM8fLp+HQwSigPFtJfuYFnqB7K8cxnwq0pxIJpwu0nNmZ2cr87MlS5ZgyZIlgOFT75Of/KR09tn5mqCqqkppO9u3byefekNDQ+js7CRdrOjvccH71JOj4jgcDiUajRzVMjExUYmAabPZlAglCQkJsNvt9L/holzK0TL1CCf6RJ+ZXJjN5oh1Q3REQnS9/L/M+UcuK5vNprTdpKQkpKWlKaJHNopFUlJSkJycjOTkZC5/jUiD6GTCFCGassPhQEpKCtUDua45nU4KwmIymRAMBuH3+0nEop0+WWHiF7kuxCr6OKLrmbOYzWZlbqfnmc/nI+nr60Nvby+J2+2mSLfd3d2Krre3Fz09PYq43W50dXWhq6sLPT09GBgYIPF4PEr52O12inYrRAS/SbgAI58zDMOcL0wmkzIOiEUgve+Vo5BGGk/1BRJ9/NXHZ/m+Yq4nRKwTuFwuCtzBxIae/3oZ6LpwZTpW6GUv1oSGE0iLwuLH2+FkPOAVJ4ZhGIZhGIZhGIZhGIaZZMS1+W0k5F1wGRkZitmT0+lUzDJWrlyphL8uKiqiLerhVnnFdcMhfgUWDA4O4tSpU5R+5ZVXFPPct99+m7biBgIB5X/Hk/NhfqvnY7SqJZ8f7dzRoD+XjH7f9PR0pa7MmDEDGzduBADY7XZ8/OMfl84+Ww/F9U+fPo3a2lrSNTc34w9/+AOl33vvPQwODlJaRn+OkSDuG+5/L2bzW3HMbDaTabRgyZIlSE9PB4zQ44sXLyad3W5X+hFo4cz1vkJP6xw7dgy9vb0AgF/96ld45plnFL1cbpGuEyvjZX6bk5NzXsww9Pqt55Wul9HPPRfE9cOV95QpU8hEb9myZZg2bRrpysrK8LGPfQww6qLL5SIdDBPbvr4+AMD+/ftx5MgR0rW3t2PHjh2Acf+GhgblPcUvgeFg89uP0MsrEsPlp0C/ltipD8Mcc/r06Yp+xowZtEsrKysLiYmJpJPrksViUcYcGGYbwjz04MGDqKmpIV1fXx/q6+uls1WEGcZY8c4774zpvE/Ox3B5Luv1X7M/+clPoqKiAgAwb9485bl8Pp9S7x9++GE0NzdTuqWlBe3t7YBxX30HrP4sYictABQUFChtOzU1leYFMEyB5fI9cOAAPcuHH36I3//+96SDNsfU65X+HLGwceNGPP300/rhUTFa81v9/SIR7d0j1Z1o94k03urXigX9WtEYzb2iES/mt5HKKRZizduRMppnCke054x0v0g6Uxi3DjL6POBCN78V75qUlIQFCxYoujvuuAMZGRmAMTYUFRWRTs8nHZ/PF+IOR+S7ydgVKCOXt8/nU1yjNDc349ChQ4Axj/va175GOhjni2eJ9EwjQf7/qVOnjov5rTzv0+t5uOfXzxkOseNOUFRUhKysLMBweyVcpAlka6fdu3crdfLUqVOorq4GhmkzetnGQmJiolL+S5YsweWXXw4AmD59Oj73uc9JZwM9PT2UL2+//TbOnDlDut27d+Ovf/0rYDzTwMAA6XTCPWe4/BZMevNbUXBmsxlOpxNZWVkkOTk5mDlzJsmUKVNQXFxMkpycTP9rCrONM5LoJlaJiYnIyckhKSgoQGFhIUlycrJiKsLENw6HQzGtTktLQ25uLnJzc5GTkxNieh0IBOD1euH1etHf3x9iwtPX10cSCARocNEbZ7gGHAn5/Fj/92LBZPiqkiU3N5f6gaKiIqWt5uTkhJyvm3jJEi3fExISYLVaYbVaYTablbLXy58ZOecz7/TxQLhzcDqdIebaaWlpZH6blJQUUv5utxvt7e1ob29HTU0NDh06RHLixAkyFezq6lJMcUU/wowt0dqzjtVqpbJPTU3FlClTFJk7dy7mzZuHefPm4bLLLsPSpUtJli1bhiuvvJLkqquuUuTSSy+l/y0qKlJcAuiLwxcTTqdTMWmXxel0YnBwkKSjowNtbW0k/f39MfW/cnvr6enBmTNnFKmvrycRH4VC7HY7Pae82DcSYq2H8cxkehe9fx4psZzLxAfnu17qdS2S6Mjzj4sJPU9081sx1x5uvh1JdLPIcPMt/f4Ck2Yaqj/XRKE/13gQ7R6x1El9/SU5OZnWcEpKSrBw4UKSRYsWKVJSUoKCggKS5OTkYctntAwODsLj8Sgi3HB4vd6QuiFLX18fufDo6upCf3+/UsfGA15lYhiGYRiGYRiGYRiGYZhJBi/qMQzDMAzDMAzDMAzDMMwkI6596omtnCaTCcXFxYr5qjCFBIDc3FxMmTKFdImJiVi+fDmlZ8yYQVFJhF6OUqITactsUPPFEggE4Ha7Kb1r1y709/dT+p///CfeffddwAh93dTURLrxZDL51It23mjRn0tGv/cll1yihEKfPn06NmzYABjmlPPmzZPOPmvLL3woHjp0CAcOHCBdd3c33nzzTUqfPn06xEfQueaB/k76/19MPvXkvLDb7UhOTqa/Fy1aJJ0NXHHFFcjMzAQAzJo1S/GDZTYi4srI19bzfLhjgpMnT1Jf8Itf/CLE15Hcj0S6TqyMl0+97OxsdHd366oJQa/fI203Y5Gv4h5msxkOh0PRLV68mMzrrrnmGpSXl5MuLy8Pl1xyCaVlvysw/GsIH19vvvkm3nnnHdL19/crftSEf7WRwD71znIuZS/XJ7PZjNTUVEoXFBQo/UN+fj7y8/MBw8fazJkzSQcA06ZNG5FPPbPhQkTm1KlTVOZvvPEGDh48SLqWlhbs2bOH0l6vl/7GJPOpF42ioiLl/E9/+tOYO3cuAKC0tJT+BoCBgQG89dZblH7ggQcUn3per5d82grzmEjI9xVmvwKXy4VrrrmG0suWLVPKsL6+nuZ6lZWVeOGFF0iHEYwr0Z5tOOLNp164dxOEe0e9/cn/b7PZqD2aTCbyjSvrxTdCQkKCMo+3WCyK2XpPT0/IPF6+98DAAFpaWgDjmTo7O0knjg2HXrf0PIj0v6PlQvepJ6f1+gFtTqXPtRHDvCFW9OeQEWaZMnJE7NzcXKWuyib7wTDfmw0NDZRubW1V/HRfyD715DJzOp2YMWOGor/xxhupf5g3bx4KCwtJZ5L8rPn9flRWVpJOHJPz2Waz0RqBw+FAcXGxdDaQnZ1NZaZHMm1ra6Prt7W1hczFBwYG6PzR1kP5/yfCpx6itO1I7UDHIvmsBYCFCxeS39ry8nJlfDWZTMpcbNu2bTR3huG3du/evYAxzuv9tW7qGu05Zb3L5VLa75IlS8gX+/Tp0/Ev//IvpAOAjo4OypcXXnhBmYsfOXIEb7zxBmDk3XA+9jHMM+r5LSPmfXG7qCc3QpPJhOuuu44cksNwTCwm1BkZGfQ3jA5TdpIp/NoJ5E42aNjTy8j3QZjMlbMsGAwqH2tHjhxRPsC2b99OE/DGxkbs27ePdOPJRCzqRcqXeEJ/Thm9sW/YsAFLly6ldFFREa6++mrAqDfCEatg+/btNMju3LmTnNvDsMUXE0MYH+ax5FEsnaeuv1gW9fSJXVpaGkpKSgBjcnTbbbdJZwNz5syhj7OkpCTlQ8xk+MyUibbwFu6YoKamhhb1fvnLXyrtUe83Il0nVsZzUU+e3I3lM8eKXt+HYyyfMSEhISTwyg033ECLyNdddx1mz55NOpfLhezsbMB4Xj1I0rZt26h/2LZtG3bu3Em6wcFBtLa2SmePnIt9UW+kZR7uPLleJSQkKIv+K1euRFpaGqWnT5+OsrIywPihUO9vXS4X3SMxMVHpW4LSx5opjCPu/v5+0r/++uv48MMPSVdXV4dXXnkFMK6jT2AnYlEv0tiEYfI2HOHOE9czmUy49tprlXy77rrraOE8LS2N2heMH01ffvllSv/sZz9Txl8d/bnDPYvAYrEoz2Gz2ZRF3NmzZys/HHd0dNCPvc3NzcqiLKLcC2GebTj062zcuBF/+tOflGOjJdZFPf2ZdOR30+dfss5qtYYsdoiPPovFgjlz5pBO6MWiu8PhUBbR7Xa78k1w8uRJZfzVF/Wam5vx3nvvAcYH/7Fjx0iHMOfrf8vfFHp+6OmRlvVIiJdFPRn9fWVifXd5IUBfuNXzXf8hLNJznAuR+kCT9KON8K0sMGtBs5YuXar0HdOmTUNubi5gBFWQ38Pn82H79u2U3r9/vxKY8UJe1JOxWq3047xg5cqVlK+XXHKJstEnISGB8rivry8kcJGOy+WiuV5GRgZWrVql6BcsWEA/8A4NDSnl39nZSUEb2tvb8eUvf5l0ANDV1UVzQb3ejIbS0tIJX9SLFfl/9YXuVatW0Y90M2bMwMqVK0lnNpuVRdp33nlHqZN79+6ldZbOzk5lcw3CjDM6+jvJz5adna38mHvZZZfRol5JSQlt+hE0NjbS/Z566iklAF5NTQ0FTg1q34AI8xyR0OvOpA+UwTAMwzAMwzAMwzAMwzAXK3G9qCd+7TCZTHC5XIokJSVR1DOx40aICEEsxOfzKVHRenp6KOpgS0sLGhoaFGlqalLE7XZT1BN9t4X+nCYtEo6uY+KLhIQERcQvvEIcDgfpLBYLbbUWIkfGEVFwhegR8Zixx263K20/JSUF2dnZyM7ORlZWFkUgFOJwOChClvjV91zbp36+XjcGBgbQ39+P/v7+kH5D/5WFmRwEw0S4EgJtLNDRzw8EAlRXdN1o6sdo/vdCRx6frVYrHA4HSXJyMvUdQuTo2KJPESIi0bpcLjgcDmXcN5vNSpS0np4edHd3k3R2dtIcpLOzk84Tovclfr9fkYtlXJEjGlqtVthsNvobxo5WfW4nZCzzRm+bgUBAiYbX3d2tRLnrkSLf6+bR40m8tX19PizmWA6HA06nU4kWnpGRgYKCAhQVFaGoqAhTpkxBaWkpSUlJCemKioqQk5OjiNw2MzMzQyKRy5GSMzIykJmZOaxkZWUp0RX1yNZFRUXUL+Tm5ir/m5GRgaSkJBK5zlqtVmW+KX+nWCyWi+6bQX9Xi8UCu91Oon/3paenU5nm5uYqZVRQUEBlUlBQoNSHrKwsOJ1O2Gw22Gy2kJ3Ro0V/D5vNRvU8PT1dGUdE3RaSm5ur1GO5rsrPLOqRfq+LkaCxy0kWeYxta2sL+Y4X0tzcrIwTQtxutyLiWm63m+bxQoakCLkIU/5ye9ZFLrOLtfwwzJgq5jvhxu5w+RtOzNoOwHNBvl5SUpLyDSnWnJKSksJGtpffY3BwUJnX+Xy+Uc/voxE35rd65RaTbvH3N7/5TWWL8uLFi8nO3eVyKfbW0PwpNDU1KR/Vp06dQn19PWCYbDQ2NpIOhrmu/DyXX345bd1PT09XTD50KisrlUnca6+9Rtv4z5w5o/jCGU/Y/PYj9OeU0+np6UoncMcddyi2/JmZmeRHLxgMhvgUe+GFF8j31a5du/D222+TTnRU44H+TnreX8jmt3J5TZ06VdmGP336dKxevRowTN6uuuoq0sHoKyJN6PTykvM13IAs0gHNtyYA7NixAx0dHYBRT1577TXSjWfHfqGZ34bLp4m6t4zZbA4ZxNevX0/mt5/4xCcUH1+JiYnk9ykYDCq+VgHglVdeIb9bb7zxBnbt2kU6n8+nmFVGm6jIeTR16lScPHlS0Y+WyWp+q9cTm81Gx3JychTz+4KCAsV82mazKSYg06ZNU8pfTOxgtI+BgQHSwZgLCPOK3t5eZQ4yMDBAY4nT6cT8+fNJB8OUUJh7vvrqq+QvBsY84vXXXweMctfNzF544YVxN7+NBb0MZMLpRF02m8249dZbFdMX2fx2YGAAfX19pOvq6sKvfvUrSu/cuRO9vb2UDnevkSL39QjTFzgcDkU/ODhI5e33+yMu7IV7Lrk96/pw/aEgHnzqyc8r+7mDMbcW47XD4cCsWbNIB8OXkshXsWgukE3cTSYTtT2BfC+LZi5t1kwe+/r6lHwMaOa0vb29qKurI50YxwVut5vKt7W1VXGV4PF4cPr0aUrX1tYq3yPyYoDf71f8KgU1Nw1+v195rmjzhslgfivPsSyaX62kpCSqHxaLRXF3AMPEUNSPoqKiYb/FAoEAjh49quTV/v37yRxfLOLI6HO/aMjXlusajLFE1LeFCxfi8ssvJ53ValXcRWVlZSlzUpvNRtfr6OhQ6pLX68Wzzz5L6ffff1/5JvnOd75zUZjfmsK4yklLS6N8zMzMVNp7QkIC1ZvBwUHFnQXCtCu73U7n5+Xl4TOf+Yx09lnfrsI8NzExkdYqYPhSF31HW1sbvvjFL5IOhmm/GA/0+46GiTK/ldHb9mhYvnw5jQdz5szBddddRzqLxYLS0lJK79u3T2m/H3zwAa2ttLa2KnNpRBkzEWbOKLvZWbVqleK/9dJLL8Wll14KGPM03bdjVVUVzft+9rOfKWsmXV1dNOdHlD4nWt7q78TmtwzDMAzDMAzDMAzDMAwzSeFFPYZhGIZhGIZhGIZhGIaZZPCiHsMwDMMwDMMwDMMwDMNMMuLGp56O2WwmH3pmsxmf//znFd8qy5cvJxvrlJQUxa+Wz+cjm3YA2Lp1q2J/XVNTQz71BgcHFZ3JZEJRUZFiz7xhwwbMmTMHMOzrS0pKSBfUwhLv2bNH8a3z8ssvY8eOHYBhay/7R0AU3ymjYSJ86k0WdHt5uR7p4eRvvPFGxf9FcnIyhUYPBoOKjx4Y/otqa2sBAG+++aYSbv58ciH71MvMzCTfOUuWLFHaY1lZGfnUs1qt5AtTYNJ8I8l/h/NvIfvC0f9XHEOYPgcAXnzxRTQ3NwMA3n77bezbt490+nXGkgvBp57sv1D3O6GX0URhNpvhcDiUYzfeeCP53/jEJz5B/jdh+GUR/vYCgUCIP87HHnsM1dXVAIBDhw6hsrKSdH6/X/HBF0tes0+9s3llMhwqyxQWFtKxZcuWobCwUNHJPhF1Py6tra2Kv6u2tja0tbUBho+uM2fOkA7GPEPMDUTQJIHX6yV/cKmpqVi3bh3pAGDRokXkM+zNN9/EwYMHSVdXV4dXX32V0rq/tnjzqRcron2Hm/dde+21mDlzJgCgvb0dDQ0NpOvq6sIjjzxC6erq6pC8GSvC1S0Z3UfbRPVZE+1TzxTGt1VBQQGNz7Nnz1bm5tnZ2Zg6dSpg+A7Tx+eCggIq78TERKXsExISlLmanv/6uK77IZX1brdbaY9mw4m9wO/3K74q9fITwWpgtH15Xujz+RQfey0tLcq9hBN1GPVE7lMCmm/eEydOKN8Twtk/jG8XfUxpbGwc03kfhvGpp+eHjJyXCQkJim8zGH6PRZ3JyMgI8VMq6ovZbFZ8WQFASUkJjcE5OTnIyMhQ9IKhoSGcOHFCec5XX32V/F+fPn1aGSP17zgdEbRCkJiYiLy8PMCoh2VlZdLZZ+ehwh+gCLQi0OeRjY2NyjyztraW6k9XVxd9q8J4r8OHD1O6vr5eqaebN2++oH3qyeWpt2+5H7JarYrebATpgdHGenp6SBeO1NRUqocFBQW45ZZbFP11111H47NNC7zidrtpXGpvb8eXvvQl0sEoM9Gmw31zxDLXk4kHn3pyWn8vaPrk5GSljK666ipUVFQARh9xxRVXkE7vC3bs2KH4nN6zZw/effddwPCHWlVVRToM8yzDYTablTFr06ZN1NYBYMGCBbjkkkuAYfq3AwcOUJ/+4IMPYvfu3aTzer0R/fzKz6nrEOU9Jp1PPTEQChHOZoWIxiFEjojmdruVyGSdnZ30d3d3d0gUnL6+PiXSzeDgoHJfHfm+Q1qkOvk5Ig0azMQhBlWTyRQS7VZEmJIjlcnn6yIWH4Qw449wgp0QJlpxYmIiRcJ1OBywaJGR5DLSy0tPx4rc7v2Gc3QRHVFv+5E6Zyb0A2043flG7w8i9QX6GOX1epWoWPp4xowevUzkvt3lcilRzVJTU0NE7leCWsS9/v5+ipDX1dVFi3xC2tvb0dHRgY6ODnR2doaImIO43e6w0W9FPdEJV7cuRgKBgFIePp9PkXB5N1YEjSBYQqLNTy9U9PYl2piI1pmcnKy0p/T0dCVKbFpamiLDRRlMSkqiMV2IuIcQuW2LuZssYrFJn7OZtAi9YgFAvpcehTU5OVnpN9LT0xWRo+HqEbWzsrLC/i1E/t+UlBQlDxwOB72PvqgZT8h5q8/B5DmaXj/0/lhOhxM5b2QR0WNlkeuPNcYosvKcMyEhATabTakPaWlpw5a/HCXd5XJRYAUh+jejPK6I6KuyyN+U49nHxTv6fErufwcHB+H1eknkSPQejyekf9YF0uK02WwOqcOR6o2ui6WeXUhEe1c9T+X2FS6P5fIJN94L0b+1zgX53vo4I0uC9oMWwjynLEPS4v14MWkW9RiGYRiGYRiGYRiGYRiGOUtcm99ajTDRJpMJV155pbIqOnfuXOTm5gLGFm45RPjQ0JCyNfPVV19Vttt2dXUpaXkLqMlkwrRp05Rj119/PcrLywHD9K+goIB0Q0NDytZk/V5bt27FO++8Axjb5aNt+x0rzof5rb4yH0PVmjDMmgndZz7zGWVb/dq1aylcNYxt9llZWYCxAi+bVcAwsRTmtzt37iRT6/NNvJvfynUlXD0RevHLrsyiRYuoDJctW6aYyOXl5ZEJpNlspi3y4QhXX/VdFWLHDDSTUEi/5sAwuRGmlILnn38ejY2NAID33nsPBw4cIJ1+b51o+kjEi/ltJL280yA1NRXTpk1T9HI5tLS0KCZIHo+HtrCL3VPDEekZEKbuhTtfnGOz2ZCdna3oNm3ahNTUVADA6tWraZyAVj/8fr9iRgMAP/3pT8nktqmpCS0tLaQTv/KdCxez+a3FYqGx22azkQmUYMGCBTSvWL16tdJ3pKam0pwCRrm3t7dT+v3331dM486cOUMmt/39/WQWJ+jo6FDql1y3rFYrmRJmZGTg5ptvJh0AXHbZZdR37dy5UzG5OnPmDF5//XXAeEbdxHSym98KTCYT7rrrLtgkE8xVq1Zh+vTpgNFmhDkdAHR2duLhhx+mdHt7+zm3oZEQrq+Q0fuWWBD/G+0eOhNlfiuez2q1kosBwfLly6mNrVmzRjE9TE1NpXmJ2WxW5l4wXBaId9bfPSCZqgbDuEIRO1wh7ZoXBAIBxZ1BW1ubMsbI/QY0cz2z2UxzQEFmZia1X5vNppgFB4NBxaRWNo+EZpodMHZ5CvT3evvttxUT2yNHjuDo0aOAYWYm5p6C8TK/ve222/TDw2K32yk/kpKSqL0Krr32Wpq/paenK/M7+bsPYdpQSkoKlYvdblfO9Usm04FAANXV1cr/79q1i/rr+vp6pe/Q6xoAFBUVUd9TUlKi5GtSUhLVa7PZrNRxAMjKyqL36u/vJ1cLML4DZVcNtbW1Sl09deoUzQX6+/uVb9lgMKiMQQMDA0o9vpjMb/Uyk9Py3EukRfsOGrv6ZPS5fVlZGX1H5ObmYsOGDdLZZ9cfRB0PajvqOzs7qW51dHTg//yf/0M6GONWJNN+/b1GSjyY30bCFMX11bJly2j+nJubixkzZpBO//b+xz/+Qa5PAODw4cPkomRwcDBqfY303CaTSRnT/u3f/k1Z81m4cKGyRqDz3nvvDWt+K3aRnivyc+v1Ju7Nb0VDEdLS0oLm5maSU6dO4cSJEzhx4gROnjyJmpoaktOnT6O1tZVE38Ls9/tpm6fD4QgxAcjIyFDE5XLRQCUPIuI55W2+wrxXiNvtRm9vL3p7e0MGd+b8k5SUpGzndzqdEbfX6lt9ZdEXhJjRIxZhZcnLy0NhYWFYycrKorZqs9lC+pFY0f9fl0jIev1cPX2hIyZZQsRHU0JCAlJSUjB16lRFpkyZQpKRkaG00cTERNqyL3+IjTfiI1QW2bzHbrcr5gQwJhjCFEQ3o2lra6Mxqre3VzEf4b7k3DBJ5l5WqzXELCsnJwe5ubnIzc1Ffn4+CgoKSDIyMqjvsNvtSEhIQEtLC0l1dTXNOU6cOIHKykocO3YMx44dw/Hjx3Hy5ElFGhoaSJqbm5VrdXd3K2YZer+im2xcjHVD9BN6mxJ5JCbIchuT5Xz3sXJ/d66c73cIh/xMZsP3tSw5OTnIy8tDXl4eysrKMHv2bJKysjIUFxejuLgYhYWFIXNtMccW8+yAZMrk8/nQ19dHIkzbhTQ3N1N7q6+vR21tLUlNTY3Sdo8dO4ajR4+SiHYst+fq6mpUV1fTIoss/f39NO+zWq3K+JSWlkbvn5eXh9LSUkWmTZuG6dOnDyszZ84kKSoqCumjxNgjfxDHE2Jhzmq1wul0IicnR5Hy8nKqD+Xl5ZgxYwbJ1KlTKd9ycnJC+u8EyR2Ox+NRzFS7urqUMtLdIYhvsHDuUGD80ChLZmamUobl5eWKzJo1C7NmzUJ5eXlIGefk5JApbiAQUL5dGxoalLpWWVmpyMmTJ6nu1dbWorGxkaSpqUlpAxfLWHAu6GOq6EfC9an6OJOSkkLfFAUFBcjKylLEarXSuWIsEiIWl+W6po/1gnDPcqEiz80sFgsKCwuVeX5BQQG1t7S0NOpDRF7rfb3cLtrb28l9mrwBIBwjGY/l8oJRP2QRfYQof1n8kmmwPn+biPY6cV9EDMMwDMMwDMMwDMMwDMOMCbyoxzAMwzAMwzAMwzAMwzCTjLhe1JO33ovt1UIaGhrI3La+vl7Zitna2qps3SwsLERJSQnJ9OnTlW3U8nb3mTNnhmylTktLI9O/YDCobH/u6elRzGxEyHkhvb29ynsw5x95q6xFi7oTbmuuvH1b3u6vm3Xrvo2Yc8Nut5NJY1paGoqKihQpKSmhtpmbm6uY7yQbYdKF6OjmPLK5Vl9fn9KPiL5ENt+Qz5f95oRDrkt6vdLTFyKy+ZnwOyQkNTWVTBmKioowb948RWbOnEkmOXl5eUo0ueTkZDKP190hjJZw5hDiHaxWa4i5WEZGBj2X1WpV6pfH4yE3DO3t7WRSI8TtdismGvo2fiYUk8mk9NdOp1Mxz0pPT6cokjk5OcjPz1ekoKCAzGr06LYw/OEI6ejoUNx6NDY2KmZUciTCoaGhEPMtPXqm/JyZmZlkdlJUVKTU78zMTPKlJKLkyuNMf3//BV1H9H5DFrlPF2OykGAwGLHvHw3yM4UTnYupLet5IZtY6Tq/30/uaNxud8h4W1dXh9OnT5PI7a+mpoZM26uqqhRzWt0c/siRIzh06BDJwYMH8eGHH5IcPnwYR44cIZHP1eXw4cMh5rknTpxAVVUVqqqqUFtbG2Jq39/fTxKp/MU8RBZhRtbT06Ncp7+/H16vVzHLjwf0MrZardTvJSUlhfTBsmmy3W5X2vDAwADNt1pbW1FfX69ITU0NTp06hVOnToXUgcrKSsWkWpczZ87QtWUfdzDM6/QIxtOmTaNvwrKyMkybNo2kqKhIiWYrf5t2dXWhrq6Oxnlh7i2b24q6U1VVFfLdKI8r4cyEmeiYtIjWCQkJylivR1EO59JHfG/k5eWFuF2Rxxe/36+4gdDHbtkU12NE3pWfU0ZPT2b0fsFi+EcXMnXqVMX0Pj8/n9qe0+kMMWmW24juDqGnp0c5f7TIYxi08VxHf0+57un/G+7/x5q4DZQBrYLrkzSbzUYZXlxcrDgodzqdWLVqFaX1xTThtwOGHwU5cILJZEJWVpZy75ycHLhcLgCA1+tVbLb7+/spEAYMB45yMIzq6uoQB+kTwfkIlDFehOvoYqi2CibNWeeXvvQlxSnmypUrMWfOHErbbDbS+3w+vPXWW6QDgJdeeomcFZ84cQLHjx9X9OeL8x0oI1yZycjlp5+bnp5OjqlTU1NxySWXKPobbrgBSYYT+alTpyIjI4N0okMdjiEp8IVYnBP09PTgyJEj0tln+xLxfPn5+UpdSUxMJEf8vjCBMp577jlynr97925y5BoOPQ9GQzwEyjAZiy+C1NRU6q9h5KWonwsWLMCdd95JumAwiMbGRiqnrVu3Ko6lT58+jWPHjgFGvnd0dJAOUeoWYuw7xCANwzn6Nddco+hvvfVWqgO5ublK/ejq6iKHyX19fXjxxRdJBwCvv/46WgyH2NE+0vT3iPQOkz1Qhv6uMiaTSRmvhX8bQVpaGtLT0wEALpcrxIH5ypUryRdVWVkZnQsAra2tShv2eDz4f//v/1H60KFDihN72ecKwpSJ/B4ul0t5ztLSUnK2nJycjJUrV5IOhrN04YN39+7dFFAFALq7u1FVVUVp3fFyvAfKiFS+kPRmsxnf+ta3FN9hl112GYqKigDD2b083nZ1deHRRx+ldLRAGfpzRCq/cOOKfL7ediNdayzRr7tx40b86U9/Uo6NFj1QhvxuDocjJHjQJz7xCSqzG264QQmCJH5Ig1Fv6+rqSAejbosy038483g81NcHAoGQwDTt7e3UZsTCocDn81FfK/SRxgmxCCD+nj17tqIvLy+nfr+4uFjpZ5xOJ2bNmkXp/Px8ZeyT7+v1epUAHkNDQzRmAMCOHTuUQBligQrGO+j519DQMKbzPowgUIbeLrKysqhOFBcX49Of/rSiv/nmm+E0AqScPHlSCQTR0tJCY9fg4CBOnz5NOnFMfM8NDAwo8zePx0NlHAgEUFtbq+R1f39/iI8sQWJiIubOnUtpAPiXf/kXCpw0bdo0JRij1+ulujg0NIT9+/cr92poaKD6V1VVRfMV8b9yGcfaV+jny1zogTIiIedbQkKCUr4Oh4MCmplMJvp+EJSUlNA3PgBceumlNOY5nc6QYC9Wq5Xu193drawJnD59mtYEuru78bOf/Yx0MPqiSGV4rpROUKCMaPVToLcxm82GwsJCSv/iF79AZmYmpbOyspCSkgIY7VzuFz0eD373u99R+pVXXlECZ/T19Sn9vf6Mkfp6HbPZrARY+/znP68Eyli0aBEWLVoESAt2Mrt376Zx60c/+hHeffdd0unn6/87GuI+UAbDMAzDMAzDMAzDMAzDMOGZNIt6+oqmxYhuJ7Z6i63QQmRTl5SUFCVKoaxzuVwhW2v1aF76Vlt5K+3AwICyXX5gYEDRR/qlmDn/6GaBwgRXCKTV9UAgoGyzHhwcVMwm9B2hFzN6e42E2AUhRDa/FdHkZElMTAzbNsMhyk6I2Mot2rFs2tLT0xMSMa2rq4tMrQcGBpTylndniGvrW8ZFPbkY64a8hT0xMVHpY0XZphgRp+XyN5vNikkOjDoit0k9PV6YJHMy3aTS4XAofYfJZFKe2+fzhdQvWfySyS0zPHJZmzSTTDG+y5EnhQmHbl6bmJiouOUwmUwhfYPev8v3tdvtStnr19bF6XTSfESu7/p8RN4hIOjv76fdRmJHimz2Lz/3hYZe3rLI6H37aPNCv5dZiohotVpD5oWy6GbCNsM1gBC5L5R3bU1G5HIIapGa/ZJ5bW9vL7q6upSohbIpeXd3N9rb2xUR0cBltxdCxP8Lke/T29uL/v5+DAwMUHuRx2oxP5PHFBm97gQl0+6hoSFlTu/xeNBrmA+73e6Qfr2vr0/JD72OimsODQ2FjBF9fX2KCwDZ7F6Y3oebf5xvwrWd4UQuB7FTUYioM2Lepb9/T08PlXdfX5/yv3I/KeZcepmL55O/H0Xb1k0ynU4n9fUmw3RciFeKZt/d3Y2Ojg6l3OR5Y19fn1IP+ZtwfJDrmNVqVfpieY0gKSkJqampiqSnpysuVZKSkpR+XEf+jvAa1nuyyHVSb/8XC3o/YLFYlPmTPiaazWZqn8FgMKT/ludl/nGOKhvu2YTI45/8t0A+F9o8ZSKIG/PbcJkT6dFks7v58+cr5isulwvXX389pW02W8hEREa/t15Bent7MWiYuFRXV+Pw4cOkc7vd+Otf/0rpAwcOkAkAwmy31ImkGw0TYX6r59to3iXStXQdRnEvs7FoJPj1r3+tmG/OnDlT2WorOhkY2/1///vfkw7GNmBhAtHR0YH29nZFf67PqaPnQbTrnm/z22jI75OUlKSYai5ZsoTM5zMzM3H11VeTDgCys7PpwyhcPohjwWBQMc+A4TPLZ2yNrq2tVcw6a2tr8eSTT0pnn60PNsNc+/rrr1fMarKzszFz5kzA2B6+b98+0gHAb3/7W6obNTU1aGhoUPTjxfkyv5XLwmKxKPVv5cqVisnDnDlzUFZWBhjm1iIfYVxnz5499NHy3nvvKVvtZfPbwcHBEDMs/bliQa9PYgESAIqKivD5z39e0X/mM58hk4GOjg70SyYDJ0+exKuvvgoY48R///d/k04n3DOHOzYSpk6dqphnjgUTaX4rY7FYqP3BMKuRzaRWrlyp9N/CFw4MMxe32006GO1Z9DVisUVQXV2tmEr4/X7FnEWfF8gfi+HG+aSkJCrDoqIipf4XFxdj3rx5gNG2dPOmX//612hsbASM55LreNBYgByOeDO/jaUeiw8y8fe///u/wyGZW8+bNw95eXmA0Q8IU0QYpk5PPPEEpaOZ3+roi20pKSk0VxAfggKT5l7A7XYr9UOuGz6fT/HhFQwG0dnZqYxTet05VzZu3Iinn35aPzwqdPNbHb18s7Oz6YNm/vz5inmuzWYjs9be3l7s2rWLdABw5swZmmsHDD+JMvq9xgr9PtDupd9XfJTC6G9lE+OcnBzccsstlF60aJGyMNDX10fzkoaGBsXlh8fjUdw0HDx4UDErE5sGBPpzj5f57e23364fJsQPJIL8/HwysysqKsInP/lJ6Wzg6quvpnb1j3/8QxmrKisrsX37dmCYflH/lpMJGD+6C/TzxMc5NBcvMEz/7rjjDulsYPny5TS2t7e3K2NJfX09tm7dChjt+7XXXlPKoquri8o4YCziyujPdq7o5X+xmN+awrhDSE5OpjaZk5OjuELJzMykuXtCQoLSXmGY28rziMTExBATXZmOjg4q0+PHjyum/adOncIbb7wBGKbWu3fvJh3GsOx14sH81iR9L4sfNgXJyclYvnw5pb/1rW8pY6rL5aKxvq2tTXEhMzAwgJ///OeUfvfdd0O+ReTn0ttFLCQkJCjm1rfeeivNOQBg7ty5yhxUv9eBAwfoG/M73/kOduzYoegj5Z9MuPP0e8mw+S3DMAzDMAzDMAzDMAzDTFJ4UY9hGIZhGIZhGIZhGIZhJhm8qMcwDMMwDMMwDMMwDMMwk4y48akXDf0xr7jiCpSUlAAAFixYgKuuuop0drsdFRUV0tmhyNfTbZf1e8mOGJubm5Uw8r29veQ3CQDeeOMNxQeGcAwM47q6Xx4Z/b6jYSJ86o0nY2UfD+1aFotF8bXw7LPPKj5fcnNzFTt/vxFQAYbz8kceeYR0APDqq6+SXzbhJHWsGE0exINPPb1dycj+iyoqKsh3CQwfPqtXrwYMX0ayvzUYvhrEtXUnqX6/n8rA7/fj9OnTpAOAvXv3ki+GDz/8UPFn4/f70dPTI50N/K//9b/o2ZYtW4YpU6aQzul0kh+O/v7+EP9AP/nJT8gvRF9f35jWjUiMl0+9nJwcxY+FXifldGJiIpYtW0bpb33rW4pfCtl/xsDAANra2kgXCATw8MMPk0+aqqoqxZ+NCHAC456636zRtBv9/Pz8fJSWlgKGv7bbbrtN0a9YsYL8hpw5cwbd3d2kO3bsGP72t78BRv34+9//TjqBuJ/sWFccl98r0rihMxl86kUrI3EsLS0N+fn5dNzhcODWW2+l9BVXXIH09HRKiyAVCONjSehFPlssFuU5hAN8QTAYVPxXCaf3AuHAWaCXUWpqKl1f9w926tQp7N27FzD6Bt3vzokTJ6i/8Hg8Ie8RLs8Ek92nnvChaDab8YMf/EDxqbdo0SLymVhbW6v41Ovq6sKjjz5K6TNnzijlI+eZ7oPHZDIhLS1NObZy5Upq+8XFxco4ZDablXrnM4KXCPr7+6nuNDQ0KD7phoaG8OKLL5JPpv7+fqWt62Wr55+ul4kHn3qy3zOn0xniaF4eu+X2BsNHqt6ORkqkfNHRnznc/4pjJiNIjszixYtp3njZZZdh8eLFpHM6nUpd0d9/7969qKmpAQwfcm+++SbphoaGFF9S/f39ij822VdjOM6HTz09L0VAMxjz6WuuuUbR33bbbeSvzKcFmHvrrbfw+OOPA4Y/suPHj5MOUcaNoOZrVM/3xMRE8oO5dOlSxVdzcnKy4pcdhk9Ncf4HH3yg+Cs7ffo0Xn75ZcAoE328leeluk89k+YPTvcNJ/dN+rnQxhl9TLr33nvxH//xH5QeLfHqU0//joPRJsVcbPny5YpftJSUFJq7h2vPLpdL8ZEqz8fCfRe88sor1He9+eabSt0YGBhAZ2cnYNRJ3a/veHE+fOrpbd/hcFA+5uXlKf7ps7Ky8NnPfpbSV155pVIONpuNvgtbWlqUtt/f34+f/exnlN6zZ4+Sr3o70Z9ruGMwykhuQwkJCZg9ezal/+Vf/gW5ubmUnjNnDubMmUNpvT9+5513aL724x//WJnb6ffSn0nv02Jh0vvUs9lsIRFvhYiJu/6hJNAzTmS0nuECsxQFzWazKVEcXS6XEkVHj4AXLpoqc36R64YexTBceQ1JUXbkKIQiypYQeeC+2IlW1+U8Fk5phciRIZ1OJxISEhSR0dvukBSVyufzhUTIa2trQ3NzM5qbm1FfX4+amhqSxsZGmjQLSU5OprYtR0NzOBywWq3KvcV9hYjFJ/2j7WLAZDIpfXJhYSGmTJlCkp2dTVHm7HZ7SOSwM2fOkDQ3NytREd1uN7U5+aN9PEhISFD6B7n8HQ4HzFrELrmv8BuR0UQ/Ifc74v/0Y7r+Yhw35DHYYkROFuJ0OpGbm6tITk4OSXp6utKP6FHuHA6HEhVPluTkZOTl5ZHk5+dj2rRpJFOnTlWktLQUJSUlKCkpwZQpU+hvWUpLS1FaWoq8vDxkZWWRWCwW6ocaGhpQVVWlSEdHB0XTHBwcDOnnLhb0NpGQkKBErdRFzNP0BdtwyO3LZDKFXCsjI4PqQnFxMaZPn05SVlaGWbNmkYiJvpBZs2Zh5syZmDlzJqZOnarU0ezsbFitVhrP9OfU05MNMfaKQDVydFt5/G1rawuZT+kfSPGCXg9TUlKQmZmJzMxMqh9C8vPzlflMUIqkGwgE0NPTQxF9m5qaUFdXR1JfX0/RX0WwBXlOEY/5o/dN8rjn8XjQ19eniJwX6enpKCgoIMnOzqY5g9PpVNqzRYtCqY+R+niqzxutUkTUtLQ0pcwKCwsparoQq9VK1/J6vSFRjuWovKK+C4lWTvpzD/cOZunbM1we6P872fuOkWIyIhjLIqLYijolxl4xThcVFaGoqAiFhYXKWJyVlQWn06nMBeTvQBh9miwdHR00Hw33HSFHaL6YkOur3W5XvgGSk5OVcVAeAxMSEpT6jDD9itxv6LpoxNouIrUxGf05RP8nBGHa+ngTuuLFMAzDMAzDMAzDMAzDMExcE9fmt/Kqpv7Lx+rVq1FWVgaEMb+1Wq2YOnUqpUe6mivQV1Pl/x0YGFBW3wcHB1FbW0vpHTt2KPq9e/fi2LFjgLGFtL29nXTjCZvfnkX8aiCw2+1KOPM//vGPSmj7pKQkxdynv78fzc3N9Pf//b//l3QwzAWampoA49eceNmtd77Nb/U2pCPvUFi0aJFiyrR48WIyjXA6nco2ehi7dAXt7e2KCU9LSwuZ1Hq93hCzoZqaGjLdbGpqQmtrK+lSU1NxySWXSGer5rczZ85U6kpQMvfo6+vD1q1bSQcAv/rVr8jMRuzemggmyvxWRm+jTqcTa9asofR//ud/ktkcNDOimpoaxYVBIBDAb37zG9rC3tbWpphBxoJeD/Xn1NPilznBjBkzsGDBAsAwJbrxxhuls4Fp06ZRfTx58qRiRlxTU4OdO3cCxjvpeWez2WA2dpInJCQo/VRPTw+ZFgaDQTQ1NSljoP7cMvFofquXg0y4dxHnl5SU4LLLLqPjDocDn//85yldUVFBplzQzGaCYdxdyM+hl3U09PYrm98ODQ1RvyLo7Oykdztx4gSZ5MAwuxN1w+v1orq6mnQw5hn6swvC5ZfM+TC/jWW8jpTnJpOJdmObzWZ8+9vfVsbjpUuXkhlVfX29Ym7U2dmp1NEzZ84oZsvyfe12O5kIwpgnbNy4UdkJftlllynmQzIBY8eVICkpSWm/6enp5MbD7XaTiw4Y9ebnP/85/ZJ/6NAhxWzf5/OFmFvLRMrr82F+qyPaH8KU9Ujm4tH0E43ZbEZxcbFybO3atTSeLVy4EIsWLSKd2bAAERw/flzZqf/iiy9Sfra0tCh9dTAYHNXunvNhfqtjs9nIrM7pdCouS2C4MRH69evXo7y8nHT19fU4cOAAYPSBhw4dIp2O2FElMBu78wQul4v+hmF+azVMcktLS+n7Eca1ZPcgML7tRF3cv3+/Yhbd3NyMd955BzD6gsbGRtLBcJkgyry/v18pU5vNpsyFEiV3MjDMFIVpqd1uV8a3QCCAlpYWSh8+fFiZ//7v//2/8bWvfY3So2WizW8j9W3yMZfLFeKW5+abb6Y+fcGCBUqbFTvxMUwfZAqzi0qkfT4fOjo6FN3TTz9NffbWrVsVNz76vGO4cXysOR/mt7oZc3FxMeXzvHnzcOmll5IuJSVFMXHPzc1Vxkyfz0dzrObmZlRWVpLO4/Hgt7/9LaU/+OADZczU81wvy2jI/2uz2bB8+XJKb9q0STG/LSsro75DWO/J7Ny5k+aFP/nJT/Dee+8p+liI9B56HRbmt5N6UW/GjBmA0YBl/whWq1UZSGJ4RSBMRuodjXy9YDCoFOqePXuUyf2WLVvI11ZXVxd95Av0e40VvKh3FrHtXuByuZSFm//+7/9GZmYmpYVZpcDtdlOZ9ff346c//SnpAODdd9+lRT+9YzmfxPuinpzHixYtIt90Ir1ixQrAKC/RzgU2yWdPTU2NMuCePHkSr7/+OmBMCnfs2EE6GD4wxWRrSPPHl5eXh0984hPS2cCGDRtoUlVYWKj4W/R4PPRh19vbixdffJF0APDUU0+hvr4eCONTazw5H4t60Nqp0+nExz72MUr/5Cc/USay8vb0Q4cO4amnniJdIBDA3/72N9LLZSaIVr8E4c7T+28Z3RyuoqICS5YsAQBkZ2fj+uuvl84+OwEXE5Njx45RXwCjDYoPFIvFEvLR4JL8uAhTBEFrayv++c9/AsYzHjt2TFlU0schmcm+qGeSJtizZs1SFocdDgduueUWSpeUlCDR8KGHMJNz/doy+rni2HDofbv8I87g4GBI2zh69CjV23fffRcNDQ2kq62txf79+wHjuvqCoNxfhHumSO810Yt6sT5fuPNlxKKQ2WzGV7/6VeXDYfny5eTnrqGhQfnQ7urqUupoQ0ODYp4vl3dSUpKyYJeQkIAHH3xQude0adNoXGpoaMCpU6dI59X8feXn5yvtd9asWfTDst5WfT4fHnzwQaob27ZtU/oN4bZhOCLV73hY1JOfL1xZ688sE0l3vkhISAjx0f2JT3yCfHrPnTsX8+bNI11Q84e6c+dO5RvhD3/4g7Kgr5e13s/EQjws6pkk/1b6QhsA5OTk0Jj5gx/8QNmQIf8o4/F4Ii7quSS/vJBcNcB4Bt3nmnCvA23hEcb5+nP29PRQ/15ZWUlzORg/IIhnCwQCSvsFgO7ublqY7+rqUn7QcTqdmD9/PqVTU1OVhfDS0lJaRHC5XMr3ydDQkDK2b9myRfkh8bbbbsOdd95J6dESr4t6qampuPzyyxXdv/3bv1FelZaWKj/Ay3USYX6g03/gk8cKn88XshnnT3/6Ey0qvfLKK8qins5o2nMsTPSinslkIh+Ggrlz51IZLF++XGnbDodD2aChL2b39vbSj/fNzc3K+Or1evE///M/lP7ggw8Un3p+w+WDQB935LoUTifr7Xa78u2iL+oJtyow7qv/CPP2229T2//JT36CPXv2kE6uV9GIdp7ePia9Tz2GYRiGYRiGYRiGYRiGuVjhRT2GYRiGYRiGYRiGYRiGmWRMmkU9sW1RyMDAgBIlqqOjg6Srq4vMu4SJjCxiy3t/fz8GBgaUCKbD+TLR7y+LHIEnJSWFQrqnpaWhoKCAIqYVFRUputTU1KhbLJnRIbb/C7Hb7cjOziYR5nbDbYsNRom6I2+B1bfDMsMj519PT4/SfkWUvLa2NnR0dCiRUQcGBtDS0oLGxkY0NjaitrYWJ0+eJDl9+jRFpWpvbw8blUwvPyEJCQnIyMhQJCkpiSJd6+YZPp8P3d3d6O7uRldXFz2zEJ/PF1JHLhaCwSA8Hg9JZ2enEgXR6/VSm0xJSVEiS06fPh3Z2dkUmUyYzQiR/XCcC3J7F+Y+QuSIl3IU1Pz8fOTk5ChRDYX/TSHp6elKVNbi4mLMnj0bs2fPxqxZs0LeUY6emp+fr0RjS09Pp6hhwl+XLOH6qngl2rPq42l2djZFnC0pKUFhYSFJQUGBEg3XbDaHtONIEggEaB6g64Ja9OKhoSGl75Aj3rW2tqK2thZHjx7F0aNHcfjwYezbt0+RI0eOkL6uro6ifjY3N6O7u1uZn+jPEZxE44r+fHr6XAkGg2S6JqSvr4/6FLPZrMyn0tLSlL5bH9vF+G+325GcnEztOj8/H3l5eRRxU4jwhXfmzBnU1dXh1KlTJLW1tUqE7traWkVOnz5N0t7eHtLnyFE27Xa70rZlM7HJjl4X9HQ8IZdRYmIi9TlFRUUoLy9XpLCwkKI4JiYmKn3G4OCgMtZVV1crc5TOzk7qU8K1/QsB+X3k+XMgEFD6VP37LBgMUvRpu90eMh+TJS0tDSkpKYrI0TbtdrsyPsvRNsUYKouOPOdITk5Wxufc3FwlEnp5eTlFu545cyYqKiowd+5czJ07FwsWLMDChQtJFixYQH65ysrKQuYFRUVFVLfS09OV8S4xMVHpK0ReCRnt3CieEX14QkICbDZbSNknJyfTvEx27yOQ62S07wIZk8mkRMYV/vmEJCUlhdS7iwGTyRTSJqdMmUL1OC8vT5krO51Opb3pcy2TtJYi5tNCMjIylDZzySWXYNGiRSSXXnop5s+fj/nz56OiokJpm6J9CikoKFDaclpamtJPOBwOmifY7XalHwj3/aH3I7IIs24hE0Hc+NSL9YVLSkrIuf7cuXNxxRVXkM7lcmHt2rWU1j+C3G43ORdNSEgI8cmTnZ2tnK/b2+tZJqfdbjeGJHv9EydOoK6uDjAc5v79738nXSAQwP79+8nmXr/uaJgIn3p6mY3l80fK71gQH8WCnJwcxT/IrbfeCpfkUFcfGLu6ushPQX9/Px5++GHSAcB7771HwRbCDQjni3j3qSd/uDgcDiXPFyxYgKVLlwKGz7JrrrmGdDB8l4nF9927dyuBajo6OsjpfCAQUPwuiGPy33J61qxZ+P73v09pALjiiivIb4v+wdXQ0IAPP/wQMNr9H//4R9LB8BUnO1OfKM6XTz0Zu92u+Bm6++67kZ2dTeny8nLyOTUwMKAELBkaGsJ9991Hfoj27t2r+DQZHBxUAmdEqmt6exQDrUAfoK+44grlOefNm0e+W5KSkjBr1izpbNW/4+DgoOJLSXzAQJqQysjP3d3drdTV+vp6qk/BYBCvvfYaXQuaI26dePCpF6lMdPR8Wb16NfkcKi0tVXznWCwW8mcCo7/W7yXSwTA+TuU8s1qtSl0QC36CoOYv98CBA4pT8hMnTtDY4Ha7Ff9uMPoicf/e3l6l/PQ6rNdTPR0LE+1TL1b08tIRepPJhOXLlyv1Y/369eTfLDExURm7u7u78bvf/Y7Sf//73xVn2uKjH8b8cfXq1aSzWCzYtGmT8jG4d+9ecoB/8uRJxb+X3+9X/GilpqYqfcmcOXMoINf06dNx7bXXkm5oaAivvfYa1bXHHntMaa89PT2KDy59kS9S3Yg3n3rhiPT8E4X+jHq6qKiI/HTb7XZ86lOfUvTTp0+nAFr6mNLb20v+MmHMneR+o66ujsazcH3UaIgHn3rQ8lPP26SkJDr24x//GKtWrVJ0whdaUPNNqKPPxxDlvrpO1+vXkuupx+NRNnz4fD7Fl5bct0P738HBQWUcMZlMSj+TnJys3Ntms5F+cHBQ8bno9/uxe/duSr/++uvK3Ojmm2/G5z73OUqPlqE48qknFnphfMfpQcs+//nPI8PwgaoHUZEJBAIhgS9SU1OVMjGbzdSfB6WAeIJXX32V2vRLL72EgwcPkq6np0fxn6u/x3gxXj71Hn30Uf0wYJTHxz72MaXMbrzxRgoikZ2drfiiMxmLdoJIbdvn8ynzo4AWjKa/v18pk56eHpo/9/b2hsQuSE9PpzZ26NAh5Xujq6tLKS+bzaZ8c65fv175JsjPzyd/vENDQ8pzwgiWKvqKhx56SPGpF4yyRhCp/keDfeoxDMMwDMMwDMMwDMMwzCSFF/UYhmEYhmEYhmEYhmEYZpJxwS7qiW2O4bYw6jo5HU70/40FfYs3wzCRkduY3hZjbX8TRbw+12RgJHknzGVEf6qnhyOSXr7GSK83luj1nAllIssDI5gbMPHDaMpjousVwzDnl9H0F+eTSGOQnmaGR89HXZgLg9GO7dH+P5r+fBM3PvWioWekcHwKABmGc3OBzWYjvysAkJmZqdjXt7e3k48Av9+PgYEB0pnC+NSbMWMGMjMzAcOWf8qUKaRLSEhAfn4+pWUfSzDsu4VPhJaWlhC/LE888QTZltfX1yv+E7xeb0S/O5GYCJ968YrsAzEjI0Oxhy8uLsYPfvADSs+fPx82m43Sej2rqanBli1bAMP315NPPqnoT58+rfhLiVRG+rX1c3W9jH5uNOLNp57+/LJe91mZmppK7S0xMZF8rwlaW1upzTQ1NSl+63QfJPp9ZYSTZsGsWbPw3e9+VznnqquuIp+bg4ODyvmnTp3Czp07AcOf0+9//3vSiWOR/EaMF+PlUy87OzuibxW5DC0WC/nGAYCrr74aycnJlF69ejWWL18OGH1mamoq6YLBIPbt20d5fezYMcU3lsfjiVjGfX195KfI4/Eo/m4SExPJF6vFYiHfGIL8/HzyoQijvy8sLASMvl5+ToTxySfj9/up/x4cHCT/i4Kenh6lHst+Ptrb2/HWW28BxvtVVVUpvpf8fr+SlvM+HnzqRcJsNit5fNtttyl+Ty+99FJq8ykpKcr4CqMMBV6vV8mH3t5e6g/6+vpCfKt4PB6qL0uWLFGufeDAAbz88suUHhoaUvy4NDU1Kb6RRPAGGOWh+8/0+/10L/3DQU+PJfHuUy8SJm1hPScnR/E39clPfhJz5swBDB9Cc+fOJZ3H41HmJ88//7zSX4kANDD8Acn++ILBIPr6+pQyqaqqIt9L3d3diu+qYDCo+NhKMIJyCETwGxj17Mtf/jLpYPQHgu9973s4cOAApVtaWlBfXw8MU0/k++i6ePCpNxnQ8004dheUlZWRzy6r1YrFixdLZ6v+186cOUPlBaP8/vKXv1D63XffVcrb6/WG+GAbK86HTz09L/W5nR44YObMmfQ99u///u80D4DxXSfmCYFAQOlvYfS5YszUfSKbzWb6JgwGg8ocAUa+i/9NS0ujvgBGX93U1CSdrSKCYgnksT0QCCg+MMUxkS9ut1uZv/T19WHfvn2UttvtSp7Jzvi9Xq8yrgwNDeHMmTOUPnPmjPKN+MUvfhFf+9rXKD1aJtqnXiQsRhAFGOUh9/0w5phiHpGdna3MNzs7O3Hq1CkgTB4CQF5enlK+M2bMIJ/QDodD+eaH4RdT1KU333xTmW9VVVXh1VdfBcKME+PJRPjUC0p+Lu12OzZu3KjU3X/913+ltRcRqEZG/h7S+w2E6TsE8n2htS8YPvhEnzo4OBhSX2V/iW1tbUrf4Ha7lbm3xWJBSUkJpWfMmKHMOUXgD4R5Lhi+eMWz/PSnP1V86nk8nnNeL4B2vq5//vnnsW7dusm7U084tR4yItR5vV5F5GiZHikKo8fjCYmmKSLhDicej4eu6zMiVskiJl7BYJAmpULMUvRVq9UaEmVFjqoiFjdkYUaHnp9yeegT8XCIRus3FoDEREJIpEbJjAy5/QQNp7SDUjRqvb3q7VGUjygj+Vpjif6cel3Q+4WLHTlv/H4/DbyiDxU6GAO4LHLkOj36my56nypHrgon8rlytEun0xlyrgicI0TvT0YqMCaTsuh5Itd5eZwR/cx41evzgZw3epnIUeZEMAshehno+aK3Rzl/9TwWdU/gN37gG25uoM8lRP8j12ld5Oe5kMpvvNDzJly/KiSozbfER70QeZwX8y8hFoslpO7o80R5PjloBMGRRa9rsshteyjMWKDP+2QR/QXCTNyZ8cFisYTUFbkf0uuSXO/E+CaLXHf0uqHX8QuNaO8n+nG9LxciCFf39T4+kuj5LuaHcjnI44Z+viyBMP23/Ld+b13059D7muFEH4/0fkl/p8AYBl2JZ4LSd5mQQSMgieiv9XFfz0td5HwfNH7AHy5P5TmhPK6IcediIBhmvUPOF309Ixp625dF7jOE6P21EJvNFjKPl/tyfb4Z7htCPj/S+BwO/dl1GW8m7aIewzAMwzAMwzAMwzAMw1ysTBrzWx15xdRms8EhbfO0aKZfycnJsEhmUrJJrF8zv4VxvryiWlBQQOHrc3JyUFRURDqHw4FFixZRes6cOcqzJEhbqQcGBhQTDr/fj9/97ncYMn7JffPNN9HS0kL6/v7+EJOekXIxm9+K1XUAKCwsVMqrpKQE//mf/0npzMxMpW709fXBI21nP3HiBJ599lnA2Ar/wgsvkA7Gtm6vZiIQD5xv89tY0H/BEL++iL9lMyloJnQezbxS/OoqEPVATot7ZWdnk5kvDLPFu+++WzobqKiogN0wH2lra0NfXx/pqqqq8MYbbwCGKeVf//pX0kEzv5tIzpf5rYxZM7GcOnUqbJKZ++LFi8m8oaCgAEuXLiUdNLNWvY2JXTAC/ZfUgYEBynfxi6vAZrPR1nmz2ayUP4z+XK4zcl30+XwhZjYtLS10fY/HA7+0Fd/r9dJW+8HBQezdu5d0MLb9i/PdbrfS1w8MDOD06dOU7u7ujliXZN3UqVNx8uRJRT9aRmN+K35JFTidTsyfP5/S99xzD42vAJCbm4u0tDTAKGu57IeGhpR8aWxsVPrr3t5euN1uwCgP3aQqLS2Nyvemm27CrFmzSPfWW2/ht7/9LaX9fj+OHDlC6f7+fqWuid0AMPJfrmfiWKT0eBFv5rf6r9PR8kE+PzExUUkvXbqUTKFmzZqFyy+/nHRms1kxudqzZ49iZtPZ2Ul1o6enB3V1daQLBoOoq6tTyrerq4vmhmIniIw+zsjPmZ+fT24/li1bhq9//eukM2kuXn70ox/h8OHDpK+trUVlZSVgPFcs8ws2vw2PydjtISgqKlLGmJUrV2L27NmULigowLJlywDjf2VTTRhuWUR/feTIEaX8Ojs7aV4AY4yQ64rYvYUwbWO0jJf57W233aYci/bcoo2Hm7+tXbuWzNluv/12ZSwQO3Jg9Lfvvfce6QDg+PHjyreb3OeaTCYaq4OGOb2Mz+ejfE9OTlZcafj9fsUED9q81OVyKSZ4Q0ND1C6DwSA6OztD+jWRHhgYUJ5lYGAAx48fp7RcD2Hkmairer+jv1d/f7+SB9/85jdDXMiMhqE4Mr+Vy8NqtSIjI0PRT5s2jeaYqampSnn19PSQyW0gjLl0WlqaMkeZOXMmLrnkEgBAeno6VqxYIZ191i2IKLf9+/cr5veHDh2ib8YhzYUHRtB2zpWJMr8V9c1qteK6666TzgZuueUWlJeXA2FM3M1ms/INMKTtWna73TTeWq1WpfyguV3Rv+sg5WswjDWEnNZ3zw8ODiptymQyKfdKTk5Wdl/K3wSBMC4Cdu3aRfPCn//854qpvfxNcC7IdUd/xxdeeAHr1q2bvIt6MvJAINLyQOJyuZRKMDAwQAURblHP6XQq6ZycHLpedna24ofJ6XQqebJ06VLl/51OJ33c+nw+ZZLp9/vx5JNP0ofdyy+/jIaGBtLLHyixcjEv6tntdqoPxcXFKC0tJV1paSl+8pOfUNrpdCoNpaurSymjyspKykev14t//OMfpINRRvICQ7ww2Rb1dMQxeaImkAcDfWCAdj2987cYJh8w6oLwlwZjwVefvJaVldFg39jYqLTHEydOYPv27YBRD1566SXSIUynO1HEw6KeXm45OTlKev78+bSgMnXqVGVyYNI+egcGBpRBeMgwixDoi3ryoq8+8bdardQ/m83mEB958sQR2r08Ho+yoATjA1y0/76+PmUC7vV6qb54vV5lcIe2qCfMOwWDg4PkzwvG/8vobUaua/G2qCfMGAQpKSnKmPm1r31NKYeUlBSaVPX19Sn54Pf7cfDgQUrX1NQo+dbT00Mf216vF21tbaSD8bEuxobbbruNFpYB4PXXX8evfvUrSvt8Puzfv19Jy/kciOJ+IdIEbDyZ7It6MnK9AYAFCxbQ/KuiokLxx2Wz2VBWVkbpo0ePKgu+tbW1NL9qa2tTFmKCwSBOnTql9CX9/f0hPxjJyGl9nMnLy6MfDJYtW4ZvfOMbpDOZTJgyZQrlywMPPKAsHldXV1M6EAiEzE8jwYt64TEZpmGC8vJy5SP+uuuuo494GP4XFyxYQGl9DnLo0CHqlz788EOlb3e73di9ezel+/v7lbqi1yO9fYyGeFzUkxfaYfyYIsbgjRs3ko9Mgfjfnp4evPLKK4ruwIED9FGsf5zLZRwMs6g3JJlSJiUlKT8k+f3+kLFCXqh3uVzKj5RDhosYGPfSF4lkPIYZrcDr9Sq+XvW8tBimizDav/xDITR/nH7th+N7771X8Rk+WobiaFFPxmKxhCz65ObmUjvVfSD29fXRD3yBQCBks4y+cDNz5kxq/1lZWVi7dq109tlvBdF/HD58WFm4O3DgAPXBfr8/xK+vXt5jxflY1LvqqquU97n55psxY8YMwMg32Z+9vi6j1922tjYqF7vdrpxrMpmUfkT+joNxbdFmzIaLLRm5n9Dxaz8cQxvPbVqcBJP0A9HQ0JAyxwCAHTt2UBv99a9/rcwhvV5vSL8UC5HmlM8//zxuuOEGNr9lGIZhGIZhGIZhGIZhmMkGL+oxDMMwDMMwDMMwDMMwzCTjgjC/lbdDirTwg4Uw2yd9RsRMGNsndfNJ3eQjKSlJsdWXbfldLheuvvpqSn/84x9XtnWnpqbStlF9m6dufvv8888rtvl9fX0h24RHysVsfpucnEzlNWPGDMVvUlFREb7zne9QWi/r+vp6xe9hZWUlnnnmGcCoN2+++aZ09tmt9ZG29p4vJpP5LSJsSdfbNjRzy3AmcPq2bBm5L7j88ssVfy55eXm4/vrrpbPPbukXJh2VlZWKicbx48fx+uuvA4aJ6I4dO0iHMNujJ4p4ML+F5itG9kECw3xBmD6XlpbiYx/7GOlgmD2LsktMTFT+V68Tet2R831IM882GxEyBfr/dnR0KH30wMAAmfsMDAyEmFJEMr+VfXX4fD5UV1eTDppZseyfDcZz664adMSz6/Us3sxvXS4X+TGEYZaxadMmSn/mM59RTC28RlRZGOUh57nf71d8E9bX1yvmDwNGxFpxrm66OH36dDLNuOOOO5T2//bbb+Opp56itM/nw7vvvktpj8cTYuqt571MJFOJ8eRCMr/VzWimTZtG8685c+YovjgTExOV52xoaFDa1J49e8h0u729XTF5DQaDaG1tVZ5N98cpo7+DSTPbz8nJIX9CS5cuxVe/+lXl3FmzZtH5P/7xjxVT4FOnTrH57SjR65xZ8/F67bXXKuZ7V111FSoqKiidlJSE4uJiwCiD5uZm0gHA7t276djRo0dx6NAh0nk8HqX/1X0xhqs7Y8VkML+9+eabyfz25ptvVnwZBiWfyB0dHXjiiSdIBwAffPABubSQzWkF8nN5vV4lr4OSry273R7iI0/3dSW3abvdrswbdLNY3cRafg6fEYFV4Pf7lW8MPS9ls99gGF+tclqf/37nO9/Bf/zHf1B6tMSr+a3JZAr5dpN95+vl5fV60d3dDRh5qptb6r6Ui4qKMH36dMD4Bli/fr10NrBw4UKqPydPnlS+Cw4fPkz+tb1eb9hvZr3Mx4KJMr8Vbc5isSguCgDgmmuuIR/2GRkZIea3cl+guzNpb2+n9Q6bzRZifivPIa1Wq5KHCZLf5oSEBOVcGN8f4nzddHdIMqWHcS95/UivG3K/4Pf7Q9Zotm7dSnPSJ554QnEXo68BxYJeZ/Rx5ILyqYcwLxwLehbo15L1Ni0oR1JSEq699lpK33777YpzyNzcXJqEBozQ5gJ9Ue/Pf/4zamtrSd/f368MNPpzReJiXtTLycmhDnfBggVKIJPc3Fx84QtfoLSepwcPHlTKQA6U4ff7Fft4hBlUxwv9OaPdc7It6p0r4fJBzis935xOJw38N954o+IrIzU1VfGxBWNyIK7x7rvvKj7Vjh8/jtdeew0wJu7Hjh0j3fkkXhb15LzXB9KkpCQatKdMmYJrrrmGdCaTCZdffjmVU0lJiTJI24yw9OJcefIGrcx05Il9IIzD5IMHDyrv2NnZScGL+vv7UVVVJZ0deVHP7/fT4B4IBELybrz6jnhY1JPzPz09XQlIUlRUhO9///uUnj9/vjJBr66upg/murq6EL928kJbc3Ozkuc+n4/SpjD+OBcsWED15Qtf+IIyKd23b5/iF9Pr9dKiPYzy1T+whqtn55MLaVFP/1EmLS2N5l96oIyUlBTccsstlNY/6p977jm8+uqrgPEBoffX5zrZRph3zMrKomAvixcvxhe/+EXSmc1mXHbZZfRuP/zhD0MW9cSz6Yv7CHMvGV7UO4tJ++HHYrEoP7brwXkWL16s+GOUf/zR+xwA+Oc//0k/wJ88eVIZFwKBgPJDQ7T6Hqk8Y2UyLOp99rOfpUW9G2+8UVnUkxfLmpqalHECxjeovDij562c1vtqGb1+BLUAa+IcgbzQJpDvFel/EaYO6OmxYvPmzbjvvvv0w+fMaBf1ouVDrMj/r197uIUXhPn21scV/Vqpqak0Z8nPz1d+hASAdevWUb1ubm5WfG1XVlbi5ZdfBow5o+5rOxr6s0RCzo/S0tKQ+eloueeee0LmfeKeZrMZ+fn5im7mzJm0/qHP+ywWi+I7WV/U6+joUBb15EV3U5hFPbkM7XY7zQscDgdyc3NJB2NOLOaCss99GHVcXqA3mUzKc8rfjEIvysjr9So+nwHgL3/5C/X///M//6PMMwJSkCREKetIunA8//zzWLduHZvfMgzDMAzDMAzDMAzDMMxkgxf1YkT8wiOLxWIh0XWQflEKBAIYHBxUpKenB729vRRFVazkjtcujouBhIQE2IyIiy6XC2lpaST6r4Y6g4OD6O/vJxkYGKDt8+KXBVmY80u0XzPErypCrFYr7HY77HY7nE4nkpKSSMQvMrKIX/iGhobg9XoxMDBA4vF44PV64fV6Q0xsmFDkdjNkuD3wGRHBm5ubSVpaWtDU1ETS2tqKtrY2RTo6OtDR0YHOzk7qP4UMDg7C7/fD7/eH/IIO6deyoaEhdHV1KdLY2Ij6+npF6urqUFdXhzNnzqC9vV2R3t5e9PX1oa+vT6kPok6I55B/CbxYEG3OYrFQfyx2WSYnJ5Pobbi3tzekvIW0t7cr/bMYJ4WI+1ksFiQkJISIfK7H46GyE+Un2vpQGNMu5vwjflX3+/0hY7UYr4WIMpTbu/jfIcMsf7zGcv3a8nPIY4roB+U5oei3eA4YG/I4r7d/m82m9DmZmZmK2O12pXwGBwfhdrvhdrvR3d2NlpYWRTo7O9Hd3Y3u7m4MDAyElO9I0fu+CxG9Lch1XdTxcO0w3LeWnl/6/4a7znCc67nhREc+Fk5/IaN/G+tjsBB599NYoOdzpPLRiXaO3r7la5uNaKtC5G8M3UT4QkNfz3C73TQ3b21tRUNDgyKnT58mEfNqIY2NjWhtbUVrayuam5vR2NioyHDzcl3q6+tx5swZRfTvC110vfxN4PF4lHeUd3wGw4zt8npBLGPBWHHBmN9GItxAEAvy/ycmJiq23snJyYqpy+c+9znF/DYtLY22jQ4MDCi+FHw+H370ox+R+daePXsU/eDgoLKNX3+PSJwP81v9+WLN51iQ76XfZ/bs2WTyvGbNGnz84x8nndPpVHyn6GzZskUx96qtrcXWrVsB44Oirq5OOjv0nceSSNfW31nnYjG/jYQpjPndlClTaFv3HXfcgc985jOkSwjji8HtdlPH/PLLLytbqaurq8mPXiAQCPHJEq2Mxot4NL/V67I8QbdarUq+m0wmXHLJJTTpmzt3LpmywWjDYnHebreHmACUl5eTea7L5VImVmJxFobvoy1btpAOAJ599lnFxLq9vR1NTU2AUZ764pz44WY8ONf6Ew/mtwkJCZQ3hYWF5J8Khl+7xx9/nNIej0d517/85S/YtWsXAOD06dOK6V8wGCQ/hTDGY7kMxIcEDHMP2VUGDL+ZQn/ttddi6tSppKuursbu3bsp7fP5lHRvb68yoUOYeh0PxJv57WjQ81euV1OmTFFM91JSUvC5z32O0pmZmUr//5e//AWvvPIKAKC7u1txs4Ew5nomzYRLb4/6s8lkZGSQeedll12Gu+++m3Rmsxnz58+n97j33nvx4Ycfkr6pqYn6IPHRMFIuZvNbi+TiweFwKOZbTqdT8Z/5wAMPKPN0fRG/u7sbp06dAoz+SfhVFuzfv5/m6uJHnHggHs1vhamt4Oqrr6Z++Qtf+AIuvfRSRS9obm7GAw88oBzbvn07uczw+XwhbfZ8oeeH3ldMFOfD/Faf58nuUJxOpzI+y/ni8/mUsRxhzJhjQS8DnVjKJC0tjUxHc3NzsWHDBkX/qU99ivp33e3KqVOn8MYbbwDG98Mvf/lL0ulEe+ZoyO80Uea3MrE+v/y8ennI3wTBKIuxcl8P4ztAzPmdTif59RNcdtll9B2QmJiozAv8mp+7hIQEZV6xYMEC5fskNTWVzHP7+/vR2NhIOgD43e9+Ry4zXnnlFRpHBPJ7jSb/dJ5//nnccMMNvFOPYRiGYRiGYRiGYRiGYSYbvKjHMAzDMAzDMAzDMAzDMJMMXtRjGIZhGIZhGIZhGIZhmEnGBeFTz6SFJzebzYoNdGJiomK77Ha7yZY/mu02jPDKwga7uLgYM2bMIF1qaio++9nPUvryyy9XfHkIh/oAUF9fj3feeYd0fr8fP/vZz8hPU09Pj+KzSTjkPBfOh0+9iSSSLfqCBQuQlZUFALj++uvxqU99inQ2mw0FBQWUFk6OBc8++6xSRo2NjeRXKRAIKD4P45l496kXyVfRaBHXNpvNSkh1AFi9ejXly6pVq7Bs2TLSmc3mEB9cu3fvpva7ZcsWHD9+nHRNTU04evQoYLyD7t8llvfSz41Uv6MxUT71RvOM0P5f900n/GPAaLOyXg5fn5qaissvv5x0APCZz3yGfPAVFhYqvpP6+/vR1tYGGH6Tvvvd75IOAI4cOYLu7m5K635N4xG97sSDTz2Hw0FjZmlpKaZPn0660tJSPPTQQ5T2er3KO/zxj3/EW2+9BRg+DWXfZyaTSWmj6enpin8U2ZeWxWJRxmIYY7+4V2ZmpqKvq6vDgQMHKD00NIT6+nolred1PBJvPvVG20/IyL50cnJyFF+NycnJuOmmmyh95ZVXKvPA9957j8r3xIkTeOmll0gXDAbR398f0d+Nno5EXl4e+fVdvHgxvvjFL5IuGAyioaGB7vXrX/8aJ06cIL3b7T7necbF7FMvOTmZ/HkVFRWhpKSEdGlpabj22mspvWrVKqUfOXjwoOJLtb6+nvxi+Xw+7Nu3j3Qw5o1irh6uTwh3bCIYL596t99+u36YCPeuoq2E82u6ePFi8m/11a9+VRm/A4EA5WtHRwd+85vfkA7GHEy0jZ6eHvJdJYiljY4nkfqR8WQifOrJ72Oz2ZQxNCEhQfFnVlpaqszlBgcHyYd8W1sbDh06RLpgMIiBgQFKR/OvN575WlJSglmzZgHGOKOPp8uXL6f3bmlpQU9PD+lOnDhBftj7+vrw17/+lXQYx7pRWlqqjCNjwT333INHH31UORauvQuivU8kfVBbi4l0ro7sj89sBC6RsdvtyvUi3cdqtWLBggWUvvnmm5U+taysDGVlZYDhZ1keNwDg4YcfpvWld999V/G5F+0dI+Wtjv6/zz//PNatW3fh7tQTEfDCRcLTPyCjYZKiaiUkJMDhcCjidDpJ5PuIiiWinA0ODirR9np7e5XIbXLUs2gdGjM8cnkJx+lC9LIXC6dChqSonMIRL5fJ5ESUvyyJiYnUVq1Wq1JX9E4SxiREjmYqC0cpHB16u5NFjmLZ3d2Nzs5OEhFdS0S/7enpUURMHEX0Kfk+ASnypN/vD/lfr9cb0v7jnXD19nwTSx+sI8pJ9Lf6WK5H0pXH4sTEREXksVmMz+I6fr8fHo+HRG/jPi3aORNfyG1ZbtNC9Hpnt9vhcrngcrngcDhC6uhYo489QkwmkzLvE/2MEJ5nnBvyeG+1WkP6BTn6rSgHIT6fTxlz+vr6KPphd3d3SJRlMbbw2B87scyn9b5fb0eTgQu5fshtTvS38visj79Op5PGZpvNFtIHy2V6PsvXYrHAarUOK/Jzy/MVIfI4xIw/et6LbzYhPT09FM1cjmwrROjCiSdC9Fto3zFBI5iekPPR9sd+JsMwDMMwDMMwDMMwDMMwzLgyac1vxSo5DPNa2czC4XBg8eLFlC4pKaHt3gCwY8cOMicIBAK0HVggh+SGYXIrQhjPnDkTl1xyCemSkpKwZs0aSqenp8NisVC6traWtl8eOnRIMY0IBoM4duwY/WI1NIbmPZPB/DbSLzF6PkQ6V9ctXLgQ2dnZAIB169Yp5rdWq5XMYgCgsrJSKf//+Z//wdtvv03prq4uJUy4HPpaR3/mWNHfQybWa8e7+e14IX6lh2EaUF5erujvvPNOlJaWAka7zs/PV/RmbcfGk08+CbfbDQB46623lPDkPT09aGlpkc5WibXMxorxNL+VTVPHE7kc9HyUd0FnZGTgmmuuUfR33303mV2npqYq5iGNjY3U97vdbvznf/4n6WCYhMhtXPwKG+/IeRQP5rdiVxzCmN9OmTIFP/rRj6SzVd5//33qc71eL5kywPgFXW6zqampIaYWoh/1+XzUdgVvvvkmlW9ra6tivtXW1qaYUgQCAfT29lJar4fxSjyY38pjWaR8izTmhUM+X5/3uVwu5b3vvvtucsMBo+23trYCAPbs2YNHHnmEdMFgEB0dHcqz6ruw5L/l+SeM+i6np0+fTmZoixYtwl133UU6v9+Pxx57jHZxvPLKK2hoaCC92Cl2LlxM5rf6WD19+nSapy9btgwrVqwgXWJiojIX0OvkSy+9hD179lC6ra0NBw8eBIx60NnZKZ0d3TTwfHE+zG8jYTablW8vAJgzZw7N0b71rW9h+fLlpBO7vWCMz7KJPAwTMzHnam5uRkdHh6K/2JkI81uxKw8AcnNzFTN3l8uFtWvXUrqsrEwxv21vb6drnTp1Clu2bCEdDLN30ba8Xq+yK0pvszqR9JF0CNOfX3bZZVi1ahUAICsrCx/72Meks8+6dRF1uKqqisYVGN/5wuTW6/Vi7969pBtPxsv8Vp/3xTpmjxX6+BsJXR9pPqKn7Xa7Uoc3bdqE3NxcShcXF2PKlCmA4cLn2LFjpAOA+++/n+aNR48eVfoo/V6RiHau/o6T3vxWNEKTyQSr1aps701OTsbUqVNJ5s2bhwULFpDk5eXRh6HF8NEii25Cm5qaiuzsbGRnZyMvLw9FRUUkBQUFSElJIRGLhELcbjdaWlrQ0tKCuro6HD58mOTIkSOK6UW0QrxY0Suvjl5++hZ9PR2Utsp2dXUp5nwdHR1ob28n6e7uVsozEtGekxl/TCYTmWqItitLUVER9QtpaWlK3TCbzUrdCAaDaGtro/bb2dmJ7u5uEuGDSciFTrzU74BkdhcIBELKUDbDNJlMimlbf38/Ghoa0NDQgMbGxpCt9mJ7PZvCjR9Bzdxa779zcnLIb8mcOXOwaNEiRa644gqSpUuXKnLZZZfROF9RUYGSkhJFhNmPzWZDb28v2traSLq7u0PMcS+m9j0ZkMvD6/WGmNG0traSBINBxXQvLS0NBQUFKCgoQFZWlmImZrPZQkz9IvV3wWBQqbNWqxV2u50kKSkJ6enpSE9PR1pammL66XK50NzcjKamJjQ1NZE5pxD5Q5YZHr3fkPN8ypQpmDdvHsns2bORk5NDIn4sENLY2Ijq6mqSuro6cvfQ3d2tmHfxmBAb+pxKdmni9/uVsUBus+Hmb7L5pv5jDjMxyG0uMTGRvo3F9/H8+fOHlfLycpp/FxUVUXsV/aTch1o0c2vx/TacRGIkellcLhdyc3ORm5uLnJwcZGRkKJKQkEDnhjPdF9+S8mIoM3HofY4s4ZD79mAwGDJeyyL/SKGv94i6INw06GN5tHo4FkzaRT2GYRiGYRiGYRiGYRiGuVjhRT2GYRiGYRiGYRiGYRiGmWRM2kW91NRU2h47ffr0EBMd2dw2KytL2cItop85HA6kpqZiypQpJCUlJbj66qtxzTXXkKxYsQLLly/H8uXLMXfuXMX8Ni8vT3muxsZG1NXVkRw+fBjvvfce3nvvPZw4cYK38Y8xJpMpJLpSWloaMjMzkZmZiZSUFGVLd0JCghLF7Pjx4zh69ChJc3OzYpYRiwlWND0z/tjtdir73NxcXHLJJYpkZGRQ25e30JsMs+xIUZP6+/sV8zyObDV+RGpzTqeT+v78/PwQE8ukpCQy0QkEAkp77+jowKlTp3Dq1CmcPn06ZOt8uPsxsSObSOumbn19fYoZuzC7EuJyuRSTHlmysrKU/nzIiCovpLOzk8beEydOYOfOnYocP34cVVVVqKqqIpN6IX19fWx6PYmQ60zQiDonu86oqqpCZWUlSW9vL5KSkpCUlITS0lJcf/31ilx66aXKWDFlyhSqd2lpaSEuXgoLC0nmz5+v/O/ChQtJSkpKlHHD4/GgsbGR3AD09fWx+e0IEWO12WxGWlqaInl5eVQeqampiin10NAQmTs3NTXhnXfewY4dO0iqq6uVvqC3t5fn6WNAMExk0N7eXoo2f+rUKRw5coSkvr5eiV4tf5tNmTIFhYWFZEKfnJysuEmySL7MmfFD7nN9Pl/I2C67MvL7/UrZu1wuMoEvKytTvrPFt7aQiooKcsNRVlaGoqIiMn9NS0ujOZ4Q4TJBmDjq44OMXicTtejYqampdK/U1NQQVw1+v5/66/7+fvT29oYV2WfvhcBEmI+eD+TvQIvFQvOEpKQkOByOkDUE+f90tx3CdYD4voxUD8eDuA6UEakCCR8ZADBv3jzluZxOJ6666ipK19fXwyf5Q/v973+PF154ATAWB6dOnUo6i8WC22+/XQmWIfzmwXC+73A4SBc0FgIE27dvV5xrv/TSS3jrrbcAw3H3RDXyeAiUIZdfDNUMiFL2MmazGYWFhcqx1atXk5PqK6+8khyewigDObjBD37wA8XvQWVlJc6cOUNpv98Pj8dD6VjfQ0Z/p9FcKxoXS6AMPU+zs7PJIXZ6enrIM0+dOhUulwvQHP7CqBu6Q+zvfve7aG9vBwAcOHAATU1Nil4uQ/1ZxrN8IzFegTJycnLiwkdIcXExlXFubi5uvvlmRX/llVdSGTc3NyvBEvbs2YNf/OIXgFHeR48eJR2M9q6Xm16uE0WkuqUjnxsPgTISEhKobeXk5CjBLQoLC/Htb3+b0jNnzlTGW7ldhpsIyR/ZbrdbWVyvrq6md6+trcUzzzxDOgA4c+YMLZqIDw4Z/V6TkYkIlBHL2B6t7kZCv7Z8LZOxuCOwWq0oLi6m9Pr165GWlkbplStX4rLLLgMADA4Ooqenh3RDQ0N45plnlLr0wQcfUACLnp4eZWyw2+2YPXs2pa+66irqcwCgoqKCgsMEDR+SAo/Hg3Xr1tG8sb29XZlDIsx7j5QLOVCG+OiCMU+fM2eOol+1ahXN+8rLy1FRUUG6gYEBHD9+nNIPPfSQMi60tLQo6UAggMHBQUpPFsYrUMZtt92mHIvW/vV2KuNyuejYxz72MeX7q6KiAtdeey1gjAPytxYAPPXUUxR4cMeOHfjwww9JNzQ0hIGBAUrr950s6PkZy3tMRKAMuR1mZ2dTm4NRtp/85CcpvXbtWvp2hhHE0m4EztD7xWAwiH379tGxnTt3orm5mfQtLS2or68HjLmbHiSlvb2d+m99bJfHiqCxGClTUlKi9N9r1qzBTTfdBBjBMOW+Hsa8Q1z/vffeQ21tLekOHDhAfXDQ8CE5EYxXoIxHH31UP3xBIddnGHX4q1/9KqVvuOEGJeBWSkoKUo2ATN3d3cq4AgA//OEPaQ3oyJEj9P0YK+Havd43yDz//PO44YYbJu9OPYZhGIZhGIZhGIZhGIa5WJm0i3pWq5XM6OStkXa7HTabjVZfTUZkMlnS09PJfLawsJBMuUSkm8TERLq2w+GA1WqlbZUwfgUQMjg4qJgSyVv4Ozs74fF4aItvpFVWJjZE2ZrN5hDz26SkJIpGbLPZlG3Wfr9f2Soum+aJKHTy+Vxm8Y/c1s1ms2KSofcN+hZ9mSEjOqosg4ODtM3+QtzVMxnQI0sK87fk5GTF1FY2uRX9c39/vxLdtre3l0yrBwcHEZzgrfEXEyJPdRPZ/v5+NDY2ktTX1ysuKxoaGshMrrm5maJPt7S0oLm5WRHZpK6pqQmtra3DRi73GebVXNYXJgEtEl1vb6/S9ru7uylKbl9fn/K/JpMJqampijmn2GGan5+PwsJCFBcXkxQVFSnzxtTUVJpzpKSkwGq10hxicHBQeY6enh7FzFuvi3r6YsVsNismTTabjVzoiPKRRY4yLEzkhpuny/3RoBHxnMeCsSHc3EpGzmN9fO7o6KBxoaGhQRkX6urq0NHRQWWou8a5UMosWv7FE0OGew1Z5O9feewW7i6EaapsASWQv7tlN0qZmZlKf1xQUEB/C5HddGRmZoZErBXXycrKUvru3Nxc5OXlKddKT0+n+aZsRSDweDz0jSCbk/f09GBgYOCCqo8XOqYwJrTyepGuM5lMyhqBPpbIcxD9mzEWzrX+TBrzW7GgJrj22msxc+ZMwNiyfcUVV5AuISFBMcMQH2+CTiNMPYwPRqfTSToYJrnyva1WK23d7enpUbYi9/b2Ytu2bZT+29/+pmzjb2pqou2XQcO/xEQQD+a30ZDzWK+GkQY2s9lMYaVtNhvWr1+v6Dds2IBp06YBAPlHEHR3d+O1116j9I9//GOqCwDQ39+vmMLES+es50e0Z7pYzG9lMz8YppmLFy8GAGRmZuL++++Xzj5bd/S8FLS1teGNN95Qjj322GNUP86cOaPUFYQpl3hgMprfRsrHqVOnIikpidLz5s2j/j4jIwNr1qyRzj7bJ4t+9q233lK2xx8/fhx/+9vfgGFMI6K1q0hEeodzQX6WWK49depUVFVV6YdHRazmtyZp4Vz4oRHYbDbFHDclJUVpw9nZ2WSyIyZYgqDm7qK9vV0xpens7CSzHI/Ho7hagGG2I/J1NGUdz0yE+W0sRKq74cog0rxARz7XZDKRaRcMkyq53i1ZsgTz5s0DDBPwZcuWkQ5h5ph9fX3UP4jFIYHZbFbMtZKSkpQ63NvbS6aAjY2Nivmqz+fDT37yE7qe1+tVzNCiESl/LiTz28TERKU88/LysHz5csDoQ2688UbpbCA/P5/KRCwcCFpaWvD73/+e0tu3b1cWFXw+n1K+k5XxMr+9/fbb9cMjRm//sk+q1NRUxcRWbLiAsUgvm8jDeD/R/+s+yyby+yoaeruMhJ4/o2GizG8FCQkJyvhssViQnZ1N6blz5yIxMZHSFRUVmDFjBmC45bjkkktIBy3fent7lTYpFudhtFfdrPHw4cPUpru6upS6IX7gh9F3y+aUAFBWVobk5GRKZ2Zmkr98+XtT8Oabb9IPQ9u2bcOxY8dI197ersw5Y+nbR8N4md/q876xrK/xgN1uDxnLv//971P66quvRnp6OqXluW1LSwveffdd0gHAj370Ixp72tvbwy5eC/S8jKXf0GHzW4ZhGIZhGIZhGIZhGIaZpPCiHsMwDMMwDMMwDMMwDMNMMnhRj2EYhmEYhmEYhmEYhmEmGXHtU09Gd1Z57bXXory8HDB8LK1YsYJ0CQkJis8e/RWFg2IYNs26LxX9fOFIFwBOnDihhFF3u9144YUXKH3ixAnF549wyI4w1x1PJoNPPZlItuW6TvZxYLfbcfvttyvnbNq0ifw2COetgubmZvz2t7+l9LPPPqv4XvD5fGPqAyGS/5vx5EL2qSfnaXZ2tuJvbdq0aVi5ciVg+Or6t3/7N9LB8NMi0H2wnDp1KiR8+9atW8l3Rnd3d4h/BL1uxgPj5VMvOzt7WN8qY01SUhJdf/Xq1Up/Pnv2bPKb6HQ6ybeq4ODBg1ROf/nLX5Q+q6OjQ/E7MpY+eKLlh97+9fOj6SMh/+/UqVNx8uRJRT9azsWnnkD3Y6n7qLFarYpe9qUlnOXLyH52PB6P0l8PDg5Sfx8IBJS+H1o+6fl9oRDvPvXGK99NRqAkQVJSklJ38vLyyJdSenq60m+YTCbMnTtX+f+ioiLyxyuC8wiCwaASbOP48eNKXausrERNTQ1gjBvibxj1cv/+/ZQP4YJlnCuTwadepDlRUPJhvGjRIpSVlZGusLAQV199NWDM8SsqKkgHAK2treTH8OjRozh06BDpuru78eabb1K6sbFR6Tfk+05m4tGnno7cxnSfyDabjXych+u/vV4vjdlDQ0Mh8zm5DPV+ZzyJte6M5tki3Wvz5s344Q9/qB8+Z8L51JPR+1yT5tc0IyND8aFYWFhIvuqKi4tx1VVXkc5sNmPhwoV0PYfDoVw7KM3XRYACmfb2dpobiCB3ArMRQA/GM8p+/mA8p+73V7zHwMAATp8+LZ0N/PWvfyXf+e+//z5qa2tJ5/V6lfyKVF5jSTz61Iv07uGuE+n8WAh3bYGuS0pKQmZmJqWTk5MVX+zl5eVK3AURyAfGd/Zbb71FOgB4+eWXqd+K1V/uaJj0PvXkghEdiywmLSKmLFYpcq7D4SBH3kLk/zWZTNSZBAIBeDweiqAmRETba29vx8DAAC0keb1e+P3+kMGGGTtMRnRjOeKp6JDtdjvMZjMt4g4NDVFUPCF+v1/RczlNLvTIqCI6qtPpRGJiYkhblvsNvayHhoaUKFY9PT0YHBwkJ+n6+cz4IUebcrlcSmRJEfU2KSkJTqczpH/3+XzU//b29ip9dV9fH/XH8VSe8fQsY40YO4X4/X54PB6SgYEBJeJ0b2+vEqlSFz2asRzNfGBgQIlCJpf1hZzHzEcf9ULkfsDr9cLtdqOtrQ1tbW1oaWnBmTNnSBoaGtDZ2an0FYODg1RnzcZCtJCEhATlXr1apN3W1lY0NDRQJGd5jtjR0aG0B+Yj5DaamJioRCNOT0+nCJYZGRlho57LZS1H3Wxra1PmfWJBSAj3DROH3G78fr8SLdLj8VAZ9fX1KeOCWKgR54r5Ovft54+g9G0sRIy/g4OD6NUiw3Z1dVEf3NHRofSZbreb2mIwGAyJQmq1Wqn/lef5QlJTU5Geno709HQl2q3cZwgRUbSFiO8FITabjeaTMBb2ZOnp6aFn7uvrU+Yz+mIjMzLOVxs2RYl+GwwGlTWCgYEBZT4qR3vu7OykoEvn65tx0i7qMQzDMAzDMAzDMAzDMMzFyqQxv5W38ALAwoULUVBQAIQxv3U4HFi0aBGlxe47GfHafr+ftuyL40ePHlV+Qe3o6CATzaqqKhw4cIB0AwMD2LVrF6XFr4CC8/Ur0mQ3v42EWdpK7XA4cOeddyr6z372s2R+29HRgdbWVtI1NDTgoYceovTevXuVX1bO56+2eh6M5jkuZPNbmSlTpiAjI4PSZWVlWL16NWBsq77pppuks8+2d5Gv9fX1aGpqIl1NTY1img0Ahw4dovohdt7K6GUWD1wI5rcul4uu/5nPfAYlJSWkmz17NpYsWQIYfYHD4SAdALz66qvo6ekBADz33HPYt28f6bxeL+nGgmh5MNI2HO06sVBaWnrezW9lwr2bfEz8Gi6n5WO6Xs5TfXd1UDOpvxh3Ql2s5rfQ7mWxWJS0sMoQf8vjhslkQnl5uVLXZPNbl8ulmN8GAgH09vZS+sSJE8o84tSpU2hoaAAME/Hu7m7SwXDbItDniHp+xcJkML+NRHZ2Nrnaufbaa7Fw4UJFJ9wuBDXzZwDYvXs3mpubAcP89uDBg6Tzer2KCZ3X6x2zPI8n4tH8Vm/vcl7r+S73/UFjh4yO3t8Ph37teGK86t53vvOdCTW/1TFp1jB2u11JJyUlweVyAUZ7njt3LulMJpNifutyuRT3CWIXFYaZ94nddTDuK7vsstvt1H+bNBNhaGbdMPrnzs5O+lt2uQUAb775JvU/dXV1dC6MPPP5fNLZE8NEmd9GQq/L59o+w/2ffH44vYx+7UjtTezyFCQmJmLTpk2UTk9PV9afmpqa6Luxq6sLx44dIx0AnDx5kvqtc1lP0J9PEO06k978tqurC83NzSQio5uamtDa2qpslzRpJrii4zGZTBgaGlK2d/f19eHkyZOoqqoiOXz4MA4cOIADBw7g6NGjOHnyJMmpU6eUrZiDhv89IdEKgokdMQkWohMIBJStsvr2b9ksw+/3sxnGJEMue4vFophey6b1YkIhi/z/HR0dqK6uJqmtrVXqRktLC22nF6ZYzMQgt2GLxaKYvsmm1haLRTGr6u3tRXNzM/m96OjoUPpn2X/mhcpwk4Lzhd5fBzWTHXm8HBoawuDgoGLOoptgyWYwsjmWMHuQr81cvAwNDZEZjN/vR19fH5nWtrW1oba2VpGjR4/iyJEjJPv378cHH3yADz74AO+99x7effddRfbs2UNy6NAhHD58mEQs6jU0NKClpSXEzExvDzJ6+mIiNTWVzOUKCgowZcoUksLCQjKvS01NVUylu7q6UFNTg8rKSlRWVqK6uhr19fUkTU1NSp9yMedxPKG3gyFjQSRcX67Pz7kMQznfY78+tsvuD4RZfGtrK1pbW1FXV4dDhw4pIvepu3fvxnvvvUfy/vvvY9++fdi3bx8+/PBDautChKuDpqYm9Pb2KvOCQCAQ1oxXiMfjUb4Tm5qa6LrHjh3DwYMHFTl9+jS5bnC73YrJsf7DPxM7E1mPxZxTyMDAAI4ePUry/vvvK/Vw7969VA8qKyuVtaempial34q1j4r03pF0MpN2UY9hGIZhGIZhGIZhGIZhLlZ4UY9hGIZhGIZhGIZhGIZhJhmTZlFP36Y9MDBApgytra04ffq0IqdOnSKpra1VdDU1NaSrrq5WzGmFSa0sNTU1ZKLR1NSkmFH09vYqzzXSLZLM6BD5HQgEQqLWnT59mkynRfkJOXPmjGLKFev2WCa+8Pv9IVun5fapR7Pt6OigKIQNDQ1K3WhoaAiJcjWc6Qdi2A7NxI6c793d3RQxra2tDY2NjdSX19bWKibU1dXVaGhoIPPb/v7+iGXIMMzFgTxPCxhRmGXRTWRbW1upHzlz5oxiqiubX505cwYdHR1KBLz+/n4yJw/EaAZ+MY8rGRkZyMnJQU5ODlJTU+FyuUhsNhuVlc/nUyIKt7e3k1lfa2srenp6QszyGYaJndHOmfR+V/SLXq83JHKo/p2uz+3k73JdN9x50c4V5+vHhIjvflnkiLfCzZaQixn5/SdLXgS0iM0ej4dcZzQ0NChuHOrr69HS0kJrDfo4M56+FEean5MmUIaO3W4n54V5eXkoLS0lXWJiIlauXEnptLQ0xeGm8MMDAP39/UoghUAggLfffhtDkoPWtrY2corp9XpDAmvIE4Z4mZBNtkAZsWAyQlDDCKCydOlSRT979mxygt3Z2YmOjg7SdXd347XXXqO0z+eL2hHFUqb6ueGuNxE0XSSBMrKzs5GUlETpoqIicqadlJSEG2+8UTobaGlpgdfrBQC8/vrrIUFuqqqqpLPPOjkXZaiXbbxyvgJl6HVd18tEO1fury+55BLFqX1RURHKysoAo/3KTophOEwXvvPq6uqU9j/RyO8V7Z3HiqlTp4bU49EymkAZzMRyMQfKGCkmzaE7wjxXtLT+/zK6Tv/f8WKyB8r43Oc+R/OWZcuWYdasWaRLSEhAYmIiYMzD//KXv5AOAP7+97+jpqYGANDX16cEMrlYiMdAGToT1RaiobfRC4HNmzfjvvvu0w+fM0NDQ8jNzY0474uFWP5X76OtVisFuEhISFACFwFAVlYWrQlkZ2cr+sTERJpDmkwm6kcEra2t9F0AAI2NjdSXeDwenDlzRjr77BpCvNRjwUQFyog0px0N0erGWN0r3H30Y9HWBOKRSR8og2EYhmEYhmEYhmEYhmEuVibtol5Qi5gkb5/0er2KyZ1uVqGb5/X19Smib6cUJhRsvhWfyGU/ODiI/v5+ioSpR0v0eDz6vyvoK/ZMfCNv5xfRDuVoW3rkTFk8Hk+IiY7cr3BbHz9iaWc+ny+kTEXf3tvbG7b/FmZasZq+MQzDMOcHs9kMi8VCO7Vl1wn62K7P+3iezoyUWOYfzNgxmnYpz8v1ef+QFDVZzBfl777+/n5ljii+D+XvRP3bQMwhdfPa0bwDw4wXok+btOa3cqdsMplgNn+0PmkymWgbLgDYbDblfDEhgNRRxEKs558PJpv5rT7IRstjvfxl5P8NV75yXdF1+rUQ5pyxIty9ZEZz3wvZ/FbON4vFopRncnIycnNzAQAOhwNXXHEF6WCYp4iF3WPHjqG6ulrRjybP44XxMr/NyclRzDDGk0jtG1HKKZLuYoDNb+OPWOvwaJgI81v5fcK9RzS9IFq+6Hr9Wrp+NOjXjgX9OUZzrWhEytvJZH5rktyoCL761a+ioKAAAFBQUKC4Xejr6yMzuMHBQfz9738nHQAcOnQI7e3tgJEvF+MPOpPB/FZGr78I05YudPQ8GM37j4f5bV5e3oTN+6IRKW8i6aDls57n4Yh2PcFIrjURjJf57aOPPqofHpZY8mKk+RuOaPcZzbXHm0jPPprnfv7557Fu3brJu1OPYRiGYRiGYRiGYRiGYS5WeFGPYRiGYRiGYRiGYRiGYSYZvKjHMAzDMAzDMAzDMAzDMJOMmHzqdXd3Y+/evfrhuEC3RZbTJi00tnCmeyGTk5ODiooK/fCoeP/999HT06Mfjnv0Kq7XlQuRK664AjabTT98ztTX14+5n66xQC/LhIQEem+z2YzU1FRF7/V6qe2LICoXGmVlZSgqKtIPj4pgMIidO3fC7/frKibOcDgcWLZsmX54VBw/fpz8WTHxzbx585CVlaUfPmfied7HqEy2eZ8+fhcXF8NutwOGL2yr1Uq6oaEheL1ewBiP2traSAfD557P5yP9xchYz/tg+Gc+evSofpiJQ0pKSjBt2jT98DkTb/M+vb84V0bSP4z0XiO51kSQmJiIpUuX6odHxfHjx9HQ0KAfHpZY8mKk+RuOaPcZzbXHk2jPjVE8+7x585CZmRnboh7DMAzDMAzDMAzDMAzDMOcfNr9lGIZhGIZhGIZhGIZhmEkGL+oxDMMwDMMwDMMwDMMwzCSDF/UYhmEYhmEYhmEYhmEYZpLx/wNwNRnuv2U0EQAAAABJRU5ErkJggg==)\n",
        "用其他帳號的colab跑出來的結果"
      ],
      "metadata": {
        "id": "Pqwj-qbEDrIN"
      }
    },
    {
      "cell_type": "markdown",
      "source": [
        "# 作業三"
      ],
      "metadata": {
        "id": "tuiSHLKFdT4z"
      }
    },
    {
      "cell_type": "code",
      "source": [
        "!pip install scikit-learn"
      ],
      "metadata": {
        "colab": {
          "base_uri": "https://localhost:8080/"
        },
        "id": "pw6-E1iPZSpQ",
        "outputId": "60d8d27d-61f3-4212-d732-4842fe42bea5"
      },
      "execution_count": 17,
      "outputs": [
        {
          "output_type": "stream",
          "name": "stdout",
          "text": [
            "Requirement already satisfied: scikit-learn in /usr/local/lib/python3.12/dist-packages (1.6.1)\n",
            "Requirement already satisfied: numpy>=1.19.5 in /usr/local/lib/python3.12/dist-packages (from scikit-learn) (2.0.2)\n",
            "Requirement already satisfied: scipy>=1.6.0 in /usr/local/lib/python3.12/dist-packages (from scikit-learn) (1.16.2)\n",
            "Requirement already satisfied: joblib>=1.2.0 in /usr/local/lib/python3.12/dist-packages (from scikit-learn) (1.5.2)\n",
            "Requirement already satisfied: threadpoolctl>=3.1.0 in /usr/local/lib/python3.12/dist-packages (from scikit-learn) (3.6.0)\n"
          ]
        }
      ]
    },
    {
      "cell_type": "code",
      "source": [
        "import pandas as pd\n",
        "import seaborn as sns\n",
        "import matplotlib.pyplot as plt\n",
        "import pandas as pd\n",
        "import numpy as np\n",
        "import torch\n",
        "import torch.nn as nn\n",
        "from torch.utils.data import Dataset, DataLoader\n",
        "from sklearn.model_selection import train_test_split\n",
        "from tqdm import tqdm\n",
        "import random\n",
        "from sklearn.preprocessing import StandardScaler"
      ],
      "metadata": {
        "id": "LOspwDNKWxCb"
      },
      "execution_count": 18,
      "outputs": []
    },
    {
      "cell_type": "code",
      "source": [
        "import kagglehub\n",
        "\n",
        "# Download latest version\n",
        "path = kagglehub.dataset_download(\"anlgrbz/student-demographics-online-education-dataoulad\")\n",
        "\n",
        "print(\"Path to dataset files:\", path)"
      ],
      "metadata": {
        "colab": {
          "base_uri": "https://localhost:8080/"
        },
        "id": "ptqp-4y2hcoP",
        "outputId": "fb517ea4-f824-4bcf-9186-ec4d9f783885"
      },
      "execution_count": 2,
      "outputs": [
        {
          "output_type": "stream",
          "name": "stdout",
          "text": [
            "Using Colab cache for faster access to the 'student-demographics-online-education-dataoulad' dataset.\n",
            "Path to dataset files: /kaggle/input/student-demographics-online-education-dataoulad\n"
          ]
        }
      ]
    },
    {
      "cell_type": "code",
      "source": [
        "studentInfo = pd.read_csv('/kaggle/input/student-demographics-online-education-dataoulad/studentInfo.csv')\n",
        "studentVle = pd.read_csv('/kaggle/input/student-demographics-online-education-dataoulad/studentVle.csv')\n",
        "studentAssessment = pd.read_csv('/kaggle/input/student-demographics-online-education-dataoulad/studentAssessment.csv')\n"
      ],
      "metadata": {
        "id": "MprtmyrMvzih"
      },
      "execution_count": 4,
      "outputs": []
    },
    {
      "cell_type": "code",
      "source": [
        "# 不考量課程別及開課時間\n",
        "\n",
        "studentVle['week'] = (studentVle['date'] // 7).astype(int)\n",
        "studentAssessment['week'] = (studentAssessment['date_submitted'] // 7).astype(int)\n",
        "\n",
        "# 每週點擊數\n",
        "clicks_weekly = studentVle.groupby(['id_student', 'week'])['sum_click'].sum().reset_index(name='clicks')\n",
        "\n",
        "# 每週作業提交次數(在每個課程模組中每個學生每禮拜作業有繳交的次數(沒成績算沒繳交))\n",
        "submit_weekly = studentAssessment.groupby(['id_student', 'week'])['score'].count().reset_index(name='submit_cnt')\n",
        "\n",
        "# 平均分數(看起來每周平均分數一樣)\n",
        "score_avg = studentAssessment.groupby(['id_student', 'week'])['score'].mean().reset_index(name='avg_score_sofar')\n",
        "\n",
        "# 合併三者\n",
        "weekly = clicks_weekly.merge(submit_weekly, on=['id_student', 'week'], how='left')\n",
        "weekly = weekly.merge(score_avg, on=['id_student', 'week'], how='left')\n",
        "\n",
        "weekly['submit_cnt'] = weekly['submit_cnt'].fillna(0).astype(int)\n",
        "weekly['avg_score_sofar'] = weekly['avg_score_sofar'].fillna(0)\n",
        "\n",
        "# 點擊差分\n",
        "weekly['clicks_diff1'] = weekly.groupby('id_student')['clicks'].diff().fillna(0).astype(int)\n",
        "\n",
        "all_weeks = range(weekly['week'].min(), weekly['week'].max() + 1)\n",
        "def fill_student_weeks(df):\n",
        "    df = df.set_index('week').reindex(all_weeks, fill_value=0).reset_index()\n",
        "    df['id_student'] = df['id_student'].iloc[0]\n",
        "    return df\n",
        "\n",
        "weekly_full = weekly.groupby('id_student').apply(fill_student_weeks).reset_index(drop=True)"
      ],
      "metadata": {
        "id": "VxNTUod4rNaB",
        "colab": {
          "base_uri": "https://localhost:8080/"
        },
        "outputId": "9c96fb42-59c9-4e2a-812b-39882ba72f8f"
      },
      "execution_count": 5,
      "outputs": [
        {
          "output_type": "stream",
          "name": "stderr",
          "text": [
            "/tmp/ipython-input-371919645.py:31: DeprecationWarning: DataFrameGroupBy.apply operated on the grouping columns. This behavior is deprecated, and in a future version of pandas the grouping columns will be excluded from the operation. Either pass `include_groups=False` to exclude the groupings or explicitly select the grouping columns after groupby to silence this warning.\n",
            "  weekly_full = weekly.groupby('id_student').apply(fill_student_weeks).reset_index(drop=True)\n"
          ]
        }
      ]
    },
    {
      "cell_type": "code",
      "source": [
        "# 去掉尚未開課的點擊率\n",
        "weekly_full = weekly_full[weekly_full['week'] >= 0]"
      ],
      "metadata": {
        "id": "8ac-KmpEuR90"
      },
      "execution_count": 7,
      "outputs": []
    },
    {
      "cell_type": "code",
      "source": [
        "weekly_full.head(40)"
      ],
      "metadata": {
        "colab": {
          "base_uri": "https://localhost:8080/",
          "height": 1000
        },
        "id": "qOozpZ7I2Ixh",
        "outputId": "13cb4b3a-36db-4f50-fea6-d1aab1634f06"
      },
      "execution_count": null,
      "outputs": [
        {
          "output_type": "execute_result",
          "data": {
            "text/plain": [
              "    week  id_student  clicks  submit_cnt  avg_score_sofar  clicks_diff1\n",
              "4      0        6516     229           1             60.0           133\n",
              "5      1        6516      42           1             48.0          -187\n",
              "6      2        6516      79           1             63.0            37\n",
              "7      3        6516     193           1             61.0           114\n",
              "8      4        6516      69           1             77.0          -124\n",
              "9      5        6516      34           0              0.0           -35\n",
              "10     6        6516      10           0              0.0           -24\n",
              "11     7        6516      93           0              0.0            83\n",
              "12     8        6516      57           0              0.0           -36\n",
              "13     9        6516      61           0              0.0             4\n",
              "14    10        6516     125           0              0.0            64\n",
              "15    11        6516      46           0              0.0           -79\n",
              "16    12        6516       2           0              0.0           -44\n",
              "17    13        6516       3           0              0.0             1\n",
              "18    14        6516      18           0              0.0            15\n",
              "19    15        6516      33           0              0.0            15\n",
              "20    16        6516      76           0              0.0            43\n",
              "21    17        6516      17           0              0.0           -59\n",
              "22    18        6516     151           0              0.0           134\n",
              "23    19        6516     111           0              0.0           -40\n",
              "24    20        6516      38           0              0.0           -73\n",
              "25    21        6516       0           0              0.0             0\n",
              "26    22        6516      44           0              0.0             6\n",
              "27    23        6516     103           0              0.0            59\n",
              "28    24        6516     173           0              0.0            70\n",
              "29    25        6516      87           0              0.0           -86\n",
              "30    26        6516      36           0              0.0           -51\n",
              "31    27        6516      90           0              0.0            54\n",
              "32    28        6516      49           0              0.0           -41\n",
              "33    29        6516      90           0              0.0            41\n",
              "34    30        6516      55           0              0.0           -35\n",
              "35    31        6516      54           0              0.0            -1\n",
              "36    32        6516     119           0              0.0            65\n",
              "37    33        6516      79           0              0.0           -40\n",
              "38    34        6516      67           0              0.0           -12\n",
              "39    35        6516       0           0              0.0             0\n",
              "40    36        6516       0           0              0.0             0\n",
              "41    37        6516       0           0              0.0             0\n",
              "42    38        6516       2           0              0.0           -65\n",
              "47     0           0      81           1             93.0             0"
            ],
            "text/html": [
              "\n",
              "  <div id=\"df-3183043d-3628-4a84-978e-0e503d3f2d95\" class=\"colab-df-container\">\n",
              "    <div>\n",
              "<style scoped>\n",
              "    .dataframe tbody tr th:only-of-type {\n",
              "        vertical-align: middle;\n",
              "    }\n",
              "\n",
              "    .dataframe tbody tr th {\n",
              "        vertical-align: top;\n",
              "    }\n",
              "\n",
              "    .dataframe thead th {\n",
              "        text-align: right;\n",
              "    }\n",
              "</style>\n",
              "<table border=\"1\" class=\"dataframe\">\n",
              "  <thead>\n",
              "    <tr style=\"text-align: right;\">\n",
              "      <th></th>\n",
              "      <th>week</th>\n",
              "      <th>id_student</th>\n",
              "      <th>clicks</th>\n",
              "      <th>submit_cnt</th>\n",
              "      <th>avg_score_sofar</th>\n",
              "      <th>clicks_diff1</th>\n",
              "    </tr>\n",
              "  </thead>\n",
              "  <tbody>\n",
              "    <tr>\n",
              "      <th>4</th>\n",
              "      <td>0</td>\n",
              "      <td>6516</td>\n",
              "      <td>229</td>\n",
              "      <td>1</td>\n",
              "      <td>60.0</td>\n",
              "      <td>133</td>\n",
              "    </tr>\n",
              "    <tr>\n",
              "      <th>5</th>\n",
              "      <td>1</td>\n",
              "      <td>6516</td>\n",
              "      <td>42</td>\n",
              "      <td>1</td>\n",
              "      <td>48.0</td>\n",
              "      <td>-187</td>\n",
              "    </tr>\n",
              "    <tr>\n",
              "      <th>6</th>\n",
              "      <td>2</td>\n",
              "      <td>6516</td>\n",
              "      <td>79</td>\n",
              "      <td>1</td>\n",
              "      <td>63.0</td>\n",
              "      <td>37</td>\n",
              "    </tr>\n",
              "    <tr>\n",
              "      <th>7</th>\n",
              "      <td>3</td>\n",
              "      <td>6516</td>\n",
              "      <td>193</td>\n",
              "      <td>1</td>\n",
              "      <td>61.0</td>\n",
              "      <td>114</td>\n",
              "    </tr>\n",
              "    <tr>\n",
              "      <th>8</th>\n",
              "      <td>4</td>\n",
              "      <td>6516</td>\n",
              "      <td>69</td>\n",
              "      <td>1</td>\n",
              "      <td>77.0</td>\n",
              "      <td>-124</td>\n",
              "    </tr>\n",
              "    <tr>\n",
              "      <th>9</th>\n",
              "      <td>5</td>\n",
              "      <td>6516</td>\n",
              "      <td>34</td>\n",
              "      <td>0</td>\n",
              "      <td>0.0</td>\n",
              "      <td>-35</td>\n",
              "    </tr>\n",
              "    <tr>\n",
              "      <th>10</th>\n",
              "      <td>6</td>\n",
              "      <td>6516</td>\n",
              "      <td>10</td>\n",
              "      <td>0</td>\n",
              "      <td>0.0</td>\n",
              "      <td>-24</td>\n",
              "    </tr>\n",
              "    <tr>\n",
              "      <th>11</th>\n",
              "      <td>7</td>\n",
              "      <td>6516</td>\n",
              "      <td>93</td>\n",
              "      <td>0</td>\n",
              "      <td>0.0</td>\n",
              "      <td>83</td>\n",
              "    </tr>\n",
              "    <tr>\n",
              "      <th>12</th>\n",
              "      <td>8</td>\n",
              "      <td>6516</td>\n",
              "      <td>57</td>\n",
              "      <td>0</td>\n",
              "      <td>0.0</td>\n",
              "      <td>-36</td>\n",
              "    </tr>\n",
              "    <tr>\n",
              "      <th>13</th>\n",
              "      <td>9</td>\n",
              "      <td>6516</td>\n",
              "      <td>61</td>\n",
              "      <td>0</td>\n",
              "      <td>0.0</td>\n",
              "      <td>4</td>\n",
              "    </tr>\n",
              "    <tr>\n",
              "      <th>14</th>\n",
              "      <td>10</td>\n",
              "      <td>6516</td>\n",
              "      <td>125</td>\n",
              "      <td>0</td>\n",
              "      <td>0.0</td>\n",
              "      <td>64</td>\n",
              "    </tr>\n",
              "    <tr>\n",
              "      <th>15</th>\n",
              "      <td>11</td>\n",
              "      <td>6516</td>\n",
              "      <td>46</td>\n",
              "      <td>0</td>\n",
              "      <td>0.0</td>\n",
              "      <td>-79</td>\n",
              "    </tr>\n",
              "    <tr>\n",
              "      <th>16</th>\n",
              "      <td>12</td>\n",
              "      <td>6516</td>\n",
              "      <td>2</td>\n",
              "      <td>0</td>\n",
              "      <td>0.0</td>\n",
              "      <td>-44</td>\n",
              "    </tr>\n",
              "    <tr>\n",
              "      <th>17</th>\n",
              "      <td>13</td>\n",
              "      <td>6516</td>\n",
              "      <td>3</td>\n",
              "      <td>0</td>\n",
              "      <td>0.0</td>\n",
              "      <td>1</td>\n",
              "    </tr>\n",
              "    <tr>\n",
              "      <th>18</th>\n",
              "      <td>14</td>\n",
              "      <td>6516</td>\n",
              "      <td>18</td>\n",
              "      <td>0</td>\n",
              "      <td>0.0</td>\n",
              "      <td>15</td>\n",
              "    </tr>\n",
              "    <tr>\n",
              "      <th>19</th>\n",
              "      <td>15</td>\n",
              "      <td>6516</td>\n",
              "      <td>33</td>\n",
              "      <td>0</td>\n",
              "      <td>0.0</td>\n",
              "      <td>15</td>\n",
              "    </tr>\n",
              "    <tr>\n",
              "      <th>20</th>\n",
              "      <td>16</td>\n",
              "      <td>6516</td>\n",
              "      <td>76</td>\n",
              "      <td>0</td>\n",
              "      <td>0.0</td>\n",
              "      <td>43</td>\n",
              "    </tr>\n",
              "    <tr>\n",
              "      <th>21</th>\n",
              "      <td>17</td>\n",
              "      <td>6516</td>\n",
              "      <td>17</td>\n",
              "      <td>0</td>\n",
              "      <td>0.0</td>\n",
              "      <td>-59</td>\n",
              "    </tr>\n",
              "    <tr>\n",
              "      <th>22</th>\n",
              "      <td>18</td>\n",
              "      <td>6516</td>\n",
              "      <td>151</td>\n",
              "      <td>0</td>\n",
              "      <td>0.0</td>\n",
              "      <td>134</td>\n",
              "    </tr>\n",
              "    <tr>\n",
              "      <th>23</th>\n",
              "      <td>19</td>\n",
              "      <td>6516</td>\n",
              "      <td>111</td>\n",
              "      <td>0</td>\n",
              "      <td>0.0</td>\n",
              "      <td>-40</td>\n",
              "    </tr>\n",
              "    <tr>\n",
              "      <th>24</th>\n",
              "      <td>20</td>\n",
              "      <td>6516</td>\n",
              "      <td>38</td>\n",
              "      <td>0</td>\n",
              "      <td>0.0</td>\n",
              "      <td>-73</td>\n",
              "    </tr>\n",
              "    <tr>\n",
              "      <th>25</th>\n",
              "      <td>21</td>\n",
              "      <td>6516</td>\n",
              "      <td>0</td>\n",
              "      <td>0</td>\n",
              "      <td>0.0</td>\n",
              "      <td>0</td>\n",
              "    </tr>\n",
              "    <tr>\n",
              "      <th>26</th>\n",
              "      <td>22</td>\n",
              "      <td>6516</td>\n",
              "      <td>44</td>\n",
              "      <td>0</td>\n",
              "      <td>0.0</td>\n",
              "      <td>6</td>\n",
              "    </tr>\n",
              "    <tr>\n",
              "      <th>27</th>\n",
              "      <td>23</td>\n",
              "      <td>6516</td>\n",
              "      <td>103</td>\n",
              "      <td>0</td>\n",
              "      <td>0.0</td>\n",
              "      <td>59</td>\n",
              "    </tr>\n",
              "    <tr>\n",
              "      <th>28</th>\n",
              "      <td>24</td>\n",
              "      <td>6516</td>\n",
              "      <td>173</td>\n",
              "      <td>0</td>\n",
              "      <td>0.0</td>\n",
              "      <td>70</td>\n",
              "    </tr>\n",
              "    <tr>\n",
              "      <th>29</th>\n",
              "      <td>25</td>\n",
              "      <td>6516</td>\n",
              "      <td>87</td>\n",
              "      <td>0</td>\n",
              "      <td>0.0</td>\n",
              "      <td>-86</td>\n",
              "    </tr>\n",
              "    <tr>\n",
              "      <th>30</th>\n",
              "      <td>26</td>\n",
              "      <td>6516</td>\n",
              "      <td>36</td>\n",
              "      <td>0</td>\n",
              "      <td>0.0</td>\n",
              "      <td>-51</td>\n",
              "    </tr>\n",
              "    <tr>\n",
              "      <th>31</th>\n",
              "      <td>27</td>\n",
              "      <td>6516</td>\n",
              "      <td>90</td>\n",
              "      <td>0</td>\n",
              "      <td>0.0</td>\n",
              "      <td>54</td>\n",
              "    </tr>\n",
              "    <tr>\n",
              "      <th>32</th>\n",
              "      <td>28</td>\n",
              "      <td>6516</td>\n",
              "      <td>49</td>\n",
              "      <td>0</td>\n",
              "      <td>0.0</td>\n",
              "      <td>-41</td>\n",
              "    </tr>\n",
              "    <tr>\n",
              "      <th>33</th>\n",
              "      <td>29</td>\n",
              "      <td>6516</td>\n",
              "      <td>90</td>\n",
              "      <td>0</td>\n",
              "      <td>0.0</td>\n",
              "      <td>41</td>\n",
              "    </tr>\n",
              "    <tr>\n",
              "      <th>34</th>\n",
              "      <td>30</td>\n",
              "      <td>6516</td>\n",
              "      <td>55</td>\n",
              "      <td>0</td>\n",
              "      <td>0.0</td>\n",
              "      <td>-35</td>\n",
              "    </tr>\n",
              "    <tr>\n",
              "      <th>35</th>\n",
              "      <td>31</td>\n",
              "      <td>6516</td>\n",
              "      <td>54</td>\n",
              "      <td>0</td>\n",
              "      <td>0.0</td>\n",
              "      <td>-1</td>\n",
              "    </tr>\n",
              "    <tr>\n",
              "      <th>36</th>\n",
              "      <td>32</td>\n",
              "      <td>6516</td>\n",
              "      <td>119</td>\n",
              "      <td>0</td>\n",
              "      <td>0.0</td>\n",
              "      <td>65</td>\n",
              "    </tr>\n",
              "    <tr>\n",
              "      <th>37</th>\n",
              "      <td>33</td>\n",
              "      <td>6516</td>\n",
              "      <td>79</td>\n",
              "      <td>0</td>\n",
              "      <td>0.0</td>\n",
              "      <td>-40</td>\n",
              "    </tr>\n",
              "    <tr>\n",
              "      <th>38</th>\n",
              "      <td>34</td>\n",
              "      <td>6516</td>\n",
              "      <td>67</td>\n",
              "      <td>0</td>\n",
              "      <td>0.0</td>\n",
              "      <td>-12</td>\n",
              "    </tr>\n",
              "    <tr>\n",
              "      <th>39</th>\n",
              "      <td>35</td>\n",
              "      <td>6516</td>\n",
              "      <td>0</td>\n",
              "      <td>0</td>\n",
              "      <td>0.0</td>\n",
              "      <td>0</td>\n",
              "    </tr>\n",
              "    <tr>\n",
              "      <th>40</th>\n",
              "      <td>36</td>\n",
              "      <td>6516</td>\n",
              "      <td>0</td>\n",
              "      <td>0</td>\n",
              "      <td>0.0</td>\n",
              "      <td>0</td>\n",
              "    </tr>\n",
              "    <tr>\n",
              "      <th>41</th>\n",
              "      <td>37</td>\n",
              "      <td>6516</td>\n",
              "      <td>0</td>\n",
              "      <td>0</td>\n",
              "      <td>0.0</td>\n",
              "      <td>0</td>\n",
              "    </tr>\n",
              "    <tr>\n",
              "      <th>42</th>\n",
              "      <td>38</td>\n",
              "      <td>6516</td>\n",
              "      <td>2</td>\n",
              "      <td>0</td>\n",
              "      <td>0.0</td>\n",
              "      <td>-65</td>\n",
              "    </tr>\n",
              "    <tr>\n",
              "      <th>47</th>\n",
              "      <td>0</td>\n",
              "      <td>0</td>\n",
              "      <td>81</td>\n",
              "      <td>1</td>\n",
              "      <td>93.0</td>\n",
              "      <td>0</td>\n",
              "    </tr>\n",
              "  </tbody>\n",
              "</table>\n",
              "</div>\n",
              "    <div class=\"colab-df-buttons\">\n",
              "\n",
              "  <div class=\"colab-df-container\">\n",
              "    <button class=\"colab-df-convert\" onclick=\"convertToInteractive('df-3183043d-3628-4a84-978e-0e503d3f2d95')\"\n",
              "            title=\"Convert this dataframe to an interactive table.\"\n",
              "            style=\"display:none;\">\n",
              "\n",
              "  <svg xmlns=\"http://www.w3.org/2000/svg\" height=\"24px\" viewBox=\"0 -960 960 960\">\n",
              "    <path d=\"M120-120v-720h720v720H120Zm60-500h600v-160H180v160Zm220 220h160v-160H400v160Zm0 220h160v-160H400v160ZM180-400h160v-160H180v160Zm440 0h160v-160H620v160ZM180-180h160v-160H180v160Zm440 0h160v-160H620v160Z\"/>\n",
              "  </svg>\n",
              "    </button>\n",
              "\n",
              "  <style>\n",
              "    .colab-df-container {\n",
              "      display:flex;\n",
              "      gap: 12px;\n",
              "    }\n",
              "\n",
              "    .colab-df-convert {\n",
              "      background-color: #E8F0FE;\n",
              "      border: none;\n",
              "      border-radius: 50%;\n",
              "      cursor: pointer;\n",
              "      display: none;\n",
              "      fill: #1967D2;\n",
              "      height: 32px;\n",
              "      padding: 0 0 0 0;\n",
              "      width: 32px;\n",
              "    }\n",
              "\n",
              "    .colab-df-convert:hover {\n",
              "      background-color: #E2EBFA;\n",
              "      box-shadow: 0px 1px 2px rgba(60, 64, 67, 0.3), 0px 1px 3px 1px rgba(60, 64, 67, 0.15);\n",
              "      fill: #174EA6;\n",
              "    }\n",
              "\n",
              "    .colab-df-buttons div {\n",
              "      margin-bottom: 4px;\n",
              "    }\n",
              "\n",
              "    [theme=dark] .colab-df-convert {\n",
              "      background-color: #3B4455;\n",
              "      fill: #D2E3FC;\n",
              "    }\n",
              "\n",
              "    [theme=dark] .colab-df-convert:hover {\n",
              "      background-color: #434B5C;\n",
              "      box-shadow: 0px 1px 3px 1px rgba(0, 0, 0, 0.15);\n",
              "      filter: drop-shadow(0px 1px 2px rgba(0, 0, 0, 0.3));\n",
              "      fill: #FFFFFF;\n",
              "    }\n",
              "  </style>\n",
              "\n",
              "    <script>\n",
              "      const buttonEl =\n",
              "        document.querySelector('#df-3183043d-3628-4a84-978e-0e503d3f2d95 button.colab-df-convert');\n",
              "      buttonEl.style.display =\n",
              "        google.colab.kernel.accessAllowed ? 'block' : 'none';\n",
              "\n",
              "      async function convertToInteractive(key) {\n",
              "        const element = document.querySelector('#df-3183043d-3628-4a84-978e-0e503d3f2d95');\n",
              "        const dataTable =\n",
              "          await google.colab.kernel.invokeFunction('convertToInteractive',\n",
              "                                                    [key], {});\n",
              "        if (!dataTable) return;\n",
              "\n",
              "        const docLinkHtml = 'Like what you see? Visit the ' +\n",
              "          '<a target=\"_blank\" href=https://colab.research.google.com/notebooks/data_table.ipynb>data table notebook</a>'\n",
              "          + ' to learn more about interactive tables.';\n",
              "        element.innerHTML = '';\n",
              "        dataTable['output_type'] = 'display_data';\n",
              "        await google.colab.output.renderOutput(dataTable, element);\n",
              "        const docLink = document.createElement('div');\n",
              "        docLink.innerHTML = docLinkHtml;\n",
              "        element.appendChild(docLink);\n",
              "      }\n",
              "    </script>\n",
              "  </div>\n",
              "\n",
              "\n",
              "    <div id=\"df-26f76268-7c0b-4ebe-8dfd-eb6f13db878e\">\n",
              "      <button class=\"colab-df-quickchart\" onclick=\"quickchart('df-26f76268-7c0b-4ebe-8dfd-eb6f13db878e')\"\n",
              "                title=\"Suggest charts\"\n",
              "                style=\"display:none;\">\n",
              "\n",
              "<svg xmlns=\"http://www.w3.org/2000/svg\" height=\"24px\"viewBox=\"0 0 24 24\"\n",
              "     width=\"24px\">\n",
              "    <g>\n",
              "        <path d=\"M19 3H5c-1.1 0-2 .9-2 2v14c0 1.1.9 2 2 2h14c1.1 0 2-.9 2-2V5c0-1.1-.9-2-2-2zM9 17H7v-7h2v7zm4 0h-2V7h2v10zm4 0h-2v-4h2v4z\"/>\n",
              "    </g>\n",
              "</svg>\n",
              "      </button>\n",
              "\n",
              "<style>\n",
              "  .colab-df-quickchart {\n",
              "      --bg-color: #E8F0FE;\n",
              "      --fill-color: #1967D2;\n",
              "      --hover-bg-color: #E2EBFA;\n",
              "      --hover-fill-color: #174EA6;\n",
              "      --disabled-fill-color: #AAA;\n",
              "      --disabled-bg-color: #DDD;\n",
              "  }\n",
              "\n",
              "  [theme=dark] .colab-df-quickchart {\n",
              "      --bg-color: #3B4455;\n",
              "      --fill-color: #D2E3FC;\n",
              "      --hover-bg-color: #434B5C;\n",
              "      --hover-fill-color: #FFFFFF;\n",
              "      --disabled-bg-color: #3B4455;\n",
              "      --disabled-fill-color: #666;\n",
              "  }\n",
              "\n",
              "  .colab-df-quickchart {\n",
              "    background-color: var(--bg-color);\n",
              "    border: none;\n",
              "    border-radius: 50%;\n",
              "    cursor: pointer;\n",
              "    display: none;\n",
              "    fill: var(--fill-color);\n",
              "    height: 32px;\n",
              "    padding: 0;\n",
              "    width: 32px;\n",
              "  }\n",
              "\n",
              "  .colab-df-quickchart:hover {\n",
              "    background-color: var(--hover-bg-color);\n",
              "    box-shadow: 0 1px 2px rgba(60, 64, 67, 0.3), 0 1px 3px 1px rgba(60, 64, 67, 0.15);\n",
              "    fill: var(--button-hover-fill-color);\n",
              "  }\n",
              "\n",
              "  .colab-df-quickchart-complete:disabled,\n",
              "  .colab-df-quickchart-complete:disabled:hover {\n",
              "    background-color: var(--disabled-bg-color);\n",
              "    fill: var(--disabled-fill-color);\n",
              "    box-shadow: none;\n",
              "  }\n",
              "\n",
              "  .colab-df-spinner {\n",
              "    border: 2px solid var(--fill-color);\n",
              "    border-color: transparent;\n",
              "    border-bottom-color: var(--fill-color);\n",
              "    animation:\n",
              "      spin 1s steps(1) infinite;\n",
              "  }\n",
              "\n",
              "  @keyframes spin {\n",
              "    0% {\n",
              "      border-color: transparent;\n",
              "      border-bottom-color: var(--fill-color);\n",
              "      border-left-color: var(--fill-color);\n",
              "    }\n",
              "    20% {\n",
              "      border-color: transparent;\n",
              "      border-left-color: var(--fill-color);\n",
              "      border-top-color: var(--fill-color);\n",
              "    }\n",
              "    30% {\n",
              "      border-color: transparent;\n",
              "      border-left-color: var(--fill-color);\n",
              "      border-top-color: var(--fill-color);\n",
              "      border-right-color: var(--fill-color);\n",
              "    }\n",
              "    40% {\n",
              "      border-color: transparent;\n",
              "      border-right-color: var(--fill-color);\n",
              "      border-top-color: var(--fill-color);\n",
              "    }\n",
              "    60% {\n",
              "      border-color: transparent;\n",
              "      border-right-color: var(--fill-color);\n",
              "    }\n",
              "    80% {\n",
              "      border-color: transparent;\n",
              "      border-right-color: var(--fill-color);\n",
              "      border-bottom-color: var(--fill-color);\n",
              "    }\n",
              "    90% {\n",
              "      border-color: transparent;\n",
              "      border-bottom-color: var(--fill-color);\n",
              "    }\n",
              "  }\n",
              "</style>\n",
              "\n",
              "      <script>\n",
              "        async function quickchart(key) {\n",
              "          const quickchartButtonEl =\n",
              "            document.querySelector('#' + key + ' button');\n",
              "          quickchartButtonEl.disabled = true;  // To prevent multiple clicks.\n",
              "          quickchartButtonEl.classList.add('colab-df-spinner');\n",
              "          try {\n",
              "            const charts = await google.colab.kernel.invokeFunction(\n",
              "                'suggestCharts', [key], {});\n",
              "          } catch (error) {\n",
              "            console.error('Error during call to suggestCharts:', error);\n",
              "          }\n",
              "          quickchartButtonEl.classList.remove('colab-df-spinner');\n",
              "          quickchartButtonEl.classList.add('colab-df-quickchart-complete');\n",
              "        }\n",
              "        (() => {\n",
              "          let quickchartButtonEl =\n",
              "            document.querySelector('#df-26f76268-7c0b-4ebe-8dfd-eb6f13db878e button');\n",
              "          quickchartButtonEl.style.display =\n",
              "            google.colab.kernel.accessAllowed ? 'block' : 'none';\n",
              "        })();\n",
              "      </script>\n",
              "    </div>\n",
              "\n",
              "    </div>\n",
              "  </div>\n"
            ],
            "application/vnd.google.colaboratory.intrinsic+json": {
              "type": "dataframe",
              "variable_name": "weekly_full"
            }
          },
          "metadata": {},
          "execution_count": 43
        }
      ]
    },
    {
      "cell_type": "markdown",
      "source": [
        "切分"
      ],
      "metadata": {
        "id": "bDEdeMu2uGcw"
      }
    },
    {
      "cell_type": "code",
      "source": [
        "students = weekly_full['id_student'].unique()\n",
        "train_ids, test_ids = train_test_split(students, test_size=0.2, random_state=42)\n",
        "train_ids, val_ids = train_test_split(train_ids, test_size=0.1, random_state=42)"
      ],
      "metadata": {
        "id": "nFlKZERitbPF"
      },
      "execution_count": 8,
      "outputs": []
    },
    {
      "cell_type": "code",
      "source": [
        "features = ['clicks', 'submit_cnt', 'avg_score_sofar', 'clicks_diff1']\n",
        "def make_dataset(ids):\n",
        "  seqs = []\n",
        "  for sid in ids:\n",
        "      data = weekly_full[weekly_full['id_student'] == sid].sort_values('week')\n",
        "      X = data[features].values\n",
        "      # 輸入過去 4 週，預測未來 2 週 clicks\n",
        "      for i in range(len(X) - 6):\n",
        "          seq_in = X[i:i+4]\n",
        "          seq_out = data['clicks'].values[i+4:i+6]\n",
        "          seqs.append((seq_in, seq_out))\n",
        "  return seqs\n",
        "\n",
        "train_data = make_dataset(train_ids)\n",
        "val_data = make_dataset(val_ids)\n",
        "test_data = make_dataset(test_ids)\n",
        "\n"
      ],
      "metadata": {
        "id": "rIK1lyrolrq8"
      },
      "execution_count": 9,
      "outputs": []
    },
    {
      "cell_type": "code",
      "source": [
        "class SeqDataset(Dataset):\n",
        "    def __init__(self, data):\n",
        "        self.data = data\n",
        "    def __len__(self):\n",
        "        return len(self.data)\n",
        "    def __getitem__(self, idx):\n",
        "        x, y = self.data[idx]\n",
        "        return torch.tensor(x, dtype=torch.float32), torch.tensor(y, dtype=torch.float32)\n",
        "\n",
        "train_loader = DataLoader(SeqDataset(train_data), batch_size=128, shuffle=True)\n",
        "val_loader = DataLoader(SeqDataset(val_data), batch_size=128)\n",
        "test_loader = DataLoader(SeqDataset(test_data), batch_size=128)\n",
        "\n",
        "\n",
        "class Seq2SeqLSTM(nn.Module):\n",
        "    def __init__(self, input_dim=4, hidden_dim=64, output_len=2, teacher_forcing_ratio=0.5):\n",
        "        super().__init__()\n",
        "        self.encoder = nn.LSTM(input_dim, hidden_dim, batch_first=True)\n",
        "        self.decoder = nn.LSTM(1, hidden_dim, batch_first=True)  # Decoder 只吃前一步 click\n",
        "        self.fc = nn.Linear(hidden_dim, 1)\n",
        "        self.output_len = output_len\n",
        "        self.teacher_forcing_ratio = teacher_forcing_ratio\n",
        "\n",
        "    def forward(self, x, y=None):\n",
        "\n",
        "        batch_size = x.size(0)\n",
        "        device = x.device\n",
        "        _, (h, c) = self.encoder(x)\n",
        "\n",
        "        # decoder 初始輸入\n",
        "        dec_input = torch.zeros(batch_size, 1, 1, device=device)\n",
        "        outputs = []\n",
        "\n",
        "        for t in range(self.output_len):\n",
        "            out, (h, c) = self.decoder(dec_input, (h, c))\n",
        "            pred = self.fc(out)  # [batch, 1, 1]\n",
        "            outputs.append(pred)\n",
        "\n",
        "            # Teacher Forcing 機制\n",
        "            use_teacher = y is not None and random.random() < self.teacher_forcing_ratio\n",
        "            if use_teacher:\n",
        "                dec_input = y[:, t].unsqueeze(1).unsqueeze(2)  # 用真實值\n",
        "            else:\n",
        "                dec_input = pred.detach()  # 用預測值\n",
        "\n",
        "        outputs = torch.cat(outputs, dim=1).squeeze(-1)\n",
        "        return outputs\n",
        "\n",
        "\n",
        "device = torch.device(\"cuda\" if torch.cuda.is_available() else \"cpu\")\n",
        "model = Seq2SeqLSTM().to(device)\n",
        "optimizer = torch.optim.Adam(model.parameters(), lr=1e-3)\n",
        "criterion = nn.MSELoss()\n",
        "\n",
        "\n",
        "for epoch in range(10):\n",
        "    model.train()\n",
        "    train_loss = 0\n",
        "    for x, y in tqdm(train_loader, desc=f\"Epoch {epoch+1}/10\"):\n",
        "        x, y = x.to(device), y.to(device)\n",
        "        optimizer.zero_grad()\n",
        "        pred = model(x, y)  # 傳入 y 以啟用 teacher forcing\n",
        "        loss = criterion(pred, y)\n",
        "        loss.backward()\n",
        "        optimizer.step()\n",
        "        train_loss += loss.item() * len(x)\n",
        "    train_loss /= len(train_loader.dataset)\n",
        "    print(f\"Train Loss: {train_loss:.4f}\")\n",
        "\n",
        "\n",
        "model.eval()\n",
        "preds, trues = [], []\n",
        "with torch.no_grad():\n",
        "    for x, y in test_loader:\n",
        "        x, y = x.to(device), y.to(device)\n",
        "        out = model(x)  # 不傳 y\n",
        "        preds.append(out.cpu().numpy())\n",
        "        trues.append(y.cpu().numpy())\n",
        "\n",
        "preds = np.concatenate(preds)\n",
        "trues = np.concatenate(trues)\n",
        "mse = np.mean((preds - trues) ** 2)\n",
        "print(f\"Test MSE: {mse:.4f}\")\n",
        "\n",
        "# 可視化部分樣本\n",
        "plt.figure(figsize=(10,5))\n",
        "plt.plot(trues[:50, 0], label='Ground Truth Week+1')\n",
        "plt.plot(preds[:50, 0], label='Predicted Week+1')\n",
        "plt.legend()\n",
        "plt.title(\"Seq2Seq LSTM Forecasting (Next Week Clicks)\")\n",
        "plt.show()\n"
      ],
      "metadata": {
        "id": "GaOWpKUZwmht",
        "colab": {
          "base_uri": "https://localhost:8080/",
          "height": 833
        },
        "outputId": "a201e9d4-2447-4721-f99a-1b55b458f8b1"
      },
      "execution_count": 13,
      "outputs": [
        {
          "output_type": "stream",
          "name": "stderr",
          "text": [
            "Epoch 1/10: 100%|██████████| 7816/7816 [00:45<00:00, 173.32it/s]\n"
          ]
        },
        {
          "output_type": "stream",
          "name": "stdout",
          "text": [
            "Train Loss: 6897.4432\n"
          ]
        },
        {
          "output_type": "stream",
          "name": "stderr",
          "text": [
            "Epoch 2/10: 100%|██████████| 7816/7816 [00:44<00:00, 176.88it/s]\n"
          ]
        },
        {
          "output_type": "stream",
          "name": "stdout",
          "text": [
            "Train Loss: 6849.5358\n"
          ]
        },
        {
          "output_type": "stream",
          "name": "stderr",
          "text": [
            "Epoch 3/10: 100%|██████████| 7816/7816 [00:44<00:00, 176.47it/s]\n"
          ]
        },
        {
          "output_type": "stream",
          "name": "stdout",
          "text": [
            "Train Loss: 6846.0462\n"
          ]
        },
        {
          "output_type": "stream",
          "name": "stderr",
          "text": [
            "Epoch 4/10: 100%|██████████| 7816/7816 [00:44<00:00, 176.35it/s]\n"
          ]
        },
        {
          "output_type": "stream",
          "name": "stdout",
          "text": [
            "Train Loss: 6845.0956\n"
          ]
        },
        {
          "output_type": "stream",
          "name": "stderr",
          "text": [
            "Epoch 5/10: 100%|██████████| 7816/7816 [00:44<00:00, 174.84it/s]\n"
          ]
        },
        {
          "output_type": "stream",
          "name": "stdout",
          "text": [
            "Train Loss: 6842.5815\n"
          ]
        },
        {
          "output_type": "stream",
          "name": "stderr",
          "text": [
            "Epoch 6/10: 100%|██████████| 7816/7816 [00:43<00:00, 178.72it/s]\n"
          ]
        },
        {
          "output_type": "stream",
          "name": "stdout",
          "text": [
            "Train Loss: 6840.6905\n"
          ]
        },
        {
          "output_type": "stream",
          "name": "stderr",
          "text": [
            "Epoch 7/10: 100%|██████████| 7816/7816 [00:45<00:00, 173.22it/s]\n"
          ]
        },
        {
          "output_type": "stream",
          "name": "stdout",
          "text": [
            "Train Loss: 6838.8369\n"
          ]
        },
        {
          "output_type": "stream",
          "name": "stderr",
          "text": [
            "Epoch 8/10: 100%|██████████| 7816/7816 [00:44<00:00, 176.47it/s]\n"
          ]
        },
        {
          "output_type": "stream",
          "name": "stdout",
          "text": [
            "Train Loss: 6836.6510\n"
          ]
        },
        {
          "output_type": "stream",
          "name": "stderr",
          "text": [
            "Epoch 9/10: 100%|██████████| 7816/7816 [00:44<00:00, 177.36it/s]\n"
          ]
        },
        {
          "output_type": "stream",
          "name": "stdout",
          "text": [
            "Train Loss: 6835.2531\n"
          ]
        },
        {
          "output_type": "stream",
          "name": "stderr",
          "text": [
            "Epoch 10/10: 100%|██████████| 7816/7816 [00:43<00:00, 178.22it/s]\n"
          ]
        },
        {
          "output_type": "stream",
          "name": "stdout",
          "text": [
            "Train Loss: 6833.0464\n",
            "Test MSE: 6325.0005\n"
          ]
        },
        {
          "output_type": "display_data",
          "data": {
            "text/plain": [
              "<Figure size 1000x500 with 1 Axes>"
            ],
            "image/png": "[encoded data removed]"
          },
          "metadata": {}
        }
      ]
    },
    {
      "cell_type": "code",
      "source": [
        "SEED = 42\n",
        "random.seed(SEED)\n",
        "np.random.seed(SEED)\n",
        "torch.manual_seed(SEED)\n",
        "\n",
        "DEVICE = torch.device('cuda' if torch.cuda.is_available() else 'cpu')\n",
        "print('Device:', DEVICE)\n",
        "\n",
        "# Model / training hyperparams\n",
        "BATCH_SIZE = 128\n",
        "LR = 1e-3\n",
        "EPOCHS = 30\n",
        "HIDDEN_DIM = 64\n",
        "LATENT_DIM = 16\n",
        "PAST_WEEKS = 4\n",
        "FUTURE_WEEKS = 2\n",
        "BETA = 0.001  # weight for KLD\n",
        "N_SAMPLES = 20  # generate N samples per input for diversity evaluation\n",
        "\n",
        "\n",
        "def fill_weeks_for_student(df):\n",
        "    sid = df['id_student'].iloc[0]\n",
        "    df2 = df.set_index('week').reindex(all_weeks, fill_value=0).reset_index()\n",
        "    df2['id_student'] = sid\n",
        "    return df2\n",
        "\n",
        "\n",
        "scaler_stats = {}\n",
        "for col in features:\n",
        "    mu = weekly_full[col].mean()\n",
        "    sigma = weekly_full[col].std() + 1e-9\n",
        "    scaler_stats[col] = (mu, sigma)\n",
        "    weekly_full[col] = (weekly_full[col] - mu) / sigma\n",
        "\n",
        "weekly_full = weekly_full.rename(columns={'id_student':'student_id'})\n",
        "\n",
        "\n",
        "def build_sequences(df, past=PAST_WEEKS, future=FUTURE_WEEKS, feat_cols=features):\n",
        "    sequences = []\n",
        "    for sid, g in df.groupby('student_id'):\n",
        "        g = g.sort_values('week').reset_index(drop=True)\n",
        "        X = g[feat_cols].values  # shape [T, F]\n",
        "        T = X.shape[0]\n",
        "        window = past + future\n",
        "        if T < window:\n",
        "            continue\n",
        "        for start in range(0, T - window + 1):\n",
        "            enc = X[start:start+past]  # (past, F)\n",
        "            tgt = X[start+past:start+past+future, 0]  # clicks only (standardized)\n",
        "            sequences.append({'student_id':sid, 'encoder':enc.astype(np.float32), 'target':tgt.astype(np.float32)})\n",
        "    return sequences\n",
        "\n",
        "sequences = build_sequences(weekly_full)\n",
        "print('Total sequences:', len(sequences))\n",
        "\n",
        "student_ids = weekly_full['student_id'].unique()\n",
        "train_ids, test_ids = train_test_split(student_ids, test_size=0.2, random_state=42)\n",
        "train_ids, val_ids = train_test_split(train_ids, test_size=0.125, random_state=42)\n",
        "\n",
        "def filter_by_ids(seq_list, ids_set):\n",
        "    return [s for s in seq_list if s['student_id'] in ids_set]\n",
        "\n",
        "train_seq = filter_by_ids(sequences, set(train_ids))\n",
        "val_seq = filter_by_ids(sequences, set(val_ids))\n",
        "test_seq = filter_by_ids(sequences, set(test_ids))\n",
        "print('Split sizes (train/val/test):', len(train_seq), len(val_seq), len(test_seq))\n",
        "\n",
        "class SeqDataset(Dataset):\n",
        "    def __init__(self, seqs):\n",
        "        self.seqs = seqs\n",
        "    def __len__(self):\n",
        "        return len(self.seqs)\n",
        "    def __getitem__(self, idx):\n",
        "        item = self.seqs[idx]\n",
        "        return torch.tensor(item['encoder'], dtype=torch.float32), torch.tensor(item['target'], dtype=torch.float32)\n",
        "\n",
        "train_loader = DataLoader(SeqDataset(train_seq), batch_size=BATCH_SIZE, shuffle=True, drop_last=False)\n",
        "val_loader = DataLoader(SeqDataset(val_seq), batch_size=BATCH_SIZE, shuffle=False)\n",
        "test_loader = DataLoader(SeqDataset(test_seq), batch_size=BATCH_SIZE, shuffle=False)\n",
        "\n",
        "class Seq2SeqVAE(nn.Module):\n",
        "    def __init__(self, input_dim, hidden_dim=HIDDEN_DIM, latent_dim=LATENT_DIM, output_len=FUTURE_WEEKS):\n",
        "        super().__init__()\n",
        "        self.hidden_dim = hidden_dim\n",
        "        self.latent_dim = latent_dim\n",
        "        self.output_len = output_len\n",
        "\n",
        "        # Encoder LSTM\n",
        "        self.encoder = nn.LSTM(input_dim, hidden_dim, batch_first=True)\n",
        "        self.fc_mu = nn.Linear(hidden_dim, latent_dim)\n",
        "        self.fc_logvar = nn.Linear(hidden_dim, latent_dim)\n",
        "\n",
        "        # Decoder initial hidden from z\n",
        "        self.z_to_hidden = nn.Linear(latent_dim, hidden_dim)\n",
        "        self.z_to_cell = nn.Linear(latent_dim, hidden_dim)\n",
        "\n",
        "        # Decoder LSTM consumes previous click scalar (1-d) each step\n",
        "        self.decoder_cell = nn.LSTM(input_size=1, hidden_size=hidden_dim, batch_first=True)\n",
        "        self.out_fc = nn.Linear(hidden_dim, 1)\n",
        "\n",
        "    def encode(self, x):\n",
        "        # x: [batch, past, input_dim]\n",
        "        _, (h_n, c_n) = self.encoder(x)  # h_n: [num_layers, batch, hidden]\n",
        "        h = h_n[-1]  # [batch, hidden]\n",
        "        mu = self.fc_mu(h)\n",
        "        logvar = self.fc_logvar(h)\n",
        "        return mu, logvar\n",
        "\n",
        "    def reparameterize(self, mu, logvar):\n",
        "        std = torch.exp(0.5*logvar)\n",
        "        eps = torch.randn_like(std)\n",
        "        return mu + eps * std\n",
        "\n",
        "    def decode(self, z, teacher_forcing_y=None):\n",
        "        # z: [batch, latent]\n",
        "        batch = z.size(0)\n",
        "        device = z.device\n",
        "        h0 = torch.tanh(self.z_to_hidden(z)).unsqueeze(0)  # [1, batch, hidden]\n",
        "        c0 = torch.tanh(self.z_to_cell(z)).unsqueeze(0)    # [1, batch, hidden]\n",
        "\n",
        "        preds = []\n",
        "        # start input: last observed click (we don't have it directly here; use zero initial scalar)\n",
        "        dec_input = torch.zeros(batch, 1, 1, device=device)  # [batch, 1, 1]\n",
        "        h, c = h0, c0\n",
        "        for t in range(self.output_len):\n",
        "            out, (h, c) = self.decoder_cell(dec_input, (h, c))  # out: [batch,1,hidden]\n",
        "            pred = self.out_fc(out)  # [batch,1,1]\n",
        "            preds.append(pred.squeeze(-1).squeeze(1))  # [batch]\n",
        "            # next input: predicted scalar (detach to avoid backprop through sampling)\n",
        "            dec_input = pred.detach()\n",
        "        preds = torch.stack(preds, dim=1)  # [batch, output_len]\n",
        "        return preds\n",
        "\n",
        "    def forward(self, x):\n",
        "        mu, logvar = self.encode(x)\n",
        "        z = self.reparameterize(mu, logvar)\n",
        "        recon = self.decode(z)\n",
        "        return recon, mu, logvar\n",
        "\n",
        "mse_loss = nn.MSELoss(reduction='mean')\n",
        "def vae_loss_fn(recon, target, mu, logvar, beta=BETA):\n",
        "    # recon, target: [batch, future_len]\n",
        "    recon_loss = mse_loss(recon, target)\n",
        "    # KLD\n",
        "    kld = -0.5 * torch.mean(1 + logvar - mu.pow(2) - logvar.exp())\n",
        "    loss = recon_loss + beta * kld\n",
        "    return loss, recon_loss.detach().item(), kld.detach().item()\n",
        "\n",
        "# ---------------- instantiate ----------------\n",
        "input_dim = len(features)\n",
        "model = Seq2SeqVAE(input_dim=input_dim, hidden_dim=HIDDEN_DIM, latent_dim=LATENT_DIM, output_len=FUTURE_WEEKS).to(DEVICE)\n",
        "optimizer = torch.optim.Adam(model.parameters(), lr=LR)\n",
        "\n",
        "# ---------------- Training loop ----------------\n",
        "best_val = 1e9\n",
        "for epoch in range(1, EPOCHS+1):\n",
        "    model.train()\n",
        "    train_loss = 0.0\n",
        "    train_recon = 0.0\n",
        "    train_kld = 0.0\n",
        "    for X, y in tqdm(train_loader, desc=f\"Train Epoch {epoch}/{EPOCHS}\"):\n",
        "        X = X.to(DEVICE)\n",
        "        y = y.to(DEVICE)\n",
        "        optimizer.zero_grad()\n",
        "        recon, mu, logvar = model(X)\n",
        "        loss, rloss, kld = vae_loss_fn(recon, y, mu, logvar, beta=BETA)\n",
        "        loss.backward()\n",
        "        optimizer.step()\n",
        "        train_loss += loss.item() * X.size(0)\n",
        "        train_recon += rloss * X.size(0)\n",
        "        train_kld += kld * X.size(0)\n",
        "    train_loss /= len(train_loader.dataset)\n",
        "    train_recon /= len(train_loader.dataset)\n",
        "    train_kld /= len(train_loader.dataset)\n",
        "\n",
        "    # validation\n",
        "    model.eval()\n",
        "    val_loss = 0.0\n",
        "    val_recon = 0.0\n",
        "    val_kld = 0.0\n",
        "    with torch.no_grad():\n",
        "        for Xv, yv in val_loader:\n",
        "            Xv = Xv.to(DEVICE); yv = yv.to(DEVICE)\n",
        "            recon_v, mu_v, logvar_v = model(Xv)\n",
        "            loss_v, rloss_v, kld_v = vae_loss_fn(recon_v, yv, mu_v, logvar_v, beta=BETA)\n",
        "            val_loss += loss_v.item() * Xv.size(0)\n",
        "            val_recon += rloss_v * Xv.size(0)\n",
        "            val_kld += kld_v * Xv.size(0)\n",
        "    val_loss /= len(val_loader.dataset)\n",
        "    val_recon /= len(val_loader.dataset)\n",
        "    val_kld /= len(val_loader.dataset)\n",
        "\n",
        "    print(f\"Epoch {epoch}: Train loss={train_loss:.4f} (recon={train_recon:.4f} kld={train_kld:.4f}) | Val loss={val_loss:.4f}\")\n",
        "\n",
        "    if val_loss < best_val:\n",
        "        best_val = val_loss\n",
        "        torch.save(model.state_dict(), 'best_seq2seq_vae.pth')\n",
        "\n",
        "# ---------------- Testing & Multi-sample Generation ----------------\n",
        "model.load_state_dict(torch.load('best_seq2seq_vae.pth', map_location=DEVICE))\n",
        "model.eval()\n",
        "\n",
        "# We'll compute Best-of-N MSE, Diversity, Coverage across the entire test set\n",
        "all_true = []\n",
        "all_best_mse = []\n",
        "all_diversity = []\n",
        "all_coverage = []\n",
        "\n",
        "with torch.no_grad():\n",
        "    for Xtest, ytest in tqdm(test_loader, desc='Test generating'):\n",
        "        Xtest = Xtest.to(DEVICE)\n",
        "        ytest = ytest.to(DEVICE)  # [batch, future_len]\n",
        "        batch = Xtest.size(0)\n",
        "        mu, logvar = model.encode(Xtest)\n",
        "\n",
        "        # generate N samples per instance by sampling different eps\n",
        "        samples = []\n",
        "        for n in range(N_SAMPLES):\n",
        "            z = model.reparameterize(mu, logvar)  # uses random eps internally\n",
        "            pred = model.decode(z)  # [batch, future_len]\n",
        "            samples.append(pred.cpu().numpy())\n",
        "        samples = np.stack(samples, axis=0)  # [N, batch, future_len]\n",
        "\n",
        "        # metrics per element in batch\n",
        "        for b in range(batch):\n",
        "            true = ytest[b].cpu().numpy()  # [future_len]\n",
        "            sims = samples[:, b, :]        # [N, future_len]\n",
        "            # Best-of-N MSE\n",
        "            mse_per_sample = np.mean((sims - true[np.newaxis, :])**2, axis=1)  # [N]\n",
        "            best_mse = mse_per_sample.min()\n",
        "            # Diversity: avg std across time steps\n",
        "            diversity = np.mean(np.std(sims, axis=0))\n",
        "            # Coverage: proportion of time steps where true is within [min,max] across samples\n",
        "            lower = sims.min(axis=0)\n",
        "            upper = sims.max(axis=0)\n",
        "            covered = np.logical_and(true >= lower, true <= upper)\n",
        "            coverage = covered.mean()\n",
        "            all_true.append(true)\n",
        "            all_best_mse.append(best_mse)\n",
        "            all_diversity.append(diversity)\n",
        "            all_coverage.append(coverage)\n",
        "\n",
        "# aggregate\n",
        "all_true = np.array(all_true)\n",
        "mean_best_mse = float(np.mean(all_best_mse))\n",
        "mean_diversity = float(np.mean(all_diversity))\n",
        "mean_coverage = float(np.mean(all_coverage))\n",
        "\n",
        "print(f\"Test Best-of-{N_SAMPLES} MSE (standardized clicks) = {mean_best_mse:.4f}\")\n",
        "print(f\"Mean Diversity (std on predictions) = {mean_diversity:.4f}\")\n",
        "print(f\"Mean Coverage = {mean_coverage:.4f}\")\n",
        "\n",
        "# ---------------- Convert metrics to original clicks scale (for interpretability) ----------------\n",
        "# Recall clicks were standardized: (clicks - mu)/sigma\n",
        "clicks_mu, clicks_sigma = scaler_stats['clicks']\n",
        "# If MSE is computed on standardized clicks, RMSE_std * sigma = RMSE in original units\n",
        "rmse_std = np.sqrt(mean_best_mse)\n",
        "rmse_original = rmse_std * clicks_sigma\n",
        "print(f\"Test Best-of-{N_SAMPLES} RMSE in original clicks = {rmse_original:.3f} clicks (avg per prediction step)\")\n",
        "\n",
        "# ---------------- Visualization: show a few test examples ----------------\n",
        "# Visualize first few test instances (take first batch from test_loader)\n",
        "X0, y0 = next(iter(test_loader))\n",
        "with torch.no_grad():\n",
        "    X0 = X0.to(DEVICE)\n",
        "    mu0, logvar0 = model.encode(X0)\n",
        "    samples_v = []\n",
        "    for n in range(N_SAMPLES):\n",
        "        z = model.reparameterize(mu0, logvar0)\n",
        "        pred = model.decode(z)  # [batch, future]\n",
        "        samples_v.append(pred.cpu().numpy())\n",
        "samples_v = np.stack(samples_v, axis=0)  # [N, batch, future]\n",
        "\n",
        "num_plots = min(6, X0.size(0))\n",
        "plt.figure(figsize=(10, 2.2 * num_plots))\n",
        "for i in range(num_plots):\n",
        "    true_orig = y0[i].numpy() * clicks_sigma + clicks_mu\n",
        "    plt.subplot(num_plots,1,i+1)\n",
        "    plt.plot(range(FUTURE_WEEKS), true_orig, marker='o', label='Ground Truth', color='black')\n",
        "    for n in range(N_SAMPLES):\n",
        "        s = samples_v[n, i, :] * clicks_sigma + clicks_mu\n",
        "        plt.plot(range(FUTURE_WEEKS), s, alpha=0.25, color='red')\n",
        "    plt.title(f\"Example {i} - Best-of-{N_SAMPLES} RMSE={(np.min(np.mean((samples_v[:,i,:]-y0[i].numpy())**2,axis=1))**0.5*clicks_sigma):.2f} clicks\")\n",
        "    plt.legend()\n",
        "plt.tight_layout()\n",
        "plt.show()\n"
      ],
      "metadata": {
        "colab": {
          "base_uri": "https://localhost:8080/",
          "height": 1000
        },
        "id": "pTBVZbpIfOAT",
        "outputId": "ad2d23e0-1a2c-49b9-8835-9980a4df7ccb"
      },
      "execution_count": 27,
      "outputs": [
        {
          "output_type": "stream",
          "name": "stdout",
          "text": [
            "Device: cuda\n",
            "Total sequences: 886516\n",
            "Split sizes (train/val/test): 620534 88672 177310\n"
          ]
        },
        {
          "output_type": "stream",
          "name": "stderr",
          "text": [
            "Train Epoch 1/30: 100%|██████████| 4848/4848 [00:35<00:00, 138.13it/s]\n"
          ]
        },
        {
          "output_type": "stream",
          "name": "stdout",
          "text": [
            "Epoch 1: Train loss=0.6203 (recon=0.6191 kld=1.1613) | Val loss=0.6655\n"
          ]
        },
        {
          "output_type": "stream",
          "name": "stderr",
          "text": [
            "Train Epoch 2/30: 100%|██████████| 4848/4848 [00:35<00:00, 137.99it/s]\n"
          ]
        },
        {
          "output_type": "stream",
          "name": "stdout",
          "text": [
            "Epoch 2: Train loss=0.6095 (recon=0.6083 kld=1.2318) | Val loss=0.6630\n"
          ]
        },
        {
          "output_type": "stream",
          "name": "stderr",
          "text": [
            "Train Epoch 3/30: 100%|██████████| 4848/4848 [00:35<00:00, 138.23it/s]\n"
          ]
        },
        {
          "output_type": "stream",
          "name": "stdout",
          "text": [
            "Epoch 3: Train loss=0.6073 (recon=0.6062 kld=1.1169) | Val loss=0.6631\n"
          ]
        },
        {
          "output_type": "stream",
          "name": "stderr",
          "text": [
            "Train Epoch 4/30: 100%|██████████| 4848/4848 [00:34<00:00, 138.82it/s]\n"
          ]
        },
        {
          "output_type": "stream",
          "name": "stdout",
          "text": [
            "Epoch 4: Train loss=0.6061 (recon=0.6051 kld=1.0287) | Val loss=0.6612\n"
          ]
        },
        {
          "output_type": "stream",
          "name": "stderr",
          "text": [
            "Train Epoch 5/30: 100%|██████████| 4848/4848 [00:35<00:00, 138.16it/s]\n"
          ]
        },
        {
          "output_type": "stream",
          "name": "stdout",
          "text": [
            "Epoch 5: Train loss=0.6050 (recon=0.6041 kld=0.9687) | Val loss=0.6643\n"
          ]
        },
        {
          "output_type": "stream",
          "name": "stderr",
          "text": [
            "Train Epoch 6/30: 100%|██████████| 4848/4848 [00:34<00:00, 138.60it/s]\n"
          ]
        },
        {
          "output_type": "stream",
          "name": "stdout",
          "text": [
            "Epoch 6: Train loss=0.6043 (recon=0.6034 kld=0.9051) | Val loss=0.6594\n"
          ]
        },
        {
          "output_type": "stream",
          "name": "stderr",
          "text": [
            "Train Epoch 7/30: 100%|██████████| 4848/4848 [00:35<00:00, 138.44it/s]\n"
          ]
        },
        {
          "output_type": "stream",
          "name": "stdout",
          "text": [
            "Epoch 7: Train loss=0.6031 (recon=0.6023 kld=0.8811) | Val loss=0.6604\n"
          ]
        },
        {
          "output_type": "stream",
          "name": "stderr",
          "text": [
            "Train Epoch 8/30: 100%|██████████| 4848/4848 [00:35<00:00, 136.28it/s]\n"
          ]
        },
        {
          "output_type": "stream",
          "name": "stdout",
          "text": [
            "Epoch 8: Train loss=0.6023 (recon=0.6015 kld=0.8386) | Val loss=0.6604\n"
          ]
        },
        {
          "output_type": "stream",
          "name": "stderr",
          "text": [
            "Train Epoch 9/30: 100%|██████████| 4848/4848 [00:35<00:00, 138.38it/s]\n"
          ]
        },
        {
          "output_type": "stream",
          "name": "stdout",
          "text": [
            "Epoch 9: Train loss=0.6014 (recon=0.6005 kld=0.8216) | Val loss=0.6616\n"
          ]
        },
        {
          "output_type": "stream",
          "name": "stderr",
          "text": [
            "Train Epoch 10/30: 100%|██████████| 4848/4848 [00:35<00:00, 137.25it/s]\n"
          ]
        },
        {
          "output_type": "stream",
          "name": "stdout",
          "text": [
            "Epoch 10: Train loss=0.6003 (recon=0.5995 kld=0.8031) | Val loss=0.6614\n"
          ]
        },
        {
          "output_type": "stream",
          "name": "stderr",
          "text": [
            "Train Epoch 11/30: 100%|██████████| 4848/4848 [00:34<00:00, 138.99it/s]\n"
          ]
        },
        {
          "output_type": "stream",
          "name": "stdout",
          "text": [
            "Epoch 11: Train loss=0.5994 (recon=0.5986 kld=0.7997) | Val loss=0.6602\n"
          ]
        },
        {
          "output_type": "stream",
          "name": "stderr",
          "text": [
            "Train Epoch 12/30: 100%|██████████| 4848/4848 [00:34<00:00, 139.84it/s]\n"
          ]
        },
        {
          "output_type": "stream",
          "name": "stdout",
          "text": [
            "Epoch 12: Train loss=0.5986 (recon=0.5978 kld=0.7982) | Val loss=0.6650\n"
          ]
        },
        {
          "output_type": "stream",
          "name": "stderr",
          "text": [
            "Train Epoch 13/30: 100%|██████████| 4848/4848 [00:34<00:00, 139.32it/s]\n"
          ]
        },
        {
          "output_type": "stream",
          "name": "stdout",
          "text": [
            "Epoch 13: Train loss=0.5976 (recon=0.5968 kld=0.7792) | Val loss=0.6701\n"
          ]
        },
        {
          "output_type": "stream",
          "name": "stderr",
          "text": [
            "Train Epoch 14/30: 100%|██████████| 4848/4848 [00:35<00:00, 138.30it/s]\n"
          ]
        },
        {
          "output_type": "stream",
          "name": "stdout",
          "text": [
            "Epoch 14: Train loss=0.5965 (recon=0.5957 kld=0.7949) | Val loss=0.6649\n"
          ]
        },
        {
          "output_type": "stream",
          "name": "stderr",
          "text": [
            "Train Epoch 15/30: 100%|██████████| 4848/4848 [00:34<00:00, 138.53it/s]\n"
          ]
        },
        {
          "output_type": "stream",
          "name": "stdout",
          "text": [
            "Epoch 15: Train loss=0.5955 (recon=0.5947 kld=0.7880) | Val loss=0.6640\n"
          ]
        },
        {
          "output_type": "stream",
          "name": "stderr",
          "text": [
            "Train Epoch 16/30: 100%|██████████| 4848/4848 [00:34<00:00, 138.56it/s]\n"
          ]
        },
        {
          "output_type": "stream",
          "name": "stdout",
          "text": [
            "Epoch 16: Train loss=0.5947 (recon=0.5939 kld=0.7940) | Val loss=0.6663\n"
          ]
        },
        {
          "output_type": "stream",
          "name": "stderr",
          "text": [
            "Train Epoch 17/30: 100%|██████████| 4848/4848 [00:35<00:00, 136.36it/s]\n"
          ]
        },
        {
          "output_type": "stream",
          "name": "stdout",
          "text": [
            "Epoch 17: Train loss=0.5931 (recon=0.5923 kld=0.7781) | Val loss=0.6656\n"
          ]
        },
        {
          "output_type": "stream",
          "name": "stderr",
          "text": [
            "Train Epoch 18/30: 100%|██████████| 4848/4848 [00:34<00:00, 138.57it/s]\n"
          ]
        },
        {
          "output_type": "stream",
          "name": "stdout",
          "text": [
            "Epoch 18: Train loss=0.5922 (recon=0.5914 kld=0.7946) | Val loss=0.6661\n"
          ]
        },
        {
          "output_type": "stream",
          "name": "stderr",
          "text": [
            "Train Epoch 19/30: 100%|██████████| 4848/4848 [00:35<00:00, 138.16it/s]\n"
          ]
        },
        {
          "output_type": "stream",
          "name": "stdout",
          "text": [
            "Epoch 19: Train loss=0.5912 (recon=0.5904 kld=0.7840) | Val loss=0.6724\n"
          ]
        },
        {
          "output_type": "stream",
          "name": "stderr",
          "text": [
            "Train Epoch 20/30: 100%|██████████| 4848/4848 [00:34<00:00, 138.63it/s]\n"
          ]
        },
        {
          "output_type": "stream",
          "name": "stdout",
          "text": [
            "Epoch 20: Train loss=0.5897 (recon=0.5889 kld=0.7961) | Val loss=0.6748\n"
          ]
        },
        {
          "output_type": "stream",
          "name": "stderr",
          "text": [
            "Train Epoch 21/30: 100%|██████████| 4848/4848 [00:35<00:00, 138.39it/s]\n"
          ]
        },
        {
          "output_type": "stream",
          "name": "stdout",
          "text": [
            "Epoch 21: Train loss=0.5889 (recon=0.5881 kld=0.8033) | Val loss=0.6749\n"
          ]
        },
        {
          "output_type": "stream",
          "name": "stderr",
          "text": [
            "Train Epoch 22/30: 100%|██████████| 4848/4848 [00:34<00:00, 139.89it/s]\n"
          ]
        },
        {
          "output_type": "stream",
          "name": "stdout",
          "text": [
            "Epoch 22: Train loss=0.5879 (recon=0.5871 kld=0.8005) | Val loss=0.6694\n"
          ]
        },
        {
          "output_type": "stream",
          "name": "stderr",
          "text": [
            "Train Epoch 23/30: 100%|██████████| 4848/4848 [00:34<00:00, 139.43it/s]\n"
          ]
        },
        {
          "output_type": "stream",
          "name": "stdout",
          "text": [
            "Epoch 23: Train loss=0.5873 (recon=0.5865 kld=0.8000) | Val loss=0.6703\n"
          ]
        },
        {
          "output_type": "stream",
          "name": "stderr",
          "text": [
            "Train Epoch 24/30: 100%|██████████| 4848/4848 [00:34<00:00, 139.04it/s]\n"
          ]
        },
        {
          "output_type": "stream",
          "name": "stdout",
          "text": [
            "Epoch 24: Train loss=0.5850 (recon=0.5842 kld=0.7977) | Val loss=0.6704\n"
          ]
        },
        {
          "output_type": "stream",
          "name": "stderr",
          "text": [
            "Train Epoch 25/30: 100%|██████████| 4848/4848 [00:35<00:00, 137.67it/s]\n"
          ]
        },
        {
          "output_type": "stream",
          "name": "stdout",
          "text": [
            "Epoch 25: Train loss=0.5852 (recon=0.5844 kld=0.8195) | Val loss=0.6767\n"
          ]
        },
        {
          "output_type": "stream",
          "name": "stderr",
          "text": [
            "Train Epoch 26/30: 100%|██████████| 4848/4848 [00:35<00:00, 135.84it/s]\n"
          ]
        },
        {
          "output_type": "stream",
          "name": "stdout",
          "text": [
            "Epoch 26: Train loss=0.5833 (recon=0.5824 kld=0.8128) | Val loss=0.6707\n"
          ]
        },
        {
          "output_type": "stream",
          "name": "stderr",
          "text": [
            "Train Epoch 27/30: 100%|██████████| 4848/4848 [00:35<00:00, 137.84it/s]\n"
          ]
        },
        {
          "output_type": "stream",
          "name": "stdout",
          "text": [
            "Epoch 27: Train loss=0.5817 (recon=0.5809 kld=0.8219) | Val loss=0.6714\n"
          ]
        },
        {
          "output_type": "stream",
          "name": "stderr",
          "text": [
            "Train Epoch 28/30: 100%|██████████| 4848/4848 [00:34<00:00, 138.75it/s]\n"
          ]
        },
        {
          "output_type": "stream",
          "name": "stdout",
          "text": [
            "Epoch 28: Train loss=0.5816 (recon=0.5807 kld=0.8415) | Val loss=0.6719\n"
          ]
        },
        {
          "output_type": "stream",
          "name": "stderr",
          "text": [
            "Train Epoch 29/30: 100%|██████████| 4848/4848 [00:34<00:00, 138.55it/s]\n"
          ]
        },
        {
          "output_type": "stream",
          "name": "stdout",
          "text": [
            "Epoch 29: Train loss=0.5802 (recon=0.5794 kld=0.8485) | Val loss=0.6728\n"
          ]
        },
        {
          "output_type": "stream",
          "name": "stderr",
          "text": [
            "Train Epoch 30/30: 100%|██████████| 4848/4848 [00:34<00:00, 138.65it/s]\n"
          ]
        },
        {
          "output_type": "stream",
          "name": "stdout",
          "text": [
            "Epoch 30: Train loss=0.5788 (recon=0.5780 kld=0.8280) | Val loss=0.6778\n"
          ]
        },
        {
          "output_type": "stream",
          "name": "stderr",
          "text": [
            "Test generating: 100%|██████████| 1386/1386 [00:51<00:00, 26.66it/s]\n"
          ]
        },
        {
          "output_type": "stream",
          "name": "stdout",
          "text": [
            "Test Best-of-20 MSE (standardized clicks) = 0.5737\n",
            "Mean Diversity (std on predictions) = 0.0164\n",
            "Mean Coverage = 0.1098\n",
            "Test Best-of-20 RMSE in original clicks = 0.757 clicks (avg per prediction step)\n"
          ]
        },
        {
          "output_type": "display_data",
          "data": {
            "text/plain": [
              "<Figure size 1000x1320 with 6 Axes>"
            ],
            "image/png": "[encoded data removed]"
          },
          "metadata": {}
        }
      ]
    },
    {
      "cell_type": "code",
      "source": [
        "import pandas as pd\n",
        "import numpy as np\n",
        "import torch\n",
        "import torch.nn as nn\n",
        "from torch.utils.data import Dataset, DataLoader\n",
        "from sklearn.model_selection import train_test_split\n",
        "from tqdm import tqdm\n",
        "import random\n",
        "import matplotlib.pyplot as plt\n",
        "\n",
        "SEED = 42\n",
        "DEVICE = torch.device('cuda' if torch.cuda.is_available() else 'cpu')\n",
        "BATCH_SIZE = 128\n",
        "LR = 1e-3\n",
        "EPOCHS = 30 # 為了快速演示，可設為 10，建議 30\n",
        "HIDDEN_DIM = 64\n",
        "LATENT_DIM = 16\n",
        "PAST_WEEKS = 4\n",
        "FUTURE_WEEKS = 2\n",
        "BETA = 0.001\n",
        "N_SAMPLES = 20\n",
        "\n",
        "random.seed(SEED)\n",
        "np.random.seed(SEED)\n",
        "torch.manual_seed(SEED)\n",
        "if torch.cuda.is_available():\n",
        "    torch.cuda.manual_seed_all(SEED)\n",
        "\n",
        "print('Device:', DEVICE)\n",
        "\n",
        "studentInfo = pd.read_csv('/kaggle/input/student-demographics-online-education-dataoulad/studentInfo.csv')\n",
        "studentVle = pd.read_csv('/kaggle/input/student-demographics-online-education-dataoulad/studentVle.csv')\n",
        "studentAssessment = pd.read_csv('/kaggle/input/student-demographics-online-education-dataoulad/studentAssessment.csv')\n",
        "\n",
        "studentVle['week'] = (studentVle['date'] // 7).astype(int)\n",
        "studentAssessment['week'] = (studentAssessment['date_submitted'] // 7).astype(int)\n",
        "clicks_weekly = studentVle.groupby(['id_student', 'week'])['sum_click'].sum().reset_index(name='clicks')\n",
        "submit_weekly = studentAssessment.groupby(['id_student', 'week'])['score'].count().reset_index(name='submit_cnt')\n",
        "score_avg = studentAssessment.groupby(['id_student', 'week'])['score'].mean().reset_index(name='avg_score_sofar')\n",
        "weekly = clicks_weekly.merge(submit_weekly, on=['id_student', 'week'], how='left')\n",
        "weekly = weekly.merge(score_avg, on=['id_student', 'week'], how='left')\n",
        "weekly['submit_cnt'] = weekly['submit_cnt'].fillna(0).astype(int)\n",
        "weekly['avg_score_sofar'] = weekly['avg_score_sofar'].fillna(0)\n",
        "weekly['clicks_diff1'] = weekly.groupby('id_student')['clicks'].diff().fillna(0).astype(int)\n",
        "\n",
        "all_weeks = range(weekly['week'].min(), weekly['week'].max() + 1)\n",
        "def fill_weeks_for_student(df):\n",
        "    sid = df['id_student'].iloc[0]\n",
        "    df2 = df.set_index('week').reindex(all_weeks, fill_value=0).reset_index()\n",
        "    df2['id_student'] = sid\n",
        "    return df2\n",
        "\n",
        "weekly_full = weekly.groupby('id_student', group_keys=False).apply(fill_weeks_for_student).reset_index(drop=True)\n",
        "weekly_full = weekly_full[weekly_full['week'] >= 0]\n",
        "features = ['clicks', 'submit_cnt', 'avg_score_sofar', 'clicks_diff1']\n",
        "\n",
        "# 標準化\n",
        "scaler_stats = {}\n",
        "for col in features:\n",
        "    mu = weekly_full[col].mean()\n",
        "    sigma = weekly_full[col].std() + 1e-9\n",
        "    scaler_stats[col] = (mu, sigma)\n",
        "    weekly_full[col] = (weekly_full[col] - mu) / sigma\n",
        "\n",
        "weekly_full = weekly_full.rename(columns={'id_student':'student_id'})\n",
        "\n",
        "# 建立序列\n",
        "def build_sequences(df, past=PAST_WEEKS, future=FUTURE_WEEKS, feat_cols=features):\n",
        "    sequences = []\n",
        "    for sid, g in df.groupby('student_id'):\n",
        "        g = g.sort_values('week').reset_index(drop=True)\n",
        "        X = g[feat_cols].values\n",
        "        T = X.shape[0]\n",
        "        window = past + future\n",
        "        if T < window: continue\n",
        "        for start in range(0, T - window + 1):\n",
        "            enc = X[start:start+past]\n",
        "            tgt = X[start+past:start+past+future, 0] # 只預測 clicks\n",
        "            sequences.append({'student_id':sid, 'encoder':enc.astype(np.float32), 'target':tgt.astype(np.float32)})\n",
        "    return sequences\n",
        "\n",
        "sequences = build_sequences(weekly_full)\n",
        "student_ids = weekly_full['student_id'].unique()\n",
        "train_ids, test_ids = train_test_split(student_ids, test_size=0.2, random_state=SEED)\n",
        "train_ids, val_ids = train_test_split(train_ids, test_size=0.125, random_state=SEED)\n",
        "\n",
        "def filter_by_ids(seq_list, ids_set):\n",
        "    return [s for s in seq_list if s['student_id'] in ids_set]\n",
        "\n",
        "train_seq = filter_by_ids(sequences, set(train_ids))\n",
        "val_seq = filter_by_ids(sequences, set(val_ids))\n",
        "test_seq = filter_by_ids(sequences, set(test_ids))\n",
        "\n",
        "class SeqDataset(Dataset):\n",
        "    def __init__(self, seqs): self.seqs = seqs\n",
        "    def __len__(self): return len(self.seqs)\n",
        "    def __getitem__(self, idx):\n",
        "        item = self.seqs[idx]\n",
        "        return torch.tensor(item['encoder'], dtype=torch.float32), torch.tensor(item['target'], dtype=torch.float32)\n",
        "\n",
        "train_loader = DataLoader(SeqDataset(train_seq), batch_size=BATCH_SIZE, shuffle=True)\n",
        "val_loader = DataLoader(SeqDataset(val_seq), batch_size=BATCH_SIZE, shuffle=False)\n",
        "test_loader = DataLoader(SeqDataset(test_seq), batch_size=BATCH_SIZE, shuffle=False)\n",
        "\n",
        "# --- 2. 模型定義 ---\n",
        "\n",
        "# VAE 模型 (與您提供的一致)\n",
        "class Seq2SeqVAE(nn.Module):\n",
        "    def __init__(self, input_dim, hidden_dim=HIDDEN_DIM, latent_dim=LATENT_DIM, output_len=FUTURE_WEEKS):\n",
        "        super().__init__()\n",
        "        self.output_len = output_len\n",
        "        self.encoder = nn.LSTM(input_dim, hidden_dim, batch_first=True)\n",
        "        self.fc_mu = nn.Linear(hidden_dim, latent_dim)\n",
        "        self.fc_logvar = nn.Linear(hidden_dim, latent_dim)\n",
        "        self.z_to_hidden = nn.Linear(latent_dim, hidden_dim)\n",
        "        self.z_to_cell = nn.Linear(latent_dim, hidden_dim)\n",
        "        self.decoder_cell = nn.LSTM(input_size=1, hidden_size=hidden_dim, batch_first=True)\n",
        "        self.out_fc = nn.Linear(hidden_dim, 1)\n",
        "\n",
        "    def encode(self, x):\n",
        "        _, (h_n, _) = self.encoder(x)\n",
        "        h = h_n[-1]\n",
        "        return self.fc_mu(h), self.fc_logvar(h)\n",
        "\n",
        "    def reparameterize(self, mu, logvar):\n",
        "        std = torch.exp(0.5 * logvar)\n",
        "        eps = torch.randn_like(std)\n",
        "        return mu + eps * std\n",
        "\n",
        "    def decode(self, z):\n",
        "        batch, device = z.size(0), z.device\n",
        "        h0 = torch.tanh(self.z_to_hidden(z)).unsqueeze(0)\n",
        "        c0 = torch.tanh(self.z_to_cell(z)).unsqueeze(0)\n",
        "        preds = []\n",
        "        dec_input = torch.zeros(batch, 1, 1, device=device)\n",
        "        h, c = h0, c0\n",
        "        for t in range(self.output_len):\n",
        "            out, (h, c) = self.decoder_cell(dec_input, (h, c))\n",
        "            pred = self.out_fc(out)\n",
        "            preds.append(pred.squeeze(-1).squeeze(1))\n",
        "            dec_input = pred.detach()\n",
        "        return torch.stack(preds, dim=1)\n",
        "\n",
        "    def forward(self, x):\n",
        "        mu, logvar = self.encode(x)\n",
        "        z = self.reparameterize(mu, logvar)\n",
        "        recon = self.decode(z)\n",
        "        return recon, mu, logvar\n",
        "\n",
        "# LSTM 模型 (與您提供的一致，稍作修改以適應訓練循環)\n",
        "class Seq2SeqLSTM(nn.Module):\n",
        "    def __init__(self, input_dim=len(features), hidden_dim=HIDDEN_DIM, output_len=FUTURE_WEEKS):\n",
        "        super().__init__()\n",
        "        self.encoder = nn.LSTM(input_dim, hidden_dim, batch_first=True)\n",
        "        self.decoder = nn.LSTM(1, hidden_dim, batch_first=True)\n",
        "        self.fc = nn.Linear(hidden_dim, 1)\n",
        "        self.output_len = output_len\n",
        "\n",
        "    def forward(self, x):\n",
        "        batch_size, device = x.size(0), x.device\n",
        "        _, (h, c) = self.encoder(x)\n",
        "        dec_input = torch.zeros(batch_size, 1, 1, device=device)\n",
        "        outputs = []\n",
        "        for t in range(self.output_len):\n",
        "            out, (h, c) = self.decoder(dec_input, (h, c))\n",
        "            pred = self.fc(out)\n",
        "            outputs.append(pred)\n",
        "            dec_input = pred.detach() # Inference\n",
        "        return torch.cat(outputs, dim=1).squeeze(-1)\n",
        "\n",
        "\n",
        "# --- 3. 訓練兩個模型 ---\n",
        "\n",
        "# 訓練 VAE\n",
        "print(\"\\n--- Training Seq2Seq VAE ---\")\n",
        "vae_model = Seq2SeqVAE(input_dim=len(features)).to(DEVICE)\n",
        "vae_optimizer = torch.optim.Adam(vae_model.parameters(), lr=LR)\n",
        "mse_loss = nn.MSELoss(reduction='mean')\n",
        "\n",
        "def vae_loss_fn(recon, target, mu, logvar, beta=BETA):\n",
        "    recon_loss = mse_loss(recon, target)\n",
        "    kld = -0.5 * torch.mean(1 + logvar - mu.pow(2) - logvar.exp())\n",
        "    return recon_loss + beta * kld, recon_loss.detach().item()\n",
        "\n",
        "best_val_loss_vae = float('inf')\n",
        "for epoch in range(1, EPOCHS + 1):\n",
        "    vae_model.train()\n",
        "    for X, y in train_loader:\n",
        "        X, y = X.to(DEVICE), y.to(DEVICE)\n",
        "        vae_optimizer.zero_grad()\n",
        "        recon, mu, logvar = vae_model(X)\n",
        "        loss, _ = vae_loss_fn(recon, y, mu, logvar)\n",
        "        loss.backward()\n",
        "        vae_optimizer.step()\n",
        "\n",
        "    vae_model.eval()\n",
        "    val_loss = 0\n",
        "    with torch.no_grad():\n",
        "        for Xv, yv in val_loader:\n",
        "            Xv, yv = Xv.to(DEVICE), yv.to(DEVICE)\n",
        "            recon_v, mu_v, logvar_v = vae_model(Xv)\n",
        "            loss_v, _ = vae_loss_fn(recon_v, yv, mu_v, logvar_v)\n",
        "            val_loss += loss_v.item() * Xv.size(0)\n",
        "    val_loss /= len(val_loader.dataset)\n",
        "\n",
        "    if (epoch % 10 == 0) or (epoch == EPOCHS):\n",
        "        print(f\"VAE Epoch {epoch}/{EPOCHS}, Val Loss: {val_loss:.4f}\")\n",
        "\n",
        "    if val_loss < best_val_loss_vae:\n",
        "        best_val_loss_vae = val_loss\n",
        "        torch.save(vae_model.state_dict(), 'best_seq2seq_vae.pth')\n",
        "\n",
        "# 訓練 LSTM\n",
        "print(\"\\n--- Training Seq2Seq LSTM ---\")\n",
        "lstm_model = Seq2SeqLSTM().to(DEVICE)\n",
        "lstm_optimizer = torch.optim.Adam(lstm_model.parameters(), lr=LR)\n",
        "lstm_criterion = nn.MSELoss()\n",
        "\n",
        "best_val_loss_lstm = float('inf')\n",
        "for epoch in range(1, EPOCHS + 1):\n",
        "    lstm_model.train()\n",
        "    for X, y in train_loader:\n",
        "        X, y = X.to(DEVICE), y.to(DEVICE)\n",
        "        lstm_optimizer.zero_grad()\n",
        "        pred = lstm_model(X)\n",
        "        loss = lstm_criterion(pred, y)\n",
        "        loss.backward()\n",
        "        lstm_optimizer.step()\n",
        "\n",
        "    lstm_model.eval()\n",
        "    val_loss = 0\n",
        "    with torch.no_grad():\n",
        "        for Xv, yv in val_loader:\n",
        "            Xv, yv = Xv.to(DEVICE), yv.to(DEVICE)\n",
        "            pred_v = lstm_model(Xv)\n",
        "            loss_v = lstm_criterion(pred_v, yv)\n",
        "            val_loss += loss_v.item() * Xv.size(0)\n",
        "    val_loss /= len(val_loader.dataset)\n",
        "\n",
        "    if (epoch % 10 == 0) or (epoch == EPOCHS):\n",
        "      print(f\"LSTM Epoch {epoch}/{EPOCHS}, Val Loss: {val_loss:.4f}\")\n",
        "\n",
        "    if val_loss < best_val_loss_lstm:\n",
        "        best_val_loss_lstm = val_loss\n",
        "        torch.save(lstm_model.state_dict(), 'best_seq2seq_lstm.pth')\n",
        "\n",
        "# --- 4. 評估與生成比較表格 ---\n",
        "print(\"\\n--- Evaluating models and generating comparison table ---\")\n",
        "\n",
        "# 載入最佳模型\n",
        "vae_model.load_state_dict(torch.load('best_seq2seq_vae.pth', map_location=DEVICE))\n",
        "lstm_model.load_state_dict(torch.load('best_seq2seq_lstm.pth', map_location=DEVICE))\n",
        "vae_model.eval()\n",
        "lstm_model.eval()\n",
        "\n",
        "# 點擊數的反標準化參數\n",
        "clicks_mu, clicks_sigma = scaler_stats['clicks']\n",
        "\n",
        "results = []\n",
        "original_indices = test_loader.dataset.seqs # 取得原始序列的 reference\n",
        "\n",
        "with torch.no_grad():\n",
        "    for i, (Xtest, ytest) in enumerate(tqdm(test_loader, desc='Comparing on Test Set')):\n",
        "        Xtest, ytest = Xtest.to(DEVICE), ytest.to(DEVICE)\n",
        "        batch_size = Xtest.size(0)\n",
        "\n",
        "        # 1. 取得 LSTM 預測\n",
        "        y_pred_lstm = lstm_model(Xtest)\n",
        "\n",
        "        # 2. 取得 VAE 多個樣本預測\n",
        "        mu, logvar = vae_model.encode(Xtest)\n",
        "        samples = []\n",
        "        for _ in range(N_SAMPLES):\n",
        "            z = vae_model.reparameterize(mu, logvar)\n",
        "            pred = vae_model.decode(z)\n",
        "            samples.append(pred)\n",
        "        samples = torch.stack(samples, dim=0) # [N, batch, future_len]\n",
        "\n",
        "        # 逐一樣本計算指標\n",
        "        for b in range(batch_size):\n",
        "            # 取得標準化後的真實值與預測值\n",
        "            true_std = ytest[b]\n",
        "            lstm_pred_std = y_pred_lstm[b]\n",
        "            vae_samples_std = samples[:, b, :] # [N, future_len]\n",
        "\n",
        "            # 反標準化\n",
        "            true_orig = true_std.cpu().numpy() * clicks_sigma + clicks_mu\n",
        "            lstm_pred_orig = lstm_pred_std.cpu().numpy() * clicks_sigma + clicks_mu\n",
        "            vae_samples_orig = vae_samples_std.cpu().numpy() * clicks_sigma + clicks_mu\n",
        "\n",
        "            # 計算 LSTM MSE (在原始尺度上)\n",
        "            lstm_mse = np.mean((lstm_pred_orig - true_orig)**2)\n",
        "\n",
        "            # 計算 VAE Best-of-N MSE (在原始尺度上)\n",
        "            mse_per_sample = np.mean((vae_samples_orig - true_orig[np.newaxis, :])**2, axis=1)\n",
        "            best_mse_idx = np.argmin(mse_per_sample)\n",
        "            vae_best_mse = mse_per_sample[best_mse_idx]\n",
        "            vae_best_pred_orig = vae_samples_orig[best_mse_idx]\n",
        "\n",
        "            # 計算 VAE Diversity (在原始尺度上)\n",
        "            diversity_std = np.mean(np.std(vae_samples_orig, axis=0))\n",
        "\n",
        "            # 取得原始資料索引\n",
        "            original_idx = i * BATCH_SIZE + b\n",
        "\n",
        "            results.append({\n",
        "                'idx': original_idx,\n",
        "                'LSTM_MSE': lstm_mse,\n",
        "                'VAE_best_MSE': vae_best_mse,\n",
        "                'd(LSTM-VAE)': lstm_mse - vae_best_mse,\n",
        "                'y_true': true_orig,\n",
        "                'y_LSTM': lstm_pred_orig,\n",
        "                'y_VAE_best': vae_best_pred_orig,\n",
        "                'Diversity_std': diversity_std\n",
        "            })\n",
        "\n",
        "# 轉換為 DataFrame 並排序\n",
        "results_df = pd.DataFrame(results)\n",
        "results_df_sorted = results_df.sort_values(by='d(LSTM-VAE)', ascending=False).reset_index(drop=True)\n",
        "\n",
        "# 格式化輸出\n",
        "pd.set_option('display.float_format', lambda x: f'{x:.6f}')\n",
        "print(\"\\n=== Top-5 Regressed (VAE best >> LSTM) ===\")\n",
        "display(results_df_sorted.head(5))"
      ],
      "metadata": {
        "colab": {
          "base_uri": "https://localhost:8080/",
          "height": 625
        },
        "id": "SEBOugtRjPPR",
        "outputId": "8f1b079e-65f6-491b-97ce-7ab8cfe42de7"
      },
      "execution_count": 25,
      "outputs": [
        {
          "output_type": "stream",
          "name": "stdout",
          "text": [
            "Device: cuda\n"
          ]
        },
        {
          "output_type": "stream",
          "name": "stderr",
          "text": [
            "/tmp/ipython-input-1216216188.py:61: DeprecationWarning: DataFrameGroupBy.apply operated on the grouping columns. This behavior is deprecated, and in a future version of pandas the grouping columns will be excluded from the operation. Either pass `include_groups=False` to exclude the groupings or explicitly select the grouping columns after groupby to silence this warning.\n",
            "  weekly_full = weekly.groupby('id_student', group_keys=False).apply(fill_weeks_for_student).reset_index(drop=True)\n"
          ]
        },
        {
          "output_type": "stream",
          "name": "stdout",
          "text": [
            "\n",
            "--- Training Seq2Seq VAE ---\n",
            "VAE Epoch 10/30, Val Loss: 0.6614\n",
            "VAE Epoch 20/30, Val Loss: 0.6772\n",
            "VAE Epoch 30/30, Val Loss: 0.6799\n",
            "\n",
            "--- Training Seq2Seq LSTM ---\n",
            "LSTM Epoch 10/30, Val Loss: 0.6634\n",
            "LSTM Epoch 20/30, Val Loss: 0.6751\n",
            "LSTM Epoch 30/30, Val Loss: 0.6864\n",
            "\n",
            "--- Evaluating models and generating comparison table ---\n"
          ]
        },
        {
          "output_type": "stream",
          "name": "stderr",
          "text": [
            "Comparing on Test Set: 100%|██████████| 1386/1386 [01:07<00:00, 20.41it/s]\n"
          ]
        },
        {
          "output_type": "stream",
          "name": "stdout",
          "text": [
            "\n",
            "=== Top-5 Regressed (VAE best >> LSTM) ===\n"
          ]
        },
        {
          "output_type": "display_data",
          "data": {
            "text/plain": [
              "      idx       LSTM_MSE   VAE_best_MSE   d(LSTM-VAE)  \\\n",
              "0  140097 1195632.759637  969803.132630 225829.627008   \n",
              "1  164169 1773276.692592 1571332.422342 201944.270250   \n",
              "2  164168 1441531.840012 1244351.005075 197180.834937   \n",
              "3  164170  616639.439364  483830.953719 132808.485645   \n",
              "4  140098  443602.209288  338146.484588 105455.724700   \n",
              "\n",
              "                                     y_true  \\\n",
              "0  [1533.9999485182466, 1610.9999485182466]   \n",
              "1   [1790.000070588559, 1721.9999485182466]   \n",
              "2   [1068.9999485182466, 1790.000070588559]   \n",
              "3    [1721.9999485182466, 603.000009553403]   \n",
              "4    [1610.9999485182466, 573.000009553403]   \n",
              "\n",
              "                                    y_LSTM  \\\n",
              "0   [538.0370578932467, 428.0699253248873]   \n",
              "1  [501.8880100416842, 348.20203592059045]   \n",
              "2  [341.44275857684045, 255.8148746657076]   \n",
              "3   [623.5976047682467, 439.3199253248873]   \n",
              "4   [672.7241916823092, 490.2774448561373]   \n",
              "\n",
              "                                y_VAE_best  Diversity_std  \n",
              "0   [694.9848117994967, 499.3975620436373]       4.047153  \n",
              "1  [592.1806125807467, 415.13599588152795]       9.639763  \n",
              "2   [445.9383030104342, 340.6912021803561]       7.623533  \n",
              "3    [742.735605256528, 509.7087803053561]       4.601594  \n",
              "4   [789.1807956862154, 542.8960361647311]       1.881926  "
            ],
            "text/html": [
              "\n",
              "  <div id=\"df-a7968e56-f9f5-4094-bde8-23ab8756b508\" class=\"colab-df-container\">\n",
              "    <div>\n",
              "<style scoped>\n",
              "    .dataframe tbody tr th:only-of-type {\n",
              "        vertical-align: middle;\n",
              "    }\n",
              "\n",
              "    .dataframe tbody tr th {\n",
              "        vertical-align: top;\n",
              "    }\n",
              "\n",
              "    .dataframe thead th {\n",
              "        text-align: right;\n",
              "    }\n",
              "</style>\n",
              "<table border=\"1\" class=\"dataframe\">\n",
              "  <thead>\n",
              "    <tr style=\"text-align: right;\">\n",
              "      <th></th>\n",
              "      <th>idx</th>\n",
              "      <th>LSTM_MSE</th>\n",
              "      <th>VAE_best_MSE</th>\n",
              "      <th>d(LSTM-VAE)</th>\n",
              "      <th>y_true</th>\n",
              "      <th>y_LSTM</th>\n",
              "      <th>y_VAE_best</th>\n",
              "      <th>Diversity_std</th>\n",
              "    </tr>\n",
              "  </thead>\n",
              "  <tbody>\n",
              "    <tr>\n",
              "      <th>0</th>\n",
              "      <td>140097</td>\n",
              "      <td>1195632.759637</td>\n",
              "      <td>969803.132630</td>\n",
              "      <td>225829.627008</td>\n",
              "      <td>[1533.9999485182466, 1610.9999485182466]</td>\n",
              "      <td>[538.0370578932467, 428.0699253248873]</td>\n",
              "      <td>[694.9848117994967, 499.3975620436373]</td>\n",
              "      <td>4.047153</td>\n",
              "    </tr>\n",
              "    <tr>\n",
              "      <th>1</th>\n",
              "      <td>164169</td>\n",
              "      <td>1773276.692592</td>\n",
              "      <td>1571332.422342</td>\n",
              "      <td>201944.270250</td>\n",
              "      <td>[1790.000070588559, 1721.9999485182466]</td>\n",
              "      <td>[501.8880100416842, 348.20203592059045]</td>\n",
              "      <td>[592.1806125807467, 415.13599588152795]</td>\n",
              "      <td>9.639763</td>\n",
              "    </tr>\n",
              "    <tr>\n",
              "      <th>2</th>\n",
              "      <td>164168</td>\n",
              "      <td>1441531.840012</td>\n",
              "      <td>1244351.005075</td>\n",
              "      <td>197180.834937</td>\n",
              "      <td>[1068.9999485182466, 1790.000070588559]</td>\n",
              "      <td>[341.44275857684045, 255.8148746657076]</td>\n",
              "      <td>[445.9383030104342, 340.6912021803561]</td>\n",
              "      <td>7.623533</td>\n",
              "    </tr>\n",
              "    <tr>\n",
              "      <th>3</th>\n",
              "      <td>164170</td>\n",
              "      <td>616639.439364</td>\n",
              "      <td>483830.953719</td>\n",
              "      <td>132808.485645</td>\n",
              "      <td>[1721.9999485182466, 603.000009553403]</td>\n",
              "      <td>[623.5976047682467, 439.3199253248873]</td>\n",
              "      <td>[742.735605256528, 509.7087803053561]</td>\n",
              "      <td>4.601594</td>\n",
              "    </tr>\n",
              "    <tr>\n",
              "      <th>4</th>\n",
              "      <td>140098</td>\n",
              "      <td>443602.209288</td>\n",
              "      <td>338146.484588</td>\n",
              "      <td>105455.724700</td>\n",
              "      <td>[1610.9999485182466, 573.000009553403]</td>\n",
              "      <td>[672.7241916823092, 490.2774448561373]</td>\n",
              "      <td>[789.1807956862154, 542.8960361647311]</td>\n",
              "      <td>1.881926</td>\n",
              "    </tr>\n",
              "  </tbody>\n",
              "</table>\n",
              "</div>\n",
              "    <div class=\"colab-df-buttons\">\n",
              "\n",
              "  <div class=\"colab-df-container\">\n",
              "    <button class=\"colab-df-convert\" onclick=\"convertToInteractive('df-a7968e56-f9f5-4094-bde8-23ab8756b508')\"\n",
              "            title=\"Convert this dataframe to an interactive table.\"\n",
              "            style=\"display:none;\">\n",
              "\n",
              "  <svg xmlns=\"http://www.w3.org/2000/svg\" height=\"24px\" viewBox=\"0 -960 960 960\">\n",
              "    <path d=\"M120-120v-720h720v720H120Zm60-500h600v-160H180v160Zm220 220h160v-160H400v160Zm0 220h160v-160H400v160ZM180-400h160v-160H180v160Zm440 0h160v-160H620v160ZM180-180h160v-160H180v160Zm440 0h160v-160H620v160Z\"/>\n",
              "  </svg>\n",
              "    </button>\n",
              "\n",
              "  <style>\n",
              "    .colab-df-container {\n",
              "      display:flex;\n",
              "      gap: 12px;\n",
              "    }\n",
              "\n",
              "    .colab-df-convert {\n",
              "      background-color: #E8F0FE;\n",
              "      border: none;\n",
              "      border-radius: 50%;\n",
              "      cursor: pointer;\n",
              "      display: none;\n",
              "      fill: #1967D2;\n",
              "      height: 32px;\n",
              "      padding: 0 0 0 0;\n",
              "      width: 32px;\n",
              "    }\n",
              "\n",
              "    .colab-df-convert:hover {\n",
              "      background-color: #E2EBFA;\n",
              "      box-shadow: 0px 1px 2px rgba(60, 64, 67, 0.3), 0px 1px 3px 1px rgba(60, 64, 67, 0.15);\n",
              "      fill: #174EA6;\n",
              "    }\n",
              "\n",
              "    .colab-df-buttons div {\n",
              "      margin-bottom: 4px;\n",
              "    }\n",
              "\n",
              "    [theme=dark] .colab-df-convert {\n",
              "      background-color: #3B4455;\n",
              "      fill: #D2E3FC;\n",
              "    }\n",
              "\n",
              "    [theme=dark] .colab-df-convert:hover {\n",
              "      background-color: #434B5C;\n",
              "      box-shadow: 0px 1px 3px 1px rgba(0, 0, 0, 0.15);\n",
              "      filter: drop-shadow(0px 1px 2px rgba(0, 0, 0, 0.3));\n",
              "      fill: #FFFFFF;\n",
              "    }\n",
              "  </style>\n",
              "\n",
              "    <script>\n",
              "      const buttonEl =\n",
              "        document.querySelector('#df-a7968e56-f9f5-4094-bde8-23ab8756b508 button.colab-df-convert');\n",
              "      buttonEl.style.display =\n",
              "        google.colab.kernel.accessAllowed ? 'block' : 'none';\n",
              "\n",
              "      async function convertToInteractive(key) {\n",
              "        const element = document.querySelector('#df-a7968e56-f9f5-4094-bde8-23ab8756b508');\n",
              "        const dataTable =\n",
              "          await google.colab.kernel.invokeFunction('convertToInteractive',\n",
              "                                                    [key], {});\n",
              "        if (!dataTable) return;\n",
              "\n",
              "        const docLinkHtml = 'Like what you see? Visit the ' +\n",
              "          '<a target=\"_blank\" href=https://colab.research.google.com/notebooks/data_table.ipynb>data table notebook</a>'\n",
              "          + ' to learn more about interactive tables.';\n",
              "        element.innerHTML = '';\n",
              "        dataTable['output_type'] = 'display_data';\n",
              "        await google.colab.output.renderOutput(dataTable, element);\n",
              "        const docLink = document.createElement('div');\n",
              "        docLink.innerHTML = docLinkHtml;\n",
              "        element.appendChild(docLink);\n",
              "      }\n",
              "    </script>\n",
              "  </div>\n",
              "\n",
              "\n",
              "    <div id=\"df-1afb5841-28b6-44fe-8f38-0a7079b48294\">\n",
              "      <button class=\"colab-df-quickchart\" onclick=\"quickchart('df-1afb5841-28b6-44fe-8f38-0a7079b48294')\"\n",
              "                title=\"Suggest charts\"\n",
              "                style=\"display:none;\">\n",
              "\n",
              "<svg xmlns=\"http://www.w3.org/2000/svg\" height=\"24px\"viewBox=\"0 0 24 24\"\n",
              "     width=\"24px\">\n",
              "    <g>\n",
              "        <path d=\"M19 3H5c-1.1 0-2 .9-2 2v14c0 1.1.9 2 2 2h14c1.1 0 2-.9 2-2V5c0-1.1-.9-2-2-2zM9 17H7v-7h2v7zm4 0h-2V7h2v10zm4 0h-2v-4h2v4z\"/>\n",
              "    </g>\n",
              "</svg>\n",
              "      </button>\n",
              "\n",
              "<style>\n",
              "  .colab-df-quickchart {\n",
              "      --bg-color: #E8F0FE;\n",
              "      --fill-color: #1967D2;\n",
              "      --hover-bg-color: #E2EBFA;\n",
              "      --hover-fill-color: #174EA6;\n",
              "      --disabled-fill-color: #AAA;\n",
              "      --disabled-bg-color: #DDD;\n",
              "  }\n",
              "\n",
              "  [theme=dark] .colab-df-quickchart {\n",
              "      --bg-color: #3B4455;\n",
              "      --fill-color: #D2E3FC;\n",
              "      --hover-bg-color: #434B5C;\n",
              "      --hover-fill-color: #FFFFFF;\n",
              "      --disabled-bg-color: #3B4455;\n",
              "      --disabled-fill-color: #666;\n",
              "  }\n",
              "\n",
              "  .colab-df-quickchart {\n",
              "    background-color: var(--bg-color);\n",
              "    border: none;\n",
              "    border-radius: 50%;\n",
              "    cursor: pointer;\n",
              "    display: none;\n",
              "    fill: var(--fill-color);\n",
              "    height: 32px;\n",
              "    padding: 0;\n",
              "    width: 32px;\n",
              "  }\n",
              "\n",
              "  .colab-df-quickchart:hover {\n",
              "    background-color: var(--hover-bg-color);\n",
              "    box-shadow: 0 1px 2px rgba(60, 64, 67, 0.3), 0 1px 3px 1px rgba(60, 64, 67, 0.15);\n",
              "    fill: var(--button-hover-fill-color);\n",
              "  }\n",
              "\n",
              "  .colab-df-quickchart-complete:disabled,\n",
              "  .colab-df-quickchart-complete:disabled:hover {\n",
              "    background-color: var(--disabled-bg-color);\n",
              "    fill: var(--disabled-fill-color);\n",
              "    box-shadow: none;\n",
              "  }\n",
              "\n",
              "  .colab-df-spinner {\n",
              "    border: 2px solid var(--fill-color);\n",
              "    border-color: transparent;\n",
              "    border-bottom-color: var(--fill-color);\n",
              "    animation:\n",
              "      spin 1s steps(1) infinite;\n",
              "  }\n",
              "\n",
              "  @keyframes spin {\n",
              "    0% {\n",
              "      border-color: transparent;\n",
              "      border-bottom-color: var(--fill-color);\n",
              "      border-left-color: var(--fill-color);\n",
              "    }\n",
              "    20% {\n",
              "      border-color: transparent;\n",
              "      border-left-color: var(--fill-color);\n",
              "      border-top-color: var(--fill-color);\n",
              "    }\n",
              "    30% {\n",
              "      border-color: transparent;\n",
              "      border-left-color: var(--fill-color);\n",
              "      border-top-color: var(--fill-color);\n",
              "      border-right-color: var(--fill-color);\n",
              "    }\n",
              "    40% {\n",
              "      border-color: transparent;\n",
              "      border-right-color: var(--fill-color);\n",
              "      border-top-color: var(--fill-color);\n",
              "    }\n",
              "    60% {\n",
              "      border-color: transparent;\n",
              "      border-right-color: var(--fill-color);\n",
              "    }\n",
              "    80% {\n",
              "      border-color: transparent;\n",
              "      border-right-color: var(--fill-color);\n",
              "      border-bottom-color: var(--fill-color);\n",
              "    }\n",
              "    90% {\n",
              "      border-color: transparent;\n",
              "      border-bottom-color: var(--fill-color);\n",
              "    }\n",
              "  }\n",
              "</style>\n",
              "\n",
              "      <script>\n",
              "        async function quickchart(key) {\n",
              "          const quickchartButtonEl =\n",
              "            document.querySelector('#' + key + ' button');\n",
              "          quickchartButtonEl.disabled = true;  // To prevent multiple clicks.\n",
              "          quickchartButtonEl.classList.add('colab-df-spinner');\n",
              "          try {\n",
              "            const charts = await google.colab.kernel.invokeFunction(\n",
              "                'suggestCharts', [key], {});\n",
              "          } catch (error) {\n",
              "            console.error('Error during call to suggestCharts:', error);\n",
              "          }\n",
              "          quickchartButtonEl.classList.remove('colab-df-spinner');\n",
              "          quickchartButtonEl.classList.add('colab-df-quickchart-complete');\n",
              "        }\n",
              "        (() => {\n",
              "          let quickchartButtonEl =\n",
              "            document.querySelector('#df-1afb5841-28b6-44fe-8f38-0a7079b48294 button');\n",
              "          quickchartButtonEl.style.display =\n",
              "            google.colab.kernel.accessAllowed ? 'block' : 'none';\n",
              "        })();\n",
              "      </script>\n",
              "    </div>\n",
              "\n",
              "    </div>\n",
              "  </div>\n"
            ],
            "application/vnd.google.colaboratory.intrinsic+json": {
              "type": "dataframe",
              "summary": "{\n  \"name\": \"display(results_df_sorted\",\n  \"rows\": 5,\n  \"fields\": [\n    {\n      \"column\": \"idx\",\n      \"properties\": {\n        \"dtype\": \"number\",\n        \"std\": 13184,\n        \"min\": 140097,\n        \"max\": 164170,\n        \"num_unique_values\": 5,\n        \"samples\": [\n          164169,\n          140098,\n          164168\n        ],\n        \"semantic_type\": \"\",\n        \"description\": \"\"\n      }\n    },\n    {\n      \"column\": \"LSTM_MSE\",\n      \"properties\": {\n        \"dtype\": \"number\",\n        \"std\": 557542.5366024036,\n        \"min\": 443602.2092880722,\n        \"max\": 1773276.6925919969,\n        \"num_unique_values\": 5,\n        \"samples\": [\n          1773276.6925919969,\n          443602.2092880722,\n          1441531.8400121368\n        ],\n        \"semantic_type\": \"\",\n        \"description\": \"\"\n      }\n    },\n    {\n      \"column\": \"VAE_best_MSE\",\n      \"properties\": {\n        \"dtype\": \"number\",\n        \"std\": 514952.34220827377,\n        \"min\": 338146.4845876716,\n        \"max\": 1571332.4223416988,\n        \"num_unique_values\": 5,\n        \"samples\": [\n          1571332.4223416988,\n          338146.4845876716,\n          1244351.0050747846\n        ],\n        \"semantic_type\": \"\",\n        \"description\": \"\"\n      }\n    },\n    {\n      \"column\": \"d(LSTM-VAE)\",\n      \"properties\": {\n        \"dtype\": \"number\",\n        \"std\": 50966.669420082515,\n        \"min\": 105455.7247004006,\n        \"max\": 225829.62700755906,\n        \"num_unique_values\": 5,\n        \"samples\": [\n          201944.27025029808,\n          105455.7247004006,\n          197180.83493735222\n        ],\n        \"semantic_type\": \"\",\n        \"description\": \"\"\n      }\n    },\n    {\n      \"column\": \"y_true\",\n      \"properties\": {\n        \"dtype\": \"object\",\n        \"semantic_type\": \"\",\n        \"description\": \"\"\n      }\n    },\n    {\n      \"column\": \"y_LSTM\",\n      \"properties\": {\n        \"dtype\": \"object\",\n        \"semantic_type\": \"\",\n        \"description\": \"\"\n      }\n    },\n    {\n      \"column\": \"y_VAE_best\",\n      \"properties\": {\n        \"dtype\": \"object\",\n        \"semantic_type\": \"\",\n        \"description\": \"\"\n      }\n    },\n    {\n      \"column\": \"Diversity_std\",\n      \"properties\": {\n        \"dtype\": \"number\",\n        \"std\": 3.0674950553699136,\n        \"min\": 1.8819258050609111,\n        \"max\": 9.639762599655658,\n        \"num_unique_values\": 5,\n        \"samples\": [\n          9.639762599655658,\n          1.8819258050609111,\n          7.623533268264451\n        ],\n        \"semantic_type\": \"\",\n        \"description\": \"\"\n      }\n    }\n  ]\n}"
            }
          },
          "metadata": {}
        }
      ]
    }
  ],
  "metadata": {
    "colab": {
      "provenance": [],
      "gpuType": "T4",
      "authorship_tag": "ABX9TyNN1YGeptvi6GxZo4LVfJ9P",
      "include_colab_link": true
    },
    "kernelspec": {
      "display_name": "Python 3",
      "name": "python3"
    },
    "language_info": {
      "name": "python"
    },
    "accelerator": "GPU"
  },
  "nbformat": 4,
  "nbformat_minor": 0
}